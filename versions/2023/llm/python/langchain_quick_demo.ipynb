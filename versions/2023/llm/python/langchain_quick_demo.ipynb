{
 "cells": [
  {
   "cell_type": "markdown",
   "id": "129d7c07",
   "metadata": {},
   "source": [
    "### LangChain and OpenAI LLM Quick Demo\n",
    "\n",
    "This demo showcases how to use LangChain to build useful large language model applications. LangChain is a framework that allows us to interact with Large Language Models (LLMs) like OpenAI GPTs.\n",
    "\n",
    "First, install the required modules."
   ]
  },
  {
   "cell_type": "code",
   "execution_count": 17,
   "id": "bc9a593b",
   "metadata": {},
   "outputs": [
    {
     "name": "stdout",
     "output_type": "stream",
     "text": [
      "Requirement already satisfied: langchain in /Users/rowel/anaconda3/envs/llm/lib/python3.10/site-packages (0.0.109)\n",
      "Collecting langchain\n",
      "  Downloading langchain-0.0.113-py3-none-any.whl (396 kB)\n",
      "\u001b[2K     \u001b[90m━━━━━━━━━━━━━━━━━━━━━━━━━━━━━━━━━━━━━━━\u001b[0m \u001b[32m396.0/396.0 kB\u001b[0m \u001b[31m5.2 MB/s\u001b[0m eta \u001b[36m0:00:00\u001b[0ma \u001b[36m0:00:01\u001b[0m\n",
      "\u001b[?25hRequirement already satisfied: dataclasses-json<0.6.0,>=0.5.7 in /Users/rowel/anaconda3/envs/llm/lib/python3.10/site-packages (from langchain) (0.5.7)\n",
      "Requirement already satisfied: pydantic<2,>=1 in /Users/rowel/anaconda3/envs/llm/lib/python3.10/site-packages (from langchain) (1.10.5)\n",
      "Requirement already satisfied: tenacity<9.0.0,>=8.1.0 in /Users/rowel/anaconda3/envs/llm/lib/python3.10/site-packages (from langchain) (8.2.2)\n",
      "Requirement already satisfied: PyYAML<7,>=6 in /Users/rowel/anaconda3/envs/llm/lib/python3.10/site-packages (from langchain) (6.0)\n",
      "Requirement already satisfied: aiohttp<4.0.0,>=3.8.3 in /Users/rowel/anaconda3/envs/llm/lib/python3.10/site-packages (from langchain) (3.8.4)\n",
      "Requirement already satisfied: SQLAlchemy<2,>=1 in /Users/rowel/anaconda3/envs/llm/lib/python3.10/site-packages (from langchain) (1.4.46)\n",
      "Requirement already satisfied: numpy<2,>=1 in /Users/rowel/anaconda3/envs/llm/lib/python3.10/site-packages (from langchain) (1.24.2)\n",
      "Requirement already satisfied: requests<3,>=2 in /Users/rowel/anaconda3/envs/llm/lib/python3.10/site-packages (from langchain) (2.28.2)\n",
      "Requirement already satisfied: attrs>=17.3.0 in /Users/rowel/anaconda3/envs/llm/lib/python3.10/site-packages (from aiohttp<4.0.0,>=3.8.3->langchain) (22.2.0)\n",
      "Requirement already satisfied: frozenlist>=1.1.1 in /Users/rowel/anaconda3/envs/llm/lib/python3.10/site-packages (from aiohttp<4.0.0,>=3.8.3->langchain) (1.3.3)\n",
      "Requirement already satisfied: charset-normalizer<4.0,>=2.0 in /Users/rowel/anaconda3/envs/llm/lib/python3.10/site-packages (from aiohttp<4.0.0,>=3.8.3->langchain) (3.0.1)\n",
      "Requirement already satisfied: multidict<7.0,>=4.5 in /Users/rowel/anaconda3/envs/llm/lib/python3.10/site-packages (from aiohttp<4.0.0,>=3.8.3->langchain) (6.0.4)\n",
      "Requirement already satisfied: yarl<2.0,>=1.0 in /Users/rowel/anaconda3/envs/llm/lib/python3.10/site-packages (from aiohttp<4.0.0,>=3.8.3->langchain) (1.8.2)\n",
      "Requirement already satisfied: async-timeout<5.0,>=4.0.0a3 in /Users/rowel/anaconda3/envs/llm/lib/python3.10/site-packages (from aiohttp<4.0.0,>=3.8.3->langchain) (4.0.2)\n",
      "Requirement already satisfied: aiosignal>=1.1.2 in /Users/rowel/anaconda3/envs/llm/lib/python3.10/site-packages (from aiohttp<4.0.0,>=3.8.3->langchain) (1.3.1)\n",
      "Requirement already satisfied: marshmallow-enum<2.0.0,>=1.5.1 in /Users/rowel/anaconda3/envs/llm/lib/python3.10/site-packages (from dataclasses-json<0.6.0,>=0.5.7->langchain) (1.5.1)\n",
      "Requirement already satisfied: typing-inspect>=0.4.0 in /Users/rowel/anaconda3/envs/llm/lib/python3.10/site-packages (from dataclasses-json<0.6.0,>=0.5.7->langchain) (0.8.0)\n",
      "Requirement already satisfied: marshmallow<4.0.0,>=3.3.0 in /Users/rowel/anaconda3/envs/llm/lib/python3.10/site-packages (from dataclasses-json<0.6.0,>=0.5.7->langchain) (3.19.0)\n",
      "Requirement already satisfied: typing-extensions>=4.2.0 in /Users/rowel/anaconda3/envs/llm/lib/python3.10/site-packages (from pydantic<2,>=1->langchain) (4.5.0)\n",
      "Requirement already satisfied: certifi>=2017.4.17 in /Users/rowel/anaconda3/envs/llm/lib/python3.10/site-packages (from requests<3,>=2->langchain) (2022.12.7)\n",
      "Requirement already satisfied: idna<4,>=2.5 in /Users/rowel/anaconda3/envs/llm/lib/python3.10/site-packages (from requests<3,>=2->langchain) (3.4)\n",
      "Requirement already satisfied: urllib3<1.27,>=1.21.1 in /Users/rowel/anaconda3/envs/llm/lib/python3.10/site-packages (from requests<3,>=2->langchain) (1.26.14)\n",
      "Requirement already satisfied: greenlet!=0.4.17 in /Users/rowel/anaconda3/envs/llm/lib/python3.10/site-packages (from SQLAlchemy<2,>=1->langchain) (2.0.2)\n",
      "Requirement already satisfied: packaging>=17.0 in /Users/rowel/anaconda3/envs/llm/lib/python3.10/site-packages (from marshmallow<4.0.0,>=3.3.0->dataclasses-json<0.6.0,>=0.5.7->langchain) (23.0)\n",
      "Requirement already satisfied: mypy-extensions>=0.3.0 in /Users/rowel/anaconda3/envs/llm/lib/python3.10/site-packages (from typing-inspect>=0.4.0->dataclasses-json<0.6.0,>=0.5.7->langchain) (1.0.0)\n",
      "Installing collected packages: langchain\n",
      "  Attempting uninstall: langchain\n",
      "    Found existing installation: langchain 0.0.109\n",
      "    Uninstalling langchain-0.0.109:\n",
      "      Successfully uninstalled langchain-0.0.109\n",
      "Successfully installed langchain-0.0.113\n",
      "Requirement already satisfied: openai in /Users/rowel/anaconda3/envs/llm/lib/python3.10/site-packages (0.27.0)\n",
      "Collecting openai\n",
      "  Downloading openai-0.27.2-py3-none-any.whl (70 kB)\n",
      "\u001b[2K     \u001b[90m━━━━━━━━━━━━━━━━━━━━━━━━━━━━━━━━━━━━━━━━\u001b[0m \u001b[32m70.1/70.1 kB\u001b[0m \u001b[31m1.7 MB/s\u001b[0m eta \u001b[36m0:00:00\u001b[0ma \u001b[36m0:00:01\u001b[0m\n",
      "\u001b[?25hRequirement already satisfied: tqdm in /Users/rowel/anaconda3/envs/llm/lib/python3.10/site-packages (from openai) (4.65.0)\n",
      "Requirement already satisfied: aiohttp in /Users/rowel/anaconda3/envs/llm/lib/python3.10/site-packages (from openai) (3.8.4)\n",
      "Requirement already satisfied: requests>=2.20 in /Users/rowel/anaconda3/envs/llm/lib/python3.10/site-packages (from openai) (2.28.2)\n",
      "Requirement already satisfied: certifi>=2017.4.17 in /Users/rowel/anaconda3/envs/llm/lib/python3.10/site-packages (from requests>=2.20->openai) (2022.12.7)\n",
      "Requirement already satisfied: urllib3<1.27,>=1.21.1 in /Users/rowel/anaconda3/envs/llm/lib/python3.10/site-packages (from requests>=2.20->openai) (1.26.14)\n",
      "Requirement already satisfied: charset-normalizer<4,>=2 in /Users/rowel/anaconda3/envs/llm/lib/python3.10/site-packages (from requests>=2.20->openai) (3.0.1)\n",
      "Requirement already satisfied: idna<4,>=2.5 in /Users/rowel/anaconda3/envs/llm/lib/python3.10/site-packages (from requests>=2.20->openai) (3.4)\n",
      "Requirement already satisfied: async-timeout<5.0,>=4.0.0a3 in /Users/rowel/anaconda3/envs/llm/lib/python3.10/site-packages (from aiohttp->openai) (4.0.2)\n",
      "Requirement already satisfied: attrs>=17.3.0 in /Users/rowel/anaconda3/envs/llm/lib/python3.10/site-packages (from aiohttp->openai) (22.2.0)\n",
      "Requirement already satisfied: aiosignal>=1.1.2 in /Users/rowel/anaconda3/envs/llm/lib/python3.10/site-packages (from aiohttp->openai) (1.3.1)\n",
      "Requirement already satisfied: frozenlist>=1.1.1 in /Users/rowel/anaconda3/envs/llm/lib/python3.10/site-packages (from aiohttp->openai) (1.3.3)\n",
      "Requirement already satisfied: multidict<7.0,>=4.5 in /Users/rowel/anaconda3/envs/llm/lib/python3.10/site-packages (from aiohttp->openai) (6.0.4)\n",
      "Requirement already satisfied: yarl<2.0,>=1.0 in /Users/rowel/anaconda3/envs/llm/lib/python3.10/site-packages (from aiohttp->openai) (1.8.2)\n",
      "Installing collected packages: openai\n",
      "  Attempting uninstall: openai\n",
      "    Found existing installation: openai 0.27.0\n",
      "    Uninstalling openai-0.27.0:\n",
      "      Successfully uninstalled openai-0.27.0\n",
      "Successfully installed openai-0.27.2\n"
     ]
    }
   ],
   "source": [
    "! pip install langchain --upgrade\n",
    "! pip install openai --upgrade"
   ]
  },
  {
   "cell_type": "markdown",
   "id": "834aba87",
   "metadata": {},
   "source": [
    "Then, import the packages to use."
   ]
  },
  {
   "cell_type": "code",
   "execution_count": 18,
   "id": "b88d9429",
   "metadata": {},
   "outputs": [],
   "source": [
    "import langchain\n",
    "import openai\n",
    "\n",
    "from langchain.llms import OpenAI"
   ]
  },
  {
   "cell_type": "markdown",
   "id": "0923bdaa",
   "metadata": {},
   "source": [
    "#### Demo 1: A Simple Question and Answering Example\n",
    "\n",
    "The simplest example is a question and answering application. To build the demo, we execute the following: \n",
    "\n",
    "- Load OpenAI. Temperature is a measure of uncertainty or randomness. Let's set it to 0.2.\n",
    "- Provide a text query\n",
    "- Request the Large Language Model to process the query\n",
    "- Print the result"
   ]
  },
  {
   "cell_type": "code",
   "execution_count": 22,
   "id": "4fccf101",
   "metadata": {},
   "outputs": [
    {
     "name": "stdout",
     "output_type": "stream",
     "text": [
      "\n",
      "\n",
      "1. Paris, France\n",
      "2. Rome, Italy\n",
      "3. New York City, USA\n",
      "4. London, England\n",
      "5. Tokyo, Japan\n",
      "6. Barcelona, Spain\n",
      "7. Bangkok, Thailand\n",
      "8. Istanbul, Turkey\n",
      "9. Machu Picchu, Peru\n",
      "10. Sydney, Australia\n"
     ]
    }
   ],
   "source": [
    "llm = OpenAI(temperature=0.5)\n",
    "text = \"What are the 10 best places to visit?\"\n",
    "print(llm(text))"
   ]
  },
  {
   "cell_type": "markdown",
   "id": "002a8718",
   "metadata": {},
   "source": [
    "#### Demo 2: Using a Prompt Template\n",
    "\n",
    "A meaningful interaction with a LLM requires a good prompt to elicit a good answer. In this example a prompt template is provided elicit a good answer from the LLM. "
   ]
  },
  {
   "cell_type": "code",
   "execution_count": 25,
   "id": "d49eaed3",
   "metadata": {},
   "outputs": [
    {
     "name": "stdout",
     "output_type": "stream",
     "text": [
      "Formatted prompt: What are the 10 best places to eat?\n"
     ]
    }
   ],
   "source": [
    "from langchain.prompts import PromptTemplate\n",
    "prompt = PromptTemplate(\n",
    "    input_variables=[\"to_do_what\"],\n",
    "    template=\"What are the 10 best places to {to_do_what}?\",\n",
    ")\n",
    "formatted_prompt = prompt.format(to_do_what=\"eat\")\n",
    "print(f\"Formatted prompt: {formatted_prompt}\")"
   ]
  },
  {
   "cell_type": "markdown",
   "id": "2dfe7850",
   "metadata": {},
   "source": [
    "#### Demo 3: A Simple Chain\n",
    "\n",
    "LLM is not very useful unless we can interact with it using prompt. In the same way, a prompt is not valuable unless we can use it to interact with a LLM. A chain puts them together. Below is a simple chain.\n",
    "\n",
    "Chain: Prompt &rarr; LLM \n",
    "\n",
    "Then, the chain can now be queried.\n",
    "\n",
    "`chain.run(<to_do_what>`"
   ]
  },
  {
   "cell_type": "code",
   "execution_count": 29,
   "id": "9b1bcffe",
   "metadata": {
    "scrolled": true
   },
   "outputs": [
    {
     "name": "stdout",
     "output_type": "stream",
     "text": [
      "10 places to do what? scuba diving\n",
      "\n",
      "\n",
      "1. Great Barrier Reef, Australia\n",
      "2. Belize Barrier Reef, Belize\n",
      "3. Galapagos Islands, Ecuador\n",
      "4. Red Sea, Egypt\n",
      "5. Similan Islands, Thailand\n",
      "6. Raja Ampat Islands, Indonesia\n",
      "7. Sipadan Island, Malaysia\n",
      "8. Bonaire, Caribbean\n",
      "9. Cayman Islands, Caribbean\n",
      "10. Palau, Micronesia\n"
     ]
    }
   ],
   "source": [
    "from langchain.chains import LLMChain\n",
    "chain = LLMChain(llm=llm, prompt=prompt)\n",
    "query = input(\"10 places to do what? \")\n",
    "results = chain.run(query).split('\\n')\n",
    "for result in results:\n",
    "    print(result)"
   ]
  },
  {
   "cell_type": "markdown",
   "id": "172cb57a",
   "metadata": {},
   "source": [
    "#### Demo 4: Enabling Long-Term Memory \n",
    "\n",
    "A conversation has context. Sometimes, the context has a reference to a discussion long time ago. Without the ability to remember something said a while back, the conversation can easily become frustrating. Thus, memory is important. In this example, a memory is incorporated in the chain.\n",
    "\n",
    "Below is a conversation with context."
   ]
  },
  {
   "cell_type": "code",
   "execution_count": 33,
   "id": "a0d58984",
   "metadata": {},
   "outputs": [
    {
     "name": "stdout",
     "output_type": "stream",
     "text": [
      "\n",
      "\n",
      "\u001b[1m> Entering new ConversationChain chain...\u001b[0m\n",
      "Prompt after formatting:\n",
      "\u001b[32;1m\u001b[1;3mThe following is a friendly conversation between a human and an AI. The AI is talkative and provides lots of specific details from its context. If the AI does not know the answer to a question, it truthfully says it does not know.\n",
      "\n",
      "Current conversation:\n",
      "\n",
      "Human: Hi! I want to talk to you. What is your name?\n",
      "AI:\u001b[0m\n",
      "\n",
      "\u001b[1m> Finished chain.\u001b[0m\n"
     ]
    },
    {
     "data": {
      "text/plain": [
       "\" Hi there! My name is AI-1. It's nice to meet you. What can I do for you today?\""
      ]
     },
     "execution_count": 33,
     "metadata": {},
     "output_type": "execute_result"
    }
   ],
   "source": [
    "from langchain import OpenAI, ConversationChain\n",
    "\n",
    "llm = OpenAI(temperature=0)\n",
    "conversation = ConversationChain(llm=llm, verbose=True)\n",
    "\n",
    "conversation.predict(input=\"Hi! I want to talk to you. What is your name?\")"
   ]
  },
  {
   "cell_type": "code",
   "execution_count": 34,
   "id": "33219880",
   "metadata": {},
   "outputs": [
    {
     "name": "stdout",
     "output_type": "stream",
     "text": [
      "Human: I wanted to visit south east asia. Any recommendations?\n",
      "\n",
      "\n",
      "\u001b[1m> Entering new ConversationChain chain...\u001b[0m\n",
      "Prompt after formatting:\n",
      "\u001b[32;1m\u001b[1;3mThe following is a friendly conversation between a human and an AI. The AI is talkative and provides lots of specific details from its context. If the AI does not know the answer to a question, it truthfully says it does not know.\n",
      "\n",
      "Current conversation:\n",
      "\n",
      "Human: Hi! I want to talk to you. What is your name?\n",
      "AI:  Hi there! My name is AI-1. It's nice to meet you. What can I do for you today?\n",
      "Human: I wanted to visit south east asia. Any recommendations?\n",
      "AI:\u001b[0m\n",
      "\n",
      "\u001b[1m> Finished chain.\u001b[0m\n"
     ]
    },
    {
     "data": {
      "text/plain": [
       "' Sure! South East Asia is a great place to visit. I recommend starting with Thailand, as it has a lot of great attractions and activities. You can explore the bustling cities of Bangkok and Chiang Mai, or take a trip to the beautiful beaches of Phuket and Koh Samui. There are also plenty of cultural and historical sites to explore, such as the Grand Palace in Bangkok and the ancient ruins of Ayutthaya.'"
      ]
     },
     "execution_count": 34,
     "metadata": {},
     "output_type": "execute_result"
    }
   ],
   "source": [
    "query = input(\"Human: \")\n",
    "conversation.predict(input=query)"
   ]
  },
  {
   "cell_type": "code",
   "execution_count": 35,
   "id": "c0818cdc",
   "metadata": {},
   "outputs": [
    {
     "name": "stdout",
     "output_type": "stream",
     "text": [
      "Human: What about the beaches?\n",
      "\n",
      "\n",
      "\u001b[1m> Entering new ConversationChain chain...\u001b[0m\n",
      "Prompt after formatting:\n",
      "\u001b[32;1m\u001b[1;3mThe following is a friendly conversation between a human and an AI. The AI is talkative and provides lots of specific details from its context. If the AI does not know the answer to a question, it truthfully says it does not know.\n",
      "\n",
      "Current conversation:\n",
      "\n",
      "Human: Hi! I want to talk to you. What is your name?\n",
      "AI:  Hi there! My name is AI-1. It's nice to meet you. What can I do for you today?\n",
      "Human: I wanted to visit south east asia. Any recommendations?\n",
      "AI:  Sure! South East Asia is a great place to visit. I recommend starting with Thailand, as it has a lot of great attractions and activities. You can explore the bustling cities of Bangkok and Chiang Mai, or take a trip to the beautiful beaches of Phuket and Koh Samui. There are also plenty of cultural and historical sites to explore, such as the Grand Palace in Bangkok and the ancient ruins of Ayutthaya.\n",
      "Human: What about the beaches?\n",
      "AI:\u001b[0m\n",
      "\n",
      "\u001b[1m> Finished chain.\u001b[0m\n"
     ]
    },
    {
     "data": {
      "text/plain": [
       "' South East Asia has some of the most beautiful beaches in the world. Thailand has some of the most popular beaches, such as Phuket, Koh Samui, and Krabi. Other popular beach destinations in the region include Bali in Indonesia, Boracay in the Philippines, and Sihanoukville in Cambodia.'"
      ]
     },
     "execution_count": 35,
     "metadata": {},
     "output_type": "execute_result"
    }
   ],
   "source": [
    "query = input(\"Human: \")\n",
    "conversation.predict(input=query)"
   ]
  },
  {
   "cell_type": "code",
   "execution_count": 36,
   "id": "76cc0523",
   "metadata": {},
   "outputs": [
    {
     "name": "stdout",
     "output_type": "stream",
     "text": [
      "Human: Any good food to try?\n",
      "\n",
      "\n",
      "\u001b[1m> Entering new ConversationChain chain...\u001b[0m\n",
      "Prompt after formatting:\n",
      "\u001b[32;1m\u001b[1;3mThe following is a friendly conversation between a human and an AI. The AI is talkative and provides lots of specific details from its context. If the AI does not know the answer to a question, it truthfully says it does not know.\n",
      "\n",
      "Current conversation:\n",
      "\n",
      "Human: Hi! I want to talk to you. What is your name?\n",
      "AI:  Hi there! My name is AI-1. It's nice to meet you. What can I do for you today?\n",
      "Human: I wanted to visit south east asia. Any recommendations?\n",
      "AI:  Sure! South East Asia is a great place to visit. I recommend starting with Thailand, as it has a lot of great attractions and activities. You can explore the bustling cities of Bangkok and Chiang Mai, or take a trip to the beautiful beaches of Phuket and Koh Samui. There are also plenty of cultural and historical sites to explore, such as the Grand Palace in Bangkok and the ancient ruins of Ayutthaya.\n",
      "Human: What about the beaches?\n",
      "AI:  South East Asia has some of the most beautiful beaches in the world. Thailand has some of the most popular beaches, such as Phuket, Koh Samui, and Krabi. Other popular beach destinations in the region include Bali in Indonesia, Boracay in the Philippines, and Sihanoukville in Cambodia.\n",
      "Human: Any good food to try?\n",
      "AI:\u001b[0m\n",
      "\n",
      "\u001b[1m> Finished chain.\u001b[0m\n"
     ]
    },
    {
     "data": {
      "text/plain": [
       "' Absolutely! South East Asia is known for its delicious and diverse cuisine. Thailand is famous for its spicy curries, noodles, and stir-fries. Indonesia is known for its flavorful satay dishes, while the Philippines is known for its flavorful adobo dishes. Vietnam is known for its delicious pho and banh mi sandwiches. There are also plenty of delicious desserts to try, such as mango sticky rice in Thailand and halo-halo in the Philippines.'"
      ]
     },
     "execution_count": 36,
     "metadata": {},
     "output_type": "execute_result"
    }
   ],
   "source": [
    "query = input(\"Human: \")\n",
    "conversation.predict(input=query)"
   ]
  },
  {
   "cell_type": "code",
   "execution_count": 37,
   "id": "8f30335a",
   "metadata": {},
   "outputs": [
    {
     "name": "stdout",
     "output_type": "stream",
     "text": [
      "Human: What about the currency?\n",
      "\n",
      "\n",
      "\u001b[1m> Entering new ConversationChain chain...\u001b[0m\n",
      "Prompt after formatting:\n",
      "\u001b[32;1m\u001b[1;3mThe following is a friendly conversation between a human and an AI. The AI is talkative and provides lots of specific details from its context. If the AI does not know the answer to a question, it truthfully says it does not know.\n",
      "\n",
      "Current conversation:\n",
      "\n",
      "Human: Hi! I want to talk to you. What is your name?\n",
      "AI:  Hi there! My name is AI-1. It's nice to meet you. What can I do for you today?\n",
      "Human: I wanted to visit south east asia. Any recommendations?\n",
      "AI:  Sure! South East Asia is a great place to visit. I recommend starting with Thailand, as it has a lot of great attractions and activities. You can explore the bustling cities of Bangkok and Chiang Mai, or take a trip to the beautiful beaches of Phuket and Koh Samui. There are also plenty of cultural and historical sites to explore, such as the Grand Palace in Bangkok and the ancient ruins of Ayutthaya.\n",
      "Human: What about the beaches?\n",
      "AI:  South East Asia has some of the most beautiful beaches in the world. Thailand has some of the most popular beaches, such as Phuket, Koh Samui, and Krabi. Other popular beach destinations in the region include Bali in Indonesia, Boracay in the Philippines, and Sihanoukville in Cambodia.\n",
      "Human: Any good food to try?\n",
      "AI:  Absolutely! South East Asia is known for its delicious and diverse cuisine. Thailand is famous for its spicy curries, noodles, and stir-fries. Indonesia is known for its flavorful satay dishes, while the Philippines is known for its flavorful adobo dishes. Vietnam is known for its delicious pho and banh mi sandwiches. There are also plenty of delicious desserts to try, such as mango sticky rice in Thailand and halo-halo in the Philippines.\n",
      "Human: What about the currency?\n",
      "AI:\u001b[0m\n",
      "\n",
      "\u001b[1m> Finished chain.\u001b[0m\n"
     ]
    },
    {
     "data": {
      "text/plain": [
       "' The currency used in South East Asia varies from country to country. In Thailand, the currency is the Thai Baht. In Indonesia, the currency is the Indonesian Rupiah. In the Philippines, the currency is the Philippine Peso. In Vietnam, the currency is the Vietnamese Dong. In Cambodia, the currency is the Cambodian Riel.'"
      ]
     },
     "execution_count": 37,
     "metadata": {},
     "output_type": "execute_result"
    }
   ],
   "source": [
    "query = input(\"Human: \")\n",
    "conversation.predict(input=query)"
   ]
  },
  {
   "cell_type": "code",
   "execution_count": 38,
   "id": "66d09140",
   "metadata": {},
   "outputs": [
    {
     "name": "stdout",
     "output_type": "stream",
     "text": [
      "Human: Exciting! How much should I prepare for 1 week travel?\n",
      "\n",
      "\n",
      "\u001b[1m> Entering new ConversationChain chain...\u001b[0m\n",
      "Prompt after formatting:\n",
      "\u001b[32;1m\u001b[1;3mThe following is a friendly conversation between a human and an AI. The AI is talkative and provides lots of specific details from its context. If the AI does not know the answer to a question, it truthfully says it does not know.\n",
      "\n",
      "Current conversation:\n",
      "\n",
      "Human: Hi! I want to talk to you. What is your name?\n",
      "AI:  Hi there! My name is AI-1. It's nice to meet you. What can I do for you today?\n",
      "Human: I wanted to visit south east asia. Any recommendations?\n",
      "AI:  Sure! South East Asia is a great place to visit. I recommend starting with Thailand, as it has a lot of great attractions and activities. You can explore the bustling cities of Bangkok and Chiang Mai, or take a trip to the beautiful beaches of Phuket and Koh Samui. There are also plenty of cultural and historical sites to explore, such as the Grand Palace in Bangkok and the ancient ruins of Ayutthaya.\n",
      "Human: What about the beaches?\n",
      "AI:  South East Asia has some of the most beautiful beaches in the world. Thailand has some of the most popular beaches, such as Phuket, Koh Samui, and Krabi. Other popular beach destinations in the region include Bali in Indonesia, Boracay in the Philippines, and Sihanoukville in Cambodia.\n",
      "Human: Any good food to try?\n",
      "AI:  Absolutely! South East Asia is known for its delicious and diverse cuisine. Thailand is famous for its spicy curries, noodles, and stir-fries. Indonesia is known for its flavorful satay dishes, while the Philippines is known for its flavorful adobo dishes. Vietnam is known for its delicious pho and banh mi sandwiches. There are also plenty of delicious desserts to try, such as mango sticky rice in Thailand and halo-halo in the Philippines.\n",
      "Human: What about the currency?\n",
      "AI:  The currency used in South East Asia varies from country to country. In Thailand, the currency is the Thai Baht. In Indonesia, the currency is the Indonesian Rupiah. In the Philippines, the currency is the Philippine Peso. In Vietnam, the currency is the Vietnamese Dong. In Cambodia, the currency is the Cambodian Riel.\n",
      "Human: Exciting! How much should I prepare for 1 week travel?\n",
      "AI:\u001b[0m\n",
      "\n",
      "\u001b[1m> Finished chain.\u001b[0m\n"
     ]
    },
    {
     "data": {
      "text/plain": [
       "\" That depends on your budget and the type of activities you plan to do. Generally speaking, you should budget for accommodation, food, transportation, and activities. You should also factor in any visa fees and other costs. It's best to research the cost of living in each country you plan to visit and plan accordingly.\""
      ]
     },
     "execution_count": 38,
     "metadata": {},
     "output_type": "execute_result"
    }
   ],
   "source": [
    "query = input(\"Human: \")\n",
    "conversation.predict(input=query)"
   ]
  },
  {
   "cell_type": "markdown",
   "id": "3d50d4f4",
   "metadata": {},
   "source": [
    "#### Demo 5: Using Agent and Tools to Determine what Actions to Take to Solve a Problem\n",
    "\n",
    "Sometimes, a problem can not be solved in one step. Additional tools may also needed in order to solve the problem. In this demo, the LLM uses an agent to determine what actions to take and what tools to use.\n",
    "\n",
    "The focus is on math problems. `llm-math` tool is used. More info about [tools](https://langchain.readthedocs.io/en/latest/modules/agents/tools.html) and [agents](https://langchain.readthedocs.io/en/latest/modules/agents/agents.html) are available on LangChain documentations."
   ]
  },
  {
   "cell_type": "code",
   "execution_count": 42,
   "id": "e62e892c",
   "metadata": {},
   "outputs": [],
   "source": [
    "from langchain.agents import load_tools\n",
    "from langchain.agents import initialize_agent\n",
    "from langchain.llms import OpenAI"
   ]
  },
  {
   "cell_type": "code",
   "execution_count": 47,
   "id": "5dea1639",
   "metadata": {},
   "outputs": [
    {
     "name": "stdout",
     "output_type": "stream",
     "text": [
      "Human: If the sun rises at 6:30am and sets at 5:45pm, how long is the day time?\n",
      "\n",
      "\n",
      "\u001b[1m> Entering new AgentExecutor chain...\u001b[0m\n",
      "\u001b[32;1m\u001b[1;3m I need to calculate the difference between the two times.\n",
      "Action: Calculator\n",
      "Action Input: 6:30am - 5:45pm\u001b[0m\n",
      "Observation: \u001b[36;1m\u001b[1;3mAnswer: 8 hours and 45 minutes\u001b[0m\n",
      "Thought:\u001b[32;1m\u001b[1;3m I now know the final answer\n",
      "Final Answer: The day time is 8 hours and 45 minutes.\u001b[0m\n",
      "\n",
      "\u001b[1m> Finished chain.\u001b[0m\n"
     ]
    },
    {
     "data": {
      "text/plain": [
       "'The day time is 8 hours and 45 minutes.'"
      ]
     },
     "execution_count": 47,
     "metadata": {},
     "output_type": "execute_result"
    }
   ],
   "source": [
    "# First, let's load the language model we're going to use to control the agent.\n",
    "llm = OpenAI(temperature=0.2)\n",
    "\n",
    "# Next, let's load some tools to use. \n",
    "# Note that the `llm-math` tool uses an LLM, so we need to pass that in.\n",
    "tools = load_tools([\"llm-math\",\"pal-math\"], llm=llm)\n",
    "\n",
    "# Finally, let's initialize an agent with the tools, the language model, \n",
    "# and the type of agent we want to use.\n",
    "agent = initialize_agent(tools, llm, agent=\"zero-shot-react-description\", verbose=True)\n",
    "\n",
    "# Now let's test it out!\n",
    "\n",
    "query = input(\"Human: \")\n",
    "agent.run(query)"
   ]
  },
  {
   "cell_type": "code",
   "execution_count": null,
   "id": "30b9713d",
   "metadata": {},
   "outputs": [],
   "source": []
  }
 ],
 "metadata": {
  "kernelspec": {
   "display_name": "Python 3 (ipykernel)",
   "language": "python",
   "name": "python3"
  },
  "language_info": {
   "codemirror_mode": {
    "name": "ipython",
    "version": 3
   },
   "file_extension": ".py",
   "mimetype": "text/x-python",
   "name": "python",
   "nbconvert_exporter": "python",
   "pygments_lexer": "ipython3",
   "version": "3.10.9"
  }
 },
 "nbformat": 4,
 "nbformat_minor": 5
}
