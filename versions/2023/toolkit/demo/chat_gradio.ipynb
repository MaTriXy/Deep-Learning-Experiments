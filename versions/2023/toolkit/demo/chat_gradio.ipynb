{
 "cells": [
  {
   "cell_type": "markdown",
   "metadata": {},
   "source": [
    "## ChatInterface Gradio Demo"
   ]
  },
  {
   "cell_type": "code",
   "execution_count": null,
   "metadata": {},
   "outputs": [],
   "source": [
    "!pip install transformers --upgrade\n",
    "!pip install gradio --upgrade\n",
    "!pip install accelerate --upgrade"
   ]
  },
  {
   "cell_type": "code",
   "execution_count": 1,
   "metadata": {},
   "outputs": [
    {
     "name": "stderr",
     "output_type": "stream",
     "text": [
      "/home/rowel/anaconda3/envs/mspeech/lib/python3.10/site-packages/tqdm/auto.py:21: TqdmWarning: IProgress not found. Please update jupyter and ipywidgets. See https://ipywidgets.readthedocs.io/en/stable/user_install.html\n",
      "  from .autonotebook import tqdm as notebook_tqdm\n",
      "2024-09-26:16:45:56,940 INFO     [GPTQ.py:43] lm_eval is not installed, GPTQ may not be usable\n",
      "Loading checkpoint shards: 100%|██████████| 4/4 [00:04<00:00,  1.17s/it]\n",
      "2024-09-26:16:46:04,128 INFO     [_client.py:1026] HTTP Request: GET http://127.0.0.1:7860/startup-events \"HTTP/1.1 200 OK\"\n",
      "2024-09-26:16:46:04,169 INFO     [_client.py:1026] HTTP Request: GET https://checkip.amazonaws.com/ \"HTTP/1.1 200 \"\n"
     ]
    },
    {
     "name": "stdout",
     "output_type": "stream",
     "text": [
      "Running on local URL:  http://127.0.0.1:7860\n"
     ]
    },
    {
     "name": "stderr",
     "output_type": "stream",
     "text": [
      "2024-09-26:16:46:04,672 INFO     [_client.py:1026] HTTP Request: GET https://api.gradio.app/pkg-version \"HTTP/1.1 200 OK\"\n",
      "2024-09-26:16:46:06,189 INFO     [_client.py:1026] HTTP Request: HEAD http://127.0.0.1:7860/ \"HTTP/1.1 200 OK\"\n"
     ]
    },
    {
     "name": "stdout",
     "output_type": "stream",
     "text": [
      "\n",
      "To create a public link, set `share=True` in `launch()`.\n"
     ]
    },
    {
     "data": {
      "text/html": [
       "<div><iframe src=\"http://127.0.0.1:7860/\" width=\"100%\" height=\"500\" allow=\"autoplay; camera; microphone; clipboard-read; clipboard-write;\" frameborder=\"0\" allowfullscreen></iframe></div>"
      ],
      "text/plain": [
       "<IPython.core.display.HTML object>"
      ]
     },
     "metadata": {},
     "output_type": "display_data"
    },
    {
     "name": "stderr",
     "output_type": "stream",
     "text": [
      "Setting `pad_token_id` to `eos_token_id`:None for open-end generation.\n"
     ]
    },
    {
     "name": "stdout",
     "output_type": "stream",
     "text": [
      "History:  []\n",
      "Message  What are the planets in the solar system?\n"
     ]
    },
    {
     "name": "stderr",
     "output_type": "stream",
     "text": [
      "Starting from v4.46, the `logits` model output will have the same type as the model (except at train time, where it will always be FP32)\n",
      "Traceback (most recent call last):\n",
      "  File \"/home/rowel/anaconda3/envs/mspeech/lib/python3.10/site-packages/gradio/queueing.py\", line 536, in process_events\n",
      "    response = await route_utils.call_process_api(\n",
      "  File \"/home/rowel/anaconda3/envs/mspeech/lib/python3.10/site-packages/gradio/route_utils.py\", line 322, in call_process_api\n",
      "    output = await app.get_blocks().process_api(\n",
      "  File \"/home/rowel/anaconda3/envs/mspeech/lib/python3.10/site-packages/gradio/blocks.py\", line 1935, in process_api\n",
      "    result = await self.call_function(\n",
      "  File \"/home/rowel/anaconda3/envs/mspeech/lib/python3.10/site-packages/gradio/blocks.py\", line 1518, in call_function\n",
      "    prediction = await fn(*processed_input)\n",
      "  File \"/home/rowel/anaconda3/envs/mspeech/lib/python3.10/site-packages/gradio/utils.py\", line 793, in async_wrapper\n",
      "    response = await f(*args, **kwargs)\n",
      "  File \"/home/rowel/anaconda3/envs/mspeech/lib/python3.10/site-packages/gradio/chat_interface.py\", line 623, in _submit_fn\n",
      "    response = await anyio.to_thread.run_sync(\n",
      "  File \"/home/rowel/anaconda3/envs/mspeech/lib/python3.10/site-packages/anyio/to_thread.py\", line 56, in run_sync\n",
      "    return await get_async_backend().run_sync_in_worker_thread(\n",
      "  File \"/home/rowel/anaconda3/envs/mspeech/lib/python3.10/site-packages/anyio/_backends/_asyncio.py\", line 2177, in run_sync_in_worker_thread\n",
      "    return await future\n",
      "  File \"/home/rowel/anaconda3/envs/mspeech/lib/python3.10/site-packages/anyio/_backends/_asyncio.py\", line 859, in run\n",
      "    result = context.run(func, *args)\n",
      "  File \"/tmp/ipykernel_1463084/516935862.py\", line 40, in echo\n",
      "    if index != -1:\n",
      "NameError: name 'index' is not defined\n"
     ]
    }
   ],
   "source": [
    "from transformers import AutoTokenizer\n",
    "import transformers\n",
    "import gradio as gr\n",
    "import torch\n",
    "\n",
    "# path to the model\n",
    "model = \"/data/llm/llama/Meta-Llama-3.1-8B-Instruct\"\n",
    "tokenizer = AutoTokenizer.from_pretrained(model)\n",
    "\n",
    "pipeline = transformers.pipeline(\n",
    "    \"text-generation\",\n",
    "    model=model,\n",
    "    torch_dtype=torch.float16,\n",
    "    device_map=\"auto\",\n",
    ")\n",
    "\n",
    "\n",
    "def echo(message, history, max_new_tokens=100):\n",
    "    print(\"History: \", history)\n",
    "    # pre-pend the history to message\n",
    "    past_messages = \"\"\n",
    "    if history:\n",
    "        past_messages = history[0][-1]\n",
    "    message = past_messages + \" \" + message\n",
    "    print(\"Message\", message)\n",
    "    sequences = pipeline(\n",
    "        message,\n",
    "        do_sample=True,\n",
    "        top_k=1,\n",
    "        num_return_sequences=1,\n",
    "        eos_token_id=tokenizer.eos_token_id,\n",
    "        truncation = False,\n",
    "        max_new_tokens=max_new_tokens,\n",
    "    )\n",
    "\n",
    "    answer = sequences[0]['generated_text']\n",
    "    answer = answer[len(message):]\n",
    "    # find \"\\n\\n\"\n",
    "    # remove string after the index\n",
    "    index = answer.find(\"\\n\\n\")\n",
    "    if index != -1:\n",
    "        answer = answer[:index]\n",
    "    \n",
    "    return answer\n",
    "\n",
    "\n",
    "\n",
    "demo = gr.ChatInterface(\n",
    "    fn=echo,\n",
    "    examples=[\"What are the planets in the solar system?\", \"Translate this to Tagalog: Hello, how are you?\"],\n",
    "    title=\"Llama Chat\",\n",
    ").launch(inbrowser=True)\n",
    "\n"
   ]
  }
 ],
 "metadata": {
  "kernelspec": {
   "display_name": "mspeech",
   "language": "python",
   "name": "python3"
  },
  "language_info": {
   "codemirror_mode": {
    "name": "ipython",
    "version": 3
   },
   "file_extension": ".py",
   "mimetype": "text/x-python",
   "name": "python",
   "nbconvert_exporter": "python",
   "pygments_lexer": "ipython3",
   "version": "3.10.13"
  }
 },
 "nbformat": 4,
 "nbformat_minor": 2
}
