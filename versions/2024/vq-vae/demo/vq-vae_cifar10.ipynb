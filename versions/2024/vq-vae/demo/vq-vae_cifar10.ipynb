{
 "cells": [
  {
   "cell_type": "markdown",
   "metadata": {},
   "source": [
    "## CIFAR10 VQ-VAE"
   ]
  },
  {
   "cell_type": "code",
   "execution_count": 91,
   "metadata": {},
   "outputs": [
    {
     "name": "stdout",
     "output_type": "stream",
     "text": [
      "Files already downloaded and verified\n",
      "Files already downloaded and verified\n"
     ]
    }
   ],
   "source": [
    "import torch\n",
    "import torchvision\n",
    "import torchvision.transforms as transforms\n",
    "import torch.nn as nn\n",
    "import torch.optim as optim\n",
    "from tqdm import tqdm\n",
    "\n",
    "# Define the transformations to apply to the data\n",
    "transform = transforms.Compose([\n",
    "    transforms.ToTensor(),\n",
    "    transforms.Normalize((0.5, 0.5, 0.5), (0.5, 0.5, 0.5))\n",
    "])\n",
    "\n",
    "# Load the CIFAR10 train dataset\n",
    "train_set = torchvision.datasets.CIFAR10(root='~/data', train=True, download=True, transform=transform)\n",
    "train_loader = torch.utils.data.DataLoader(train_set, batch_size=64, shuffle=True, num_workers=2)\n",
    "\n",
    "# Load the CIFAR10 test dataset\n",
    "test_set = torchvision.datasets.CIFAR10(root='~/data', train=False, download=True, transform=transform)\n",
    "test_loader = torch.utils.data.DataLoader(test_set, batch_size=64, shuffle=False, num_workers=2)\n"
   ]
  },
  {
   "cell_type": "code",
   "execution_count": 92,
   "metadata": {},
   "outputs": [],
   "source": [
    "# Define the encoder architecture\n",
    "class Encoder(nn.Module):\n",
    "    def __init__(self, latent_dim):\n",
    "        super(Encoder, self).__init__()\n",
    "        self.conv1 = nn.Conv2d(3, 64, kernel_size=4, stride=2, padding=1)\n",
    "        self.conv2 = nn.Conv2d(64, 128, kernel_size=4, stride=2, padding=1)\n",
    "        self.conv3 = nn.Conv2d(128, 256, kernel_size=4, stride=2, padding=1)\n",
    "        self.conv4 = nn.Conv2d(256, latent_dim, kernel_size=4, stride=2, padding=1)\n",
    "        self.relu = nn.ReLU()\n",
    "\n",
    "    def forward(self, x):\n",
    "        x = self.relu(self.conv1(x))\n",
    "        x = self.relu(self.conv2(x))\n",
    "        x = self.relu(self.conv3(x))\n",
    "        x = self.conv4(x)\n",
    "        return x\n",
    "\n",
    "# Define the decoder architecture\n",
    "class Decoder(nn.Module):\n",
    "    def __init__(self, latent_dim):\n",
    "        super(Decoder, self).__init__()\n",
    "        self.deconv1 = nn.ConvTranspose2d(latent_dim, 256, kernel_size=4, stride=2, padding=1)\n",
    "        self.deconv2 = nn.ConvTranspose2d(256, 128, kernel_size=4, stride=2, padding=1)\n",
    "        self.deconv3 = nn.ConvTranspose2d(128, 64, kernel_size=4, stride=2, padding=1)\n",
    "        self.deconv4 = nn.ConvTranspose2d(64, 3, kernel_size=4, stride=2, padding=1)\n",
    "        self.relu = nn.ReLU()\n",
    "        self.tanh = nn.Tanh()\n",
    "\n",
    "    def forward(self, x):\n",
    "        x = self.relu(self.deconv1(x))\n",
    "        x = self.relu(self.deconv2(x))\n",
    "        x = self.relu(self.deconv3(x))\n",
    "        x = self.deconv4(x)\n",
    "        x = self.tanh(x)\n",
    "        return x\n"
   ]
  },
  {
   "cell_type": "code",
   "execution_count": 93,
   "metadata": {},
   "outputs": [],
   "source": [
    "class Quantizer(nn.Module):\n",
    "    def __init__(self, num_embeddings, embedding_dim):\n",
    "        super(Quantizer, self).__init__()\n",
    "        self.embedding = nn.Embedding(num_embeddings, embedding_dim)\n",
    "        # w/o this line, the model will not learn\n",
    "        self.embedding.weight.data.uniform_(-1./num_embeddings, 1./num_embeddings)\n",
    "        self.embedding_dim = embedding_dim\n",
    "        self.num_embeddings = num_embeddings\n",
    "        \n",
    "    def forward(self, z_e):\n",
    "        # z_e - encoder latent code (B, C, H, W) -> (B, H, W, C)\n",
    "        z_e = z_e.permute(0, 2, 3, 1).contiguous()\n",
    "        z_e_shape = z_e.shape\n",
    "        # flat version of z_e\n",
    "        flat_z_e = z_e.view(-1, self.embedding_dim)\n",
    "\n",
    "        # distance between z_e and embeddings\n",
    "        distances = (torch.sum(flat_z_e**2, dim=1, keepdim=True) \n",
    "                    + torch.sum(self.embedding.weight**2, dim=1)\n",
    "                    - 2 * torch.matmul(flat_z_e, self.embedding.weight.t()))\n",
    "        \n",
    "        # minimal distance between z_e and embeddings\n",
    "        encoding_indices = torch.argmin(distances, dim=1).unsqueeze(1)\n",
    "        encodings = torch.zeros(encoding_indices.shape[0], self.num_embeddings, device=z_e.device)\n",
    "        # one-hot vector based on the minimal distance\n",
    "        encodings.scatter_(1, encoding_indices, 1)\n",
    "        \n",
    "        # Quantize and unflatten\n",
    "        # N one-hot encodings quantizing/filtering by 0 or 1 each dim (col) of embedding\n",
    "        # The encodings builds a map of which feature point of each feature embedding vector is used\n",
    "        z_q = torch.matmul(encodings, self.embedding.weight).view(z_e_shape)\n",
    "        \n",
    "        # What is the purpose of z_q + (z_e - z_q).detach()?\n",
    "        z_q = z_e + (z_q - z_e).detach()\n",
    "        z_q = z_q.permute(0, 3, 1, 2).contiguous()\n",
    "\n",
    "        return z_q, encoding_indices"
   ]
  },
  {
   "cell_type": "code",
   "execution_count": 94,
   "metadata": {},
   "outputs": [],
   "source": [
    "class VQVAE(nn.Module):\n",
    "    def __init__(self, latent_dim, num_embeddings, embedding_dim):\n",
    "        super(VQVAE, self).__init__()\n",
    "        self.encoder = Encoder(latent_dim)\n",
    "        self.decoder = Decoder(latent_dim)\n",
    "        self.quantizer = Quantizer(num_embeddings, embedding_dim)\n",
    "    \n",
    "    def forward(self, x):\n",
    "        z_e = self.encoder(x)\n",
    "        z_q, encoding_indices = self.quantizer(z_e)\n",
    "        x_hat = self.decoder(z_q)\n",
    "        return x_hat, z_e, z_q, encoding_indices\n",
    "\n"
   ]
  },
  {
   "cell_type": "code",
   "execution_count": 95,
   "metadata": {},
   "outputs": [],
   "source": [
    "latent_dim = 2048\n",
    "num_embeddings = 512\n",
    "embedding_dim = 16\n",
    "\n",
    "device = torch.device('cuda' if torch.cuda.is_available() else 'cpu')\n",
    "model = VQVAE(latent_dim, num_embeddings, embedding_dim).to(device)"
   ]
  },
  {
   "cell_type": "code",
   "execution_count": 96,
   "metadata": {},
   "outputs": [
    {
     "name": "stdout",
     "output_type": "stream",
     "text": [
      "torch.Size([1, 2048, 2, 2]) torch.Size([512, 1])\n",
      "torch.Size([1, 3, 32, 32])\n"
     ]
    }
   ],
   "source": [
    "random_input = torch.randn(1, 3, 32, 32).to(device)\n",
    "z_e = model.encoder(random_input)\n",
    "z_q, indeces = model.quantizer(z_e)\n",
    "print(z_q.shape, indeces.shape)\n",
    "x_hat = model.decoder(z_q)\n",
    "print(x_hat.shape)"
   ]
  },
  {
   "cell_type": "code",
   "execution_count": 97,
   "metadata": {},
   "outputs": [
    {
     "name": "stdout",
     "output_type": "stream",
     "text": [
      "Number of parameters: 18105231\n"
     ]
    },
    {
     "name": "stderr",
     "output_type": "stream",
     "text": [
      "  2%|▏         | 1/50 [00:04<03:38,  4.46s/it]"
     ]
    },
    {
     "name": "stdout",
     "output_type": "stream",
     "text": [
      "Epoch [1/50], Ave Loss: 8.0734, Recon Loss: 0.0019, Commit Loss: 6.4572, Latent Loss: 6.4572\n"
     ]
    },
    {
     "name": "stderr",
     "output_type": "stream",
     "text": [
      "  4%|▍         | 2/50 [00:09<03:39,  4.57s/it]"
     ]
    },
    {
     "name": "stdout",
     "output_type": "stream",
     "text": [
      "Epoch [2/50], Ave Loss: 0.6572, Recon Loss: 0.0009, Commit Loss: 0.5251, Latent Loss: 0.5251\n"
     ]
    },
    {
     "name": "stderr",
     "output_type": "stream",
     "text": [
      "  6%|▌         | 3/50 [00:13<03:32,  4.51s/it]"
     ]
    },
    {
     "name": "stdout",
     "output_type": "stream",
     "text": [
      "Epoch [3/50], Ave Loss: 0.3447, Recon Loss: 0.0007, Commit Loss: 0.2752, Latent Loss: 0.2752\n"
     ]
    },
    {
     "name": "stderr",
     "output_type": "stream",
     "text": [
      "  8%|▊         | 4/50 [00:18<03:27,  4.50s/it]"
     ]
    },
    {
     "name": "stdout",
     "output_type": "stream",
     "text": [
      "Epoch [4/50], Ave Loss: 0.2560, Recon Loss: 0.0006, Commit Loss: 0.2043, Latent Loss: 0.2043\n"
     ]
    },
    {
     "name": "stderr",
     "output_type": "stream",
     "text": [
      " 10%|█         | 5/50 [00:22<03:22,  4.50s/it]"
     ]
    },
    {
     "name": "stdout",
     "output_type": "stream",
     "text": [
      "Epoch [5/50], Ave Loss: 0.2495, Recon Loss: 0.0006, Commit Loss: 0.1991, Latent Loss: 0.1991\n"
     ]
    },
    {
     "name": "stderr",
     "output_type": "stream",
     "text": [
      " 12%|█▏        | 6/50 [00:27<03:19,  4.52s/it]"
     ]
    },
    {
     "name": "stdout",
     "output_type": "stream",
     "text": [
      "Epoch [6/50], Ave Loss: 0.2721, Recon Loss: 0.0005, Commit Loss: 0.2173, Latent Loss: 0.2173\n"
     ]
    },
    {
     "name": "stderr",
     "output_type": "stream",
     "text": [
      " 14%|█▍        | 7/50 [00:31<03:14,  4.53s/it]"
     ]
    },
    {
     "name": "stdout",
     "output_type": "stream",
     "text": [
      "Epoch [7/50], Ave Loss: 0.2741, Recon Loss: 0.0005, Commit Loss: 0.2189, Latent Loss: 0.2189\n"
     ]
    },
    {
     "name": "stderr",
     "output_type": "stream",
     "text": [
      " 16%|█▌        | 8/50 [00:36<03:10,  4.53s/it]"
     ]
    },
    {
     "name": "stdout",
     "output_type": "stream",
     "text": [
      "Epoch [8/50], Ave Loss: 0.2983, Recon Loss: 0.0004, Commit Loss: 0.2383, Latent Loss: 0.2383\n"
     ]
    },
    {
     "name": "stderr",
     "output_type": "stream",
     "text": [
      " 18%|█▊        | 9/50 [00:40<03:05,  4.52s/it]"
     ]
    },
    {
     "name": "stdout",
     "output_type": "stream",
     "text": [
      "Epoch [9/50], Ave Loss: 0.3154, Recon Loss: 0.0004, Commit Loss: 0.2520, Latent Loss: 0.2520\n"
     ]
    },
    {
     "name": "stderr",
     "output_type": "stream",
     "text": [
      " 20%|██        | 10/50 [00:45<03:01,  4.53s/it]"
     ]
    },
    {
     "name": "stdout",
     "output_type": "stream",
     "text": [
      "Epoch [10/50], Ave Loss: 0.3212, Recon Loss: 0.0004, Commit Loss: 0.2567, Latent Loss: 0.2567\n"
     ]
    },
    {
     "name": "stderr",
     "output_type": "stream",
     "text": [
      " 22%|██▏       | 11/50 [00:49<02:58,  4.57s/it]"
     ]
    },
    {
     "name": "stdout",
     "output_type": "stream",
     "text": [
      "Epoch [11/50], Ave Loss: 0.3368, Recon Loss: 0.0004, Commit Loss: 0.2691, Latent Loss: 0.2691\n"
     ]
    },
    {
     "name": "stderr",
     "output_type": "stream",
     "text": [
      " 24%|██▍       | 12/50 [00:54<02:52,  4.55s/it]"
     ]
    },
    {
     "name": "stdout",
     "output_type": "stream",
     "text": [
      "Epoch [12/50], Ave Loss: 0.3502, Recon Loss: 0.0003, Commit Loss: 0.2799, Latent Loss: 0.2799\n"
     ]
    },
    {
     "name": "stderr",
     "output_type": "stream",
     "text": [
      " 26%|██▌       | 13/50 [00:58<02:48,  4.54s/it]"
     ]
    },
    {
     "name": "stdout",
     "output_type": "stream",
     "text": [
      "Epoch [13/50], Ave Loss: 0.3433, Recon Loss: 0.0003, Commit Loss: 0.2744, Latent Loss: 0.2744\n"
     ]
    },
    {
     "name": "stderr",
     "output_type": "stream",
     "text": [
      " 28%|██▊       | 14/50 [01:03<02:43,  4.54s/it]"
     ]
    },
    {
     "name": "stdout",
     "output_type": "stream",
     "text": [
      "Epoch [14/50], Ave Loss: 0.3355, Recon Loss: 0.0003, Commit Loss: 0.2681, Latent Loss: 0.2681\n"
     ]
    },
    {
     "name": "stderr",
     "output_type": "stream",
     "text": [
      " 30%|███       | 15/50 [01:07<02:38,  4.53s/it]"
     ]
    },
    {
     "name": "stdout",
     "output_type": "stream",
     "text": [
      "Epoch [15/50], Ave Loss: 0.3349, Recon Loss: 0.0003, Commit Loss: 0.2677, Latent Loss: 0.2677\n"
     ]
    },
    {
     "name": "stderr",
     "output_type": "stream",
     "text": [
      " 32%|███▏      | 16/50 [01:12<02:34,  4.54s/it]"
     ]
    },
    {
     "name": "stdout",
     "output_type": "stream",
     "text": [
      "Epoch [16/50], Ave Loss: 0.3263, Recon Loss: 0.0003, Commit Loss: 0.2608, Latent Loss: 0.2608\n"
     ]
    },
    {
     "name": "stderr",
     "output_type": "stream",
     "text": [
      " 34%|███▍      | 17/50 [01:16<02:28,  4.51s/it]"
     ]
    },
    {
     "name": "stdout",
     "output_type": "stream",
     "text": [
      "Epoch [17/50], Ave Loss: 0.3238, Recon Loss: 0.0003, Commit Loss: 0.2588, Latent Loss: 0.2588\n"
     ]
    },
    {
     "name": "stderr",
     "output_type": "stream",
     "text": [
      " 36%|███▌      | 18/50 [01:21<02:25,  4.55s/it]"
     ]
    },
    {
     "name": "stdout",
     "output_type": "stream",
     "text": [
      "Epoch [18/50], Ave Loss: 0.3307, Recon Loss: 0.0003, Commit Loss: 0.2644, Latent Loss: 0.2644\n"
     ]
    },
    {
     "name": "stderr",
     "output_type": "stream",
     "text": [
      " 38%|███▊      | 19/50 [01:26<02:21,  4.56s/it]"
     ]
    },
    {
     "name": "stdout",
     "output_type": "stream",
     "text": [
      "Epoch [19/50], Ave Loss: 0.3474, Recon Loss: 0.0003, Commit Loss: 0.2777, Latent Loss: 0.2777\n"
     ]
    },
    {
     "name": "stderr",
     "output_type": "stream",
     "text": [
      " 40%|████      | 20/50 [01:30<02:15,  4.53s/it]"
     ]
    },
    {
     "name": "stdout",
     "output_type": "stream",
     "text": [
      "Epoch [20/50], Ave Loss: 0.3516, Recon Loss: 0.0003, Commit Loss: 0.2811, Latent Loss: 0.2811\n"
     ]
    },
    {
     "name": "stderr",
     "output_type": "stream",
     "text": [
      " 42%|████▏     | 21/50 [01:35<02:10,  4.51s/it]"
     ]
    },
    {
     "name": "stdout",
     "output_type": "stream",
     "text": [
      "Epoch [21/50], Ave Loss: 0.3580, Recon Loss: 0.0003, Commit Loss: 0.2862, Latent Loss: 0.2862\n"
     ]
    },
    {
     "name": "stderr",
     "output_type": "stream",
     "text": [
      " 44%|████▍     | 22/50 [01:39<02:06,  4.50s/it]"
     ]
    },
    {
     "name": "stdout",
     "output_type": "stream",
     "text": [
      "Epoch [22/50], Ave Loss: 0.3629, Recon Loss: 0.0003, Commit Loss: 0.2901, Latent Loss: 0.2901\n"
     ]
    },
    {
     "name": "stderr",
     "output_type": "stream",
     "text": [
      " 46%|████▌     | 23/50 [01:44<02:01,  4.50s/it]"
     ]
    },
    {
     "name": "stdout",
     "output_type": "stream",
     "text": [
      "Epoch [23/50], Ave Loss: 0.3748, Recon Loss: 0.0003, Commit Loss: 0.2996, Latent Loss: 0.2996\n"
     ]
    },
    {
     "name": "stderr",
     "output_type": "stream",
     "text": [
      " 48%|████▊     | 24/50 [01:48<01:57,  4.51s/it]"
     ]
    },
    {
     "name": "stdout",
     "output_type": "stream",
     "text": [
      "Epoch [24/50], Ave Loss: 0.3823, Recon Loss: 0.0003, Commit Loss: 0.3056, Latent Loss: 0.3056\n"
     ]
    },
    {
     "name": "stderr",
     "output_type": "stream",
     "text": [
      " 50%|█████     | 25/50 [01:53<01:52,  4.51s/it]"
     ]
    },
    {
     "name": "stdout",
     "output_type": "stream",
     "text": [
      "Epoch [25/50], Ave Loss: 0.3806, Recon Loss: 0.0003, Commit Loss: 0.3043, Latent Loss: 0.3043\n"
     ]
    },
    {
     "name": "stderr",
     "output_type": "stream",
     "text": [
      " 52%|█████▏    | 26/50 [01:57<01:49,  4.58s/it]"
     ]
    },
    {
     "name": "stdout",
     "output_type": "stream",
     "text": [
      "Epoch [26/50], Ave Loss: 0.3798, Recon Loss: 0.0002, Commit Loss: 0.3036, Latent Loss: 0.3036\n"
     ]
    },
    {
     "name": "stderr",
     "output_type": "stream",
     "text": [
      " 54%|█████▍    | 27/50 [02:02<01:45,  4.58s/it]"
     ]
    },
    {
     "name": "stdout",
     "output_type": "stream",
     "text": [
      "Epoch [27/50], Ave Loss: 0.3828, Recon Loss: 0.0002, Commit Loss: 0.3061, Latent Loss: 0.3061\n"
     ]
    },
    {
     "name": "stderr",
     "output_type": "stream",
     "text": [
      " 56%|█████▌    | 28/50 [02:06<01:40,  4.55s/it]"
     ]
    },
    {
     "name": "stdout",
     "output_type": "stream",
     "text": [
      "Epoch [28/50], Ave Loss: 0.3799, Recon Loss: 0.0002, Commit Loss: 0.3037, Latent Loss: 0.3037\n"
     ]
    },
    {
     "name": "stderr",
     "output_type": "stream",
     "text": [
      " 58%|█████▊    | 29/50 [02:11<01:35,  4.55s/it]"
     ]
    },
    {
     "name": "stdout",
     "output_type": "stream",
     "text": [
      "Epoch [29/50], Ave Loss: 0.3810, Recon Loss: 0.0002, Commit Loss: 0.3046, Latent Loss: 0.3046\n"
     ]
    },
    {
     "name": "stderr",
     "output_type": "stream",
     "text": [
      " 60%|██████    | 30/50 [02:15<01:30,  4.53s/it]"
     ]
    },
    {
     "name": "stdout",
     "output_type": "stream",
     "text": [
      "Epoch [30/50], Ave Loss: 0.3841, Recon Loss: 0.0002, Commit Loss: 0.3071, Latent Loss: 0.3071\n"
     ]
    },
    {
     "name": "stderr",
     "output_type": "stream",
     "text": [
      " 62%|██████▏   | 31/50 [02:20<01:25,  4.52s/it]"
     ]
    },
    {
     "name": "stdout",
     "output_type": "stream",
     "text": [
      "Epoch [31/50], Ave Loss: 0.3859, Recon Loss: 0.0002, Commit Loss: 0.3085, Latent Loss: 0.3085\n"
     ]
    },
    {
     "name": "stderr",
     "output_type": "stream",
     "text": [
      " 64%|██████▍   | 32/50 [02:24<01:20,  4.50s/it]"
     ]
    },
    {
     "name": "stdout",
     "output_type": "stream",
     "text": [
      "Epoch [32/50], Ave Loss: 0.3877, Recon Loss: 0.0002, Commit Loss: 0.3100, Latent Loss: 0.3100\n"
     ]
    },
    {
     "name": "stderr",
     "output_type": "stream",
     "text": [
      " 66%|██████▌   | 33/50 [02:29<01:17,  4.55s/it]"
     ]
    },
    {
     "name": "stdout",
     "output_type": "stream",
     "text": [
      "Epoch [33/50], Ave Loss: 0.4061, Recon Loss: 0.0002, Commit Loss: 0.3247, Latent Loss: 0.3247\n"
     ]
    },
    {
     "name": "stderr",
     "output_type": "stream",
     "text": [
      " 68%|██████▊   | 34/50 [02:34<01:12,  4.56s/it]"
     ]
    },
    {
     "name": "stdout",
     "output_type": "stream",
     "text": [
      "Epoch [34/50], Ave Loss: 0.4308, Recon Loss: 0.0002, Commit Loss: 0.3444, Latent Loss: 0.3444\n"
     ]
    },
    {
     "name": "stderr",
     "output_type": "stream",
     "text": [
      " 70%|███████   | 35/50 [02:38<01:07,  4.53s/it]"
     ]
    },
    {
     "name": "stdout",
     "output_type": "stream",
     "text": [
      "Epoch [35/50], Ave Loss: 0.4325, Recon Loss: 0.0002, Commit Loss: 0.3458, Latent Loss: 0.3458\n"
     ]
    },
    {
     "name": "stderr",
     "output_type": "stream",
     "text": [
      " 72%|███████▏  | 36/50 [02:43<01:03,  4.51s/it]"
     ]
    },
    {
     "name": "stdout",
     "output_type": "stream",
     "text": [
      "Epoch [36/50], Ave Loss: 0.4417, Recon Loss: 0.0002, Commit Loss: 0.3532, Latent Loss: 0.3532\n"
     ]
    },
    {
     "name": "stderr",
     "output_type": "stream",
     "text": [
      " 74%|███████▍  | 37/50 [02:47<00:58,  4.49s/it]"
     ]
    },
    {
     "name": "stdout",
     "output_type": "stream",
     "text": [
      "Epoch [37/50], Ave Loss: 0.4338, Recon Loss: 0.0002, Commit Loss: 0.3469, Latent Loss: 0.3469\n"
     ]
    },
    {
     "name": "stderr",
     "output_type": "stream",
     "text": [
      " 76%|███████▌  | 38/50 [02:51<00:53,  4.49s/it]"
     ]
    },
    {
     "name": "stdout",
     "output_type": "stream",
     "text": [
      "Epoch [38/50], Ave Loss: 0.4366, Recon Loss: 0.0002, Commit Loss: 0.3491, Latent Loss: 0.3491\n"
     ]
    },
    {
     "name": "stderr",
     "output_type": "stream",
     "text": [
      " 78%|███████▊  | 39/50 [02:56<00:49,  4.49s/it]"
     ]
    },
    {
     "name": "stdout",
     "output_type": "stream",
     "text": [
      "Epoch [39/50], Ave Loss: 0.4424, Recon Loss: 0.0002, Commit Loss: 0.3537, Latent Loss: 0.3537\n"
     ]
    },
    {
     "name": "stderr",
     "output_type": "stream",
     "text": [
      " 80%|████████  | 40/50 [03:01<00:45,  4.55s/it]"
     ]
    },
    {
     "name": "stdout",
     "output_type": "stream",
     "text": [
      "Epoch [40/50], Ave Loss: 0.4494, Recon Loss: 0.0002, Commit Loss: 0.3594, Latent Loss: 0.3594\n"
     ]
    },
    {
     "name": "stderr",
     "output_type": "stream",
     "text": [
      " 82%|████████▏ | 41/50 [03:05<00:40,  4.53s/it]"
     ]
    },
    {
     "name": "stdout",
     "output_type": "stream",
     "text": [
      "Epoch [41/50], Ave Loss: 0.4514, Recon Loss: 0.0002, Commit Loss: 0.3609, Latent Loss: 0.3609\n"
     ]
    },
    {
     "name": "stderr",
     "output_type": "stream",
     "text": [
      " 84%|████████▍ | 42/50 [03:10<00:36,  4.51s/it]"
     ]
    },
    {
     "name": "stdout",
     "output_type": "stream",
     "text": [
      "Epoch [42/50], Ave Loss: 0.4504, Recon Loss: 0.0002, Commit Loss: 0.3601, Latent Loss: 0.3601\n"
     ]
    },
    {
     "name": "stderr",
     "output_type": "stream",
     "text": [
      " 86%|████████▌ | 43/50 [03:14<00:31,  4.51s/it]"
     ]
    },
    {
     "name": "stdout",
     "output_type": "stream",
     "text": [
      "Epoch [43/50], Ave Loss: 0.4501, Recon Loss: 0.0002, Commit Loss: 0.3599, Latent Loss: 0.3599\n"
     ]
    },
    {
     "name": "stderr",
     "output_type": "stream",
     "text": [
      " 88%|████████▊ | 44/50 [03:19<00:26,  4.50s/it]"
     ]
    },
    {
     "name": "stdout",
     "output_type": "stream",
     "text": [
      "Epoch [44/50], Ave Loss: 0.4476, Recon Loss: 0.0002, Commit Loss: 0.3579, Latent Loss: 0.3579\n"
     ]
    },
    {
     "name": "stderr",
     "output_type": "stream",
     "text": [
      " 90%|█████████ | 45/50 [03:23<00:22,  4.49s/it]"
     ]
    },
    {
     "name": "stdout",
     "output_type": "stream",
     "text": [
      "Epoch [45/50], Ave Loss: 0.4432, Recon Loss: 0.0002, Commit Loss: 0.3544, Latent Loss: 0.3544\n"
     ]
    },
    {
     "name": "stderr",
     "output_type": "stream",
     "text": [
      " 92%|█████████▏| 46/50 [03:28<00:17,  4.49s/it]"
     ]
    },
    {
     "name": "stdout",
     "output_type": "stream",
     "text": [
      "Epoch [46/50], Ave Loss: 0.4448, Recon Loss: 0.0002, Commit Loss: 0.3557, Latent Loss: 0.3557\n"
     ]
    },
    {
     "name": "stderr",
     "output_type": "stream",
     "text": [
      " 94%|█████████▍| 47/50 [03:32<00:13,  4.50s/it]"
     ]
    },
    {
     "name": "stdout",
     "output_type": "stream",
     "text": [
      "Epoch [47/50], Ave Loss: 0.4455, Recon Loss: 0.0002, Commit Loss: 0.3563, Latent Loss: 0.3563\n"
     ]
    },
    {
     "name": "stderr",
     "output_type": "stream",
     "text": [
      " 96%|█████████▌| 48/50 [03:37<00:09,  4.53s/it]"
     ]
    },
    {
     "name": "stdout",
     "output_type": "stream",
     "text": [
      "Epoch [48/50], Ave Loss: 0.4566, Recon Loss: 0.0002, Commit Loss: 0.3651, Latent Loss: 0.3651\n"
     ]
    },
    {
     "name": "stderr",
     "output_type": "stream",
     "text": [
      " 98%|█████████▊| 49/50 [03:41<00:04,  4.52s/it]"
     ]
    },
    {
     "name": "stdout",
     "output_type": "stream",
     "text": [
      "Epoch [49/50], Ave Loss: 0.4753, Recon Loss: 0.0002, Commit Loss: 0.3801, Latent Loss: 0.3801\n"
     ]
    },
    {
     "name": "stderr",
     "output_type": "stream",
     "text": [
      "100%|██████████| 50/50 [03:46<00:00,  4.52s/it]"
     ]
    },
    {
     "name": "stdout",
     "output_type": "stream",
     "text": [
      "Epoch [50/50], Ave Loss: 0.4722, Recon Loss: 0.0002, Commit Loss: 0.3776, Latent Loss: 0.3776\n"
     ]
    },
    {
     "name": "stderr",
     "output_type": "stream",
     "text": [
      "\n"
     ]
    }
   ],
   "source": [
    "# Set the number of epochs\n",
    "num_epochs = 50\n",
    "\n",
    "# Create an optimizer\n",
    "optimizer = optim.Adam(model.parameters())\n",
    "# Print the number of parameters\n",
    "print(f\"Number of parameters: {sum(p.numel() for p in model.parameters() if p.requires_grad)}\")\n",
    "\n",
    "# Train the model\n",
    "for epoch in tqdm(range(num_epochs)):\n",
    "    total_loss = 0\n",
    "    r_loss = 0\n",
    "    c_loss = 0\n",
    "    l_loss = 0  \n",
    "    total = 0 \n",
    "    for batch_idx, (data, _) in enumerate(train_loader):\n",
    "        # Move the data to the device\n",
    "        data = data.to(device)\n",
    "        total += data.size(0)\n",
    "        \n",
    "        # Forward pass\n",
    "        x_hat, z_e, z_q, indices = model(data)\n",
    "        recon_loss = nn.MSELoss()(x_hat, data)\n",
    "        commit_loss = nn.MSELoss()(z_e.detach(), z_q)\n",
    "        latent_loss = nn.MSELoss()(z_e, z_q.detach())\n",
    "        loss = recon_loss + 0.25 * commit_loss + latent_loss\n",
    "        \n",
    "        # Backward pass\n",
    "        optimizer.zero_grad()\n",
    "        loss.backward()\n",
    "        optimizer.step()\n",
    "        \n",
    "        total_loss += loss.item()\n",
    "        r_loss += recon_loss.item()\n",
    "        c_loss += commit_loss.item()\n",
    "        l_loss += latent_loss.item()\n",
    "    \n",
    "    tqdm.write(f\"Epoch [{epoch+1}/{num_epochs}], Ave Loss: {total_loss/total:.4f}, Recon Loss: {r_loss/total:.4f}, Commit Loss: {c_loss/total:.4f}, Latent Loss: {l_loss/total:.4f}\")"
   ]
  },
  {
   "cell_type": "code",
   "execution_count": 98,
   "metadata": {},
   "outputs": [
    {
     "data": {
      "image/png": "[encoded data removed]",
      "text/plain": [
       "<Figure size 1600x800 with 32 Axes>"
      ]
     },
     "metadata": {},
     "output_type": "display_data"
    }
   ],
   "source": [
    "import matplotlib.pyplot as plt\n",
    "\n",
    "# Set the model to evaluation mode\n",
    "model.eval()\n",
    "\n",
    "# Sample 16 images from the test set\n",
    "sample_indices = torch.randint(len(test_set), (16,))\n",
    "sample_images = torch.stack([test_set[i][0] for i in sample_indices])\n",
    "\n",
    "# Move the sample images to the same device as the model\n",
    "sample_images = sample_images.to(device)\n",
    "\n",
    "# Pass the sample images through the model\n",
    "with torch.no_grad():\n",
    "    recon_images, _, _, _ = model(sample_images)\n",
    "\n",
    "# Convert the images to numpy arrays\n",
    "sample_images = sample_images.cpu().numpy()\n",
    "recon_images = recon_images.cpu().numpy()\n",
    "\n",
    "# Rescale the images from [-1, 1] to [0, 1]\n",
    "sample_images = (sample_images + 1) / 2\n",
    "recon_images = (recon_images + 1) / 2\n",
    "\n",
    "# Plot the original and reconstructed images\n",
    "fig, axes = plt.subplots(4, 8, figsize=(16, 8))\n",
    "axes = axes.flatten()\n",
    "\n",
    "for i in range(16):\n",
    "    axes[i].imshow(sample_images[i].transpose(1, 2, 0))\n",
    "    axes[i].axis('off')\n",
    "    axes[i + 16].imshow(recon_images[i].transpose(1, 2, 0))\n",
    "    axes[i + 16].axis('off')\n",
    "\n",
    "plt.tight_layout()\n",
    "plt.show()\n"
   ]
  }
 ],
 "metadata": {
  "kernelspec": {
   "display_name": "fuyu",
   "language": "python",
   "name": "python3"
  },
  "language_info": {
   "codemirror_mode": {
    "name": "ipython",
    "version": 3
   },
   "file_extension": ".py",
   "mimetype": "text/x-python",
   "name": "python",
   "nbconvert_exporter": "python",
   "pygments_lexer": "ipython3",
   "version": "3.10.13"
  }
 },
 "nbformat": 4,
 "nbformat_minor": 2
}
