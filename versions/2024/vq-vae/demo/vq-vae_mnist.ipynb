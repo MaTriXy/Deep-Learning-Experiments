{
 "cells": [
  {
   "cell_type": "markdown",
   "metadata": {},
   "source": [
    "## VQ-VAE MNIST"
   ]
  },
  {
   "cell_type": "code",
   "execution_count": 75,
   "metadata": {},
   "outputs": [],
   "source": [
    "import torch\n",
    "import torchvision\n",
    "import torch.nn as nn\n",
    "import torch.optim as optim\n",
    "from torchvision import transforms\n",
    "from tqdm import tqdm\n",
    "\n",
    "# Define the transformations to apply to the data\n",
    "transform = transforms.Compose([\n",
    "    transforms.ToTensor(),\n",
    "    transforms.Normalize((0.5,), (0.5,))\n",
    "])\n",
    "\n",
    "# Load the MNIST dataset\n",
    "train_dataset = torchvision.datasets.MNIST(root='~/data', train=True, download=True, transform=transform)\n",
    "test_dataset = torchvision.datasets.MNIST(root='~/data', train=False, download=True, transform=transform)\n",
    "\n",
    "# Create the data loaders\n",
    "batch_size = 256\n",
    "train_loader = torch.utils.data.DataLoader(train_dataset, batch_size=batch_size, shuffle=True)\n",
    "test_loader = torch.utils.data.DataLoader(test_dataset, batch_size=batch_size, shuffle=False)\n"
   ]
  },
  {
   "cell_type": "code",
   "execution_count": 76,
   "metadata": {},
   "outputs": [],
   "source": [
    "# Define the VQ-VAE encoder\n",
    "class Encoder(nn.Module):\n",
    "    def __init__(self, input_dim, hidden_dim, embedding_dim):\n",
    "        super(Encoder, self).__init__()\n",
    "        self.conv1 = nn.Conv2d(input_dim, hidden_dim, kernel_size=4, stride=2, padding=1)\n",
    "        self.conv2 = nn.Conv2d(hidden_dim, hidden_dim, kernel_size=4, stride=2, padding=1)\n",
    "        self.conv3 = nn.Conv2d(hidden_dim, embedding_dim, kernel_size=1, stride=1)\n",
    "        \n",
    "    def forward(self, x):\n",
    "        x = torch.relu(self.conv1(x))\n",
    "        x = torch.relu(self.conv2(x))\n",
    "        x = self.conv3(x)\n",
    "        return x\n",
    "\n",
    "# Define the VQ-VAE decoder\n",
    "class Decoder(nn.Module):\n",
    "    def __init__(self, embedding_dim, hidden_dim, output_dim):\n",
    "        super(Decoder, self).__init__()\n",
    "        self.deconv1 = nn.ConvTranspose2d(embedding_dim, hidden_dim, kernel_size=4, stride=2, padding=1)\n",
    "        self.deconv2 = nn.ConvTranspose2d(hidden_dim, hidden_dim, kernel_size=4, stride=2, padding=1)\n",
    "        self.deconv3 = nn.ConvTranspose2d(hidden_dim, output_dim, kernel_size=1, stride=1)\n",
    "        \n",
    "    def forward(self, x):\n",
    "        x = torch.relu(self.deconv1(x))\n",
    "        x = torch.relu(self.deconv2(x))\n",
    "        x = self.deconv3(x)\n",
    "        x = torch.tanh(x)\n",
    "        return x\n"
   ]
  },
  {
   "cell_type": "code",
   "execution_count": 77,
   "metadata": {},
   "outputs": [],
   "source": [
    "class Quantizer(nn.Module):\n",
    "    def __init__(self, num_embeddings, embedding_dim):\n",
    "        super(Quantizer, self).__init__()\n",
    "        # codebook vectors \n",
    "        self.embedding = nn.Embedding(num_embeddings, embedding_dim)\n",
    "        # w/o this line, training will not converge\n",
    "        self.embedding.weight.data.uniform_(-1./num_embeddings, 1./num_embeddings)\n",
    "        self.embedding_dim = embedding_dim\n",
    "        self.num_embeddings = num_embeddings\n",
    "        \n",
    "    def forward(self, z_e):\n",
    "        # z_e - encoder latent code (B, C, H, W) -> (B, H, W, C)\n",
    "        z_e = z_e.permute(0, 2, 3, 1).contiguous()\n",
    "        z_e_shape = z_e.shape\n",
    "        # flat version of z_e\n",
    "        flat_z_e = z_e.view(-1, self.embedding_dim)\n",
    "\n",
    "        # distance between z_e and embeddings\n",
    "        distances = (torch.sum(flat_z_e**2, dim=1, keepdim=True) \n",
    "                    + torch.sum(self.embedding.weight**2, dim=1)\n",
    "                    - 2 * torch.matmul(flat_z_e, self.embedding.weight.t()))\n",
    "        \n",
    "        # minimal distance between z_e and embeddings\n",
    "        encoding_indices = torch.argmin(distances, dim=1).unsqueeze(1)\n",
    "        encodings = torch.zeros(encoding_indices.shape[0], self.num_embeddings, device=z_e.device)\n",
    "        # one-hot vector based on the minimal distance (eg 49 x 10-dimensional one-hot vectors)\n",
    "        encodings.scatter_(1, encoding_indices, 1)\n",
    "        \n",
    "        # Quantize and unflatten\n",
    "        # N one-hot encodings quantizing/filtering by 0 or 1 each dim (col) of embedding\n",
    "        # The encodings builds a map of which feature point of each feature embedding vector is used\n",
    "        z_q = torch.matmul(encodings, self.embedding.weight).view(z_e_shape)\n",
    "        \n",
    "        # What is the purpose of z_q + (z_e - z_q).detach()?\n",
    "        # Preserve gradients?\n",
    "        z_q = z_e + (z_q - z_e).detach()\n",
    "        \n",
    "        # restore to original channel dimension\n",
    "        z_q = z_q.permute(0, 3, 1, 2).contiguous()\n",
    "\n",
    "        return z_q, encoding_indices"
   ]
  },
  {
   "cell_type": "code",
   "execution_count": 78,
   "metadata": {},
   "outputs": [],
   "source": [
    "class VQVAE(nn.Module):\n",
    "    def __init__(self, input_dim, hidden_dim, embedding_dim, num_embeddings):\n",
    "        super(VQVAE, self).__init__()\n",
    "        \n",
    "        self.encoder = Encoder(input_dim, hidden_dim, embedding_dim)\n",
    "        self.quantizer = Quantizer(num_embeddings, embedding_dim)\n",
    "        self.decoder = Decoder(embedding_dim, hidden_dim, input_dim)\n",
    "        \n",
    "    def forward(self, x):\n",
    "        # Encode the input\n",
    "        z_e = self.encoder(x)\n",
    "        \n",
    "        # Quantize the encoded input\n",
    "        z_q, indices = self.quantizer(z_e)\n",
    "        \n",
    "        # Decode the quantized input\n",
    "        x_hat = self.decoder(z_q)\n",
    "        \n",
    "        return x_hat, z_e, z_q, indices\n"
   ]
  },
  {
   "cell_type": "code",
   "execution_count": 79,
   "metadata": {},
   "outputs": [],
   "source": [
    "device = torch.device('cuda' if torch.cuda.is_available() else 'cpu')\n",
    "model = VQVAE(1, 128, 64, 10).to(device)"
   ]
  },
  {
   "cell_type": "code",
   "execution_count": 80,
   "metadata": {},
   "outputs": [],
   "source": [
    "random_input = torch.randn(1, 1, 28, 28).to(device)\n",
    "z_e = model.encoder(random_input)\n",
    "z_q, indeces = model.quantizer(z_e)\n",
    "x_hat = model.decoder(z_q)\n",
    "#x_hat, z_e, z_q, indices = model(random_input)"
   ]
  },
  {
   "cell_type": "code",
   "execution_count": 81,
   "metadata": {},
   "outputs": [
    {
     "name": "stdout",
     "output_type": "stream",
     "text": [
      "Number of parameters: 666945\n"
     ]
    },
    {
     "name": "stderr",
     "output_type": "stream",
     "text": [
      " 10%|█         | 1/10 [00:09<01:24,  9.35s/it]"
     ]
    },
    {
     "name": "stdout",
     "output_type": "stream",
     "text": [
      "Epoch [1/10], Ave Loss: 0.0132,        Recon Loss: 0.0004, Commit Loss: 0.0106, Latent Loss: 0.0106\n"
     ]
    },
    {
     "name": "stderr",
     "output_type": "stream",
     "text": [
      " 20%|██        | 2/10 [00:18<01:13,  9.24s/it]"
     ]
    },
    {
     "name": "stdout",
     "output_type": "stream",
     "text": [
      "Epoch [2/10], Ave Loss: 0.0232,        Recon Loss: 0.0002, Commit Loss: 0.0191, Latent Loss: 0.0191\n"
     ]
    },
    {
     "name": "stderr",
     "output_type": "stream",
     "text": [
      " 30%|███       | 3/10 [00:27<01:04,  9.22s/it]"
     ]
    },
    {
     "name": "stdout",
     "output_type": "stream",
     "text": [
      "Epoch [3/10], Ave Loss: 0.0327,        Recon Loss: 0.0002, Commit Loss: 0.0271, Latent Loss: 0.0271\n"
     ]
    },
    {
     "name": "stderr",
     "output_type": "stream",
     "text": [
      " 40%|████      | 4/10 [00:36<00:55,  9.22s/it]"
     ]
    },
    {
     "name": "stdout",
     "output_type": "stream",
     "text": [
      "Epoch [4/10], Ave Loss: 0.0392,        Recon Loss: 0.0002, Commit Loss: 0.0325, Latent Loss: 0.0325\n"
     ]
    },
    {
     "name": "stderr",
     "output_type": "stream",
     "text": [
      " 50%|█████     | 5/10 [00:46<00:46,  9.27s/it]"
     ]
    },
    {
     "name": "stdout",
     "output_type": "stream",
     "text": [
      "Epoch [5/10], Ave Loss: 0.0464,        Recon Loss: 0.0002, Commit Loss: 0.0385, Latent Loss: 0.0385\n"
     ]
    },
    {
     "name": "stderr",
     "output_type": "stream",
     "text": [
      " 60%|██████    | 6/10 [00:55<00:36,  9.24s/it]"
     ]
    },
    {
     "name": "stdout",
     "output_type": "stream",
     "text": [
      "Epoch [6/10], Ave Loss: 0.0520,        Recon Loss: 0.0002, Commit Loss: 0.0432, Latent Loss: 0.0432\n"
     ]
    },
    {
     "name": "stderr",
     "output_type": "stream",
     "text": [
      " 70%|███████   | 7/10 [01:04<00:27,  9.22s/it]"
     ]
    },
    {
     "name": "stdout",
     "output_type": "stream",
     "text": [
      "Epoch [7/10], Ave Loss: 0.0537,        Recon Loss: 0.0002, Commit Loss: 0.0446, Latent Loss: 0.0446\n"
     ]
    },
    {
     "name": "stderr",
     "output_type": "stream",
     "text": [
      " 80%|████████  | 8/10 [01:13<00:18,  9.20s/it]"
     ]
    },
    {
     "name": "stdout",
     "output_type": "stream",
     "text": [
      "Epoch [8/10], Ave Loss: 0.0529,        Recon Loss: 0.0002, Commit Loss: 0.0439, Latent Loss: 0.0439\n"
     ]
    },
    {
     "name": "stderr",
     "output_type": "stream",
     "text": [
      " 90%|█████████ | 9/10 [01:23<00:09,  9.25s/it]"
     ]
    },
    {
     "name": "stdout",
     "output_type": "stream",
     "text": [
      "Epoch [9/10], Ave Loss: 0.0571,        Recon Loss: 0.0002, Commit Loss: 0.0474, Latent Loss: 0.0474\n"
     ]
    },
    {
     "name": "stderr",
     "output_type": "stream",
     "text": [
      "100%|██████████| 10/10 [01:32<00:00,  9.23s/it]"
     ]
    },
    {
     "name": "stdout",
     "output_type": "stream",
     "text": [
      "Epoch [10/10], Ave Loss: 0.0607,        Recon Loss: 0.0002, Commit Loss: 0.0504, Latent Loss: 0.0504\n"
     ]
    },
    {
     "name": "stderr",
     "output_type": "stream",
     "text": [
      "\n"
     ]
    }
   ],
   "source": [
    "# Set the number of epochs\n",
    "num_epochs = 10\n",
    "\n",
    "# Create an optimizer\n",
    "optimizer = optim.Adam(model.parameters())\n",
    "# Print the number of parameters\n",
    "print(f\"Number of parameters: {sum(p.numel() for p in model.parameters() if p.requires_grad)}\")\n",
    "\n",
    "# Train the model\n",
    "for epoch in tqdm(range(num_epochs)):\n",
    "    total_loss = 0\n",
    "    r_loss = 0\n",
    "    c_loss = 0\n",
    "    l_loss = 0  \n",
    "    total = 0 \n",
    "    for batch_idx, (data, _) in enumerate(train_loader):\n",
    "        # Move the data to the device\n",
    "        data = data.to(device)\n",
    "        total += data.size(0)\n",
    "        \n",
    "        # Forward pass\n",
    "        x_hat, z_e, z_q, indices = model(data)\n",
    "        recon_loss = nn.MSELoss()(x_hat, data)\n",
    "        commit_loss = nn.MSELoss()(z_e.detach(), z_q)\n",
    "        latent_loss = nn.MSELoss()(z_e, z_q.detach())\n",
    "        loss = recon_loss + 0.2 * commit_loss + latent_loss\n",
    "        \n",
    "        # Backward pass\n",
    "        optimizer.zero_grad()\n",
    "        loss.backward()\n",
    "        optimizer.step()\n",
    "        \n",
    "        total_loss += loss.item()\n",
    "        r_loss += recon_loss.item()\n",
    "        c_loss += commit_loss.item()\n",
    "        l_loss += latent_loss.item()\n",
    "    \n",
    "    tqdm.write(f\"Epoch [{epoch+1}/{num_epochs}], Ave Loss: {total_loss/total:.4f},\\\n",
    "        Recon Loss: {r_loss/total:.4f}, Commit Loss: {c_loss/total:.4f}, Latent Loss: {l_loss/total:.4f}\")"
   ]
  },
  {
   "cell_type": "code",
   "execution_count": 82,
   "metadata": {},
   "outputs": [
    {
     "data": {
      "image/png": "[encoded data removed]",
      "text/plain": [
       "<Figure size 1200x600 with 32 Axes>"
      ]
     },
     "metadata": {},
     "output_type": "display_data"
    },
    {
     "name": "stdout",
     "output_type": "stream",
     "text": [
      "torch.Size([16, 64, 7, 7])\n",
      "index: 1\n",
      "tensor(-7.2635, device='cuda:0', grad_fn=<SumBackward0>)\n",
      "index: 2\n",
      "tensor(-6.4684, device='cuda:0', grad_fn=<SumBackward0>)\n",
      "index: 3\n",
      "tensor(-7.2977, device='cuda:0', grad_fn=<SumBackward0>)\n",
      "index: 4\n",
      "tensor(-7.8611, device='cuda:0', grad_fn=<SumBackward0>)\n",
      "index: 5\n",
      "tensor(-5.3653, device='cuda:0', grad_fn=<SumBackward0>)\n",
      "index: 6\n",
      "tensor(-9.1054, device='cuda:0', grad_fn=<SumBackward0>)\n",
      "index: 7\n",
      "tensor(-5.1085, device='cuda:0', grad_fn=<SumBackward0>)\n",
      "index: 8\n",
      "tensor(-4.6867, device='cuda:0', grad_fn=<SumBackward0>)\n",
      "index: 9\n",
      "tensor(-7.1445, device='cuda:0', grad_fn=<SumBackward0>)\n",
      "index: 10\n",
      "tensor(-4.9817, device='cuda:0', grad_fn=<SumBackward0>)\n",
      "index: 11\n",
      "tensor(-9.6027, device='cuda:0', grad_fn=<SumBackward0>)\n",
      "index: 12\n",
      "tensor(-6.9829, device='cuda:0', grad_fn=<SumBackward0>)\n",
      "index: 13\n",
      "tensor(-10.1071, device='cuda:0', grad_fn=<SumBackward0>)\n",
      "index: 14\n",
      "tensor(-3.3657, device='cuda:0', grad_fn=<SumBackward0>)\n",
      "index: 15\n",
      "tensor(-7.8205, device='cuda:0', grad_fn=<SumBackward0>)\n",
      "index: 16\n",
      "tensor(-8.1888, device='cuda:0', grad_fn=<SumBackward0>)\n"
     ]
    }
   ],
   "source": [
    "import matplotlib.pyplot as plt\n",
    "\n",
    "model.eval()\n",
    "\n",
    "# Get 16 random samples from the test split\n",
    "random_indices = torch.randint(0, len(test_dataset), (16,))\n",
    "samples = [test_dataset[i][0] for i in random_indices]\n",
    "\n",
    "# Move the samples to the device\n",
    "samples = torch.stack(samples).to(device)\n",
    "\n",
    "reconstructed_samples, _, _, _ = model(samples)\n",
    "\n",
    "# Denormalize the samples\n",
    "samples = (samples * 0.5) + 0.5\n",
    "reconstructed_samples = (reconstructed_samples * 0.5) + 0.5\n",
    "\n",
    "# Visualize the original and reconstructed images\n",
    "fig, axes = plt.subplots(4, 8, figsize=(12, 6))\n",
    "axes = axes.flatten()\n",
    "\n",
    "for i in range(16):\n",
    "    axes[i].imshow(samples[i].squeeze().cpu(), cmap='gray')\n",
    "    axes[i].axis('off')\n",
    "    axes[i+16].imshow(reconstructed_samples[i].squeeze().detach().cpu(), cmap='gray')\n",
    "    axes[i+16].axis('off')\n",
    "\n",
    "plt.tight_layout()\n",
    "plt.show()\n",
    "x_hat, z_e, z_q, indices = model(samples)\n",
    "print(z_q.shape)\n",
    "for i in range(16):\n",
    "    print(f\"index: {i+1}\")\n",
    "    print(torch.sum(z_q[i]))\n"
   ]
  },
  {
   "cell_type": "code",
   "execution_count": 83,
   "metadata": {},
   "outputs": [
    {
     "name": "stdout",
     "output_type": "stream",
     "text": [
      "tensor([0.0582, 0.0582, 0.0582,  ..., 0.0667, 0.0055, 0.0055], device='cuda:0',\n",
      "       grad_fn=<ViewBackward0>)\n",
      "tensor([ 0.0582,  0.0200, -0.0752,  ...,  0.0332,  0.0172,  0.0055],\n",
      "       device='cuda:0', grad_fn=<ViewBackward0>)\n",
      "torch.Size([3136])\n",
      "torch.Size([3136])\n",
      "tensor(-7.2635, device='cuda:0', grad_fn=<SumBackward0>)\n",
      "tensor(-7.1445, device='cuda:0', grad_fn=<SumBackward0>)\n"
     ]
    }
   ],
   "source": [
    "a = z_q[0]\n",
    "b = z_q[8]\n",
    "a = a.view(-1)\n",
    "b = b.view(-1)\n",
    "print(a)\n",
    "print(b)\n",
    "print(a.shape)\n",
    "print(b.shape)\n",
    "print(torch.sum(a))\n",
    "print(torch.sum(b))"
   ]
  }
 ],
 "metadata": {
  "kernelspec": {
   "display_name": "fuyu",
   "language": "python",
   "name": "python3"
  },
  "language_info": {
   "codemirror_mode": {
    "name": "ipython",
    "version": 3
   },
   "file_extension": ".py",
   "mimetype": "text/x-python",
   "name": "python",
   "nbconvert_exporter": "python",
   "pygments_lexer": "ipython3",
   "version": "3.10.13"
  }
 },
 "nbformat": 4,
 "nbformat_minor": 2
}
