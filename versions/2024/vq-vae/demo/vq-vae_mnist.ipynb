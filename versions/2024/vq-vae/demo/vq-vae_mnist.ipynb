{
 "cells": [
  {
   "cell_type": "markdown",
   "metadata": {},
   "source": [
    "## VQ-VAE MNIST"
   ]
  },
  {
   "cell_type": "code",
   "execution_count": 1,
   "metadata": {},
   "outputs": [
    {
     "name": "stderr",
     "output_type": "stream",
     "text": [
      "/home/rowel/anaconda3/envs/fuyu/lib/python3.10/site-packages/tqdm/auto.py:21: TqdmWarning: IProgress not found. Please update jupyter and ipywidgets. See https://ipywidgets.readthedocs.io/en/stable/user_install.html\n",
      "  from .autonotebook import tqdm as notebook_tqdm\n"
     ]
    }
   ],
   "source": [
    "import torch\n",
    "import torchvision\n",
    "from torchvision import transforms\n",
    "import torch.nn as nn\n",
    "import torch.optim as optim\n",
    "from tqdm import tqdm\n",
    "\n",
    "# Define the transformations to apply to the data\n",
    "transform = transforms.Compose([\n",
    "    transforms.ToTensor(),\n",
    "    transforms.Normalize((0.5,), (0.5,))\n",
    "])\n",
    "\n",
    "# Load the MNIST dataset\n",
    "train_dataset = torchvision.datasets.MNIST(root='./data', train=True, download=True, transform=transform)\n",
    "test_dataset = torchvision.datasets.MNIST(root='./data', train=False, download=True, transform=transform)\n",
    "\n",
    "# Create the data loaders\n",
    "batch_size = 256\n",
    "train_loader = torch.utils.data.DataLoader(train_dataset, batch_size=batch_size, shuffle=True)\n",
    "test_loader = torch.utils.data.DataLoader(test_dataset, batch_size=batch_size, shuffle=False)\n"
   ]
  },
  {
   "cell_type": "code",
   "execution_count": 2,
   "metadata": {},
   "outputs": [],
   "source": [
    "# Define the VQ-VAE encoder\n",
    "class Encoder(nn.Module):\n",
    "    def __init__(self, input_dim, hidden_dim, embedding_dim):\n",
    "        super(Encoder, self).__init__()\n",
    "        self.conv1 = nn.Conv2d(input_dim, hidden_dim, kernel_size=4, stride=2, padding=1)\n",
    "        self.conv2 = nn.Conv2d(hidden_dim, hidden_dim, kernel_size=4, stride=2, padding=1)\n",
    "        self.conv3 = nn.Conv2d(hidden_dim, embedding_dim, kernel_size=1, stride=1)\n",
    "        \n",
    "    def forward(self, x):\n",
    "        x = torch.relu(self.conv1(x))\n",
    "        x = torch.relu(self.conv2(x))\n",
    "        x = self.conv3(x)\n",
    "        return x\n",
    "\n",
    "# Define the VQ-VAE decoder\n",
    "class Decoder(nn.Module):\n",
    "    def __init__(self, embedding_dim, hidden_dim, output_dim):\n",
    "        super(Decoder, self).__init__()\n",
    "        self.deconv1 = nn.ConvTranspose2d(embedding_dim, hidden_dim, kernel_size=4, stride=2, padding=1)\n",
    "        self.deconv2 = nn.ConvTranspose2d(hidden_dim, hidden_dim, kernel_size=4, stride=2, padding=1)\n",
    "        self.deconv3 = nn.ConvTranspose2d(hidden_dim, output_dim, kernel_size=1, stride=1)\n",
    "        \n",
    "    def forward(self, x):\n",
    "        x = torch.relu(self.deconv1(x))\n",
    "        x = torch.relu(self.deconv2(x))\n",
    "        x = self.deconv3(x)\n",
    "        return x\n"
   ]
  },
  {
   "cell_type": "code",
   "execution_count": 3,
   "metadata": {},
   "outputs": [],
   "source": [
    "class Quantizer(nn.Module):\n",
    "    def __init__(self, num_embeddings, embedding_dim):\n",
    "        super(Quantizer, self).__init__()\n",
    "        self.embedding = nn.Embedding(num_embeddings, embedding_dim)\n",
    "        self.embedding.weight.data.uniform_(-1./num_embeddings, 1./num_embeddings)\n",
    "        self.embedding_dim = embedding_dim\n",
    "        self.num_embeddings = num_embeddings\n",
    "        \n",
    "    def forward(self, z_e):\n",
    "        z_e = z_e.permute(0, 2, 3, 1).contiguous()\n",
    "        z_e_shape = z_e.shape\n",
    "        flat_e = z_e.view(-1, self.embedding_dim)\n",
    "\n",
    "\n",
    "        distances = (torch.sum(flat_e**2, dim=1, keepdim=True) \n",
    "                    + torch.sum(self.embedding.weight**2, dim=1)\n",
    "                    - 2 * torch.matmul(flat_e, self.embedding.weight.t()))\n",
    "        \n",
    "        \n",
    "        encoding_indices = torch.argmin(distances, dim=1).unsqueeze(1)\n",
    "        encodings = torch.zeros(encoding_indices.shape[0], self.num_embeddings, device=z_e.device)\n",
    "        encodings.scatter_(1, encoding_indices, 1)\n",
    "        \n",
    "        # Quantize and unflatten\n",
    "        z_q = torch.matmul(encodings, self.embedding.weight).view(z_e_shape) \n",
    "        z_q = z_e + (z_q - z_e).detach()\n",
    "        z_q = z_q.permute(0, 3, 1, 2).contiguous()\n",
    "        \n",
    "        return z_q, encoding_indices\n",
    "\n"
   ]
  },
  {
   "cell_type": "code",
   "execution_count": 4,
   "metadata": {},
   "outputs": [],
   "source": [
    "class VQVAE(nn.Module):\n",
    "    def __init__(self, input_dim, hidden_dim, embedding_dim, num_embeddings):\n",
    "        super(VQVAE, self).__init__()\n",
    "        \n",
    "        # Define the VQ-VAE encoder\n",
    "        self.encoder = Encoder(input_dim, hidden_dim, embedding_dim)\n",
    "        \n",
    "        # Define the VQ-VAE quantizer\n",
    "        self.quantizer = Quantizer(num_embeddings, embedding_dim)\n",
    "        \n",
    "        # Define the VQ-VAE decoder\n",
    "        self.decoder = Decoder(embedding_dim, hidden_dim, input_dim)\n",
    "        \n",
    "    def forward(self, x):\n",
    "        # Encode the input\n",
    "        z_e = self.encoder(x)\n",
    "        \n",
    "        # Quantize the encoded input\n",
    "        z_q, indices = self.quantizer(z_e)\n",
    "        \n",
    "        # Decode the quantized input\n",
    "        x_hat = self.decoder(z_q)\n",
    "        \n",
    "        return x_hat, z_e, z_q, indices\n"
   ]
  },
  {
   "cell_type": "code",
   "execution_count": 5,
   "metadata": {},
   "outputs": [],
   "source": [
    "device = torch.device('cuda' if torch.cuda.is_available() else 'cpu')\n",
    "model = VQVAE(1, 128, 64, 512).to(device)\n"
   ]
  },
  {
   "cell_type": "code",
   "execution_count": 6,
   "metadata": {},
   "outputs": [],
   "source": [
    "random_input = torch.randn(1, 1, 28, 28).to(device)\n",
    "z_e = model.encoder(random_input)\n",
    "z_q, indeces = model.quantizer(z_e)\n",
    "x_hat = model.decoder(z_q)\n",
    "#x_hat, z_e, z_q, indices = model(random_input)\n"
   ]
  },
  {
   "cell_type": "code",
   "execution_count": 7,
   "metadata": {},
   "outputs": [
    {
     "name": "stdout",
     "output_type": "stream",
     "text": [
      "Number of parameters: 699073\n"
     ]
    },
    {
     "name": "stderr",
     "output_type": "stream",
     "text": [
      "  1%|          | 1/100 [00:09<15:27,  9.37s/it]"
     ]
    },
    {
     "name": "stdout",
     "output_type": "stream",
     "text": [
      "Epoch [1/100], Ave Loss: 6.9690, Recon Loss: 0.0012, Commit Loss: 5.8066, Latent Loss: 5.8066\n"
     ]
    },
    {
     "name": "stderr",
     "output_type": "stream",
     "text": [
      "  2%|▏         | 2/100 [00:18<14:50,  9.09s/it]"
     ]
    },
    {
     "name": "stdout",
     "output_type": "stream",
     "text": [
      "Epoch [2/100], Ave Loss: 34.0327, Recon Loss: 0.0006, Commit Loss: 28.3601, Latent Loss: 28.3601\n"
     ]
    },
    {
     "name": "stderr",
     "output_type": "stream",
     "text": [
      "  3%|▎         | 3/100 [00:27<14:33,  9.00s/it]"
     ]
    },
    {
     "name": "stdout",
     "output_type": "stream",
     "text": [
      "Epoch [3/100], Ave Loss: 42.0084, Recon Loss: 0.0004, Commit Loss: 35.0067, Latent Loss: 35.0067\n"
     ]
    },
    {
     "name": "stderr",
     "output_type": "stream",
     "text": [
      "  4%|▍         | 4/100 [00:36<14:19,  8.96s/it]"
     ]
    },
    {
     "name": "stdout",
     "output_type": "stream",
     "text": [
      "Epoch [4/100], Ave Loss: 41.5630, Recon Loss: 0.0004, Commit Loss: 34.6355, Latent Loss: 34.6355\n"
     ]
    },
    {
     "name": "stderr",
     "output_type": "stream",
     "text": [
      "  5%|▌         | 5/100 [00:45<14:14,  8.99s/it]"
     ]
    },
    {
     "name": "stdout",
     "output_type": "stream",
     "text": [
      "Epoch [5/100], Ave Loss: 41.0632, Recon Loss: 0.0003, Commit Loss: 34.2191, Latent Loss: 34.2191\n"
     ]
    },
    {
     "name": "stderr",
     "output_type": "stream",
     "text": [
      "  6%|▌         | 6/100 [00:53<14:01,  8.95s/it]"
     ]
    },
    {
     "name": "stdout",
     "output_type": "stream",
     "text": [
      "Epoch [6/100], Ave Loss: 45.1747, Recon Loss: 0.0003, Commit Loss: 37.6454, Latent Loss: 37.6454\n"
     ]
    },
    {
     "name": "stderr",
     "output_type": "stream",
     "text": [
      "  7%|▋         | 7/100 [01:02<13:51,  8.94s/it]"
     ]
    },
    {
     "name": "stdout",
     "output_type": "stream",
     "text": [
      "Epoch [7/100], Ave Loss: 44.3776, Recon Loss: 0.0002, Commit Loss: 36.9811, Latent Loss: 36.9811\n"
     ]
    },
    {
     "name": "stderr",
     "output_type": "stream",
     "text": [
      "  8%|▊         | 8/100 [01:11<13:41,  8.93s/it]"
     ]
    },
    {
     "name": "stdout",
     "output_type": "stream",
     "text": [
      "Epoch [8/100], Ave Loss: 41.2593, Recon Loss: 0.0002, Commit Loss: 34.3826, Latent Loss: 34.3826\n"
     ]
    },
    {
     "name": "stderr",
     "output_type": "stream",
     "text": [
      "  9%|▉         | 9/100 [01:20<13:36,  8.97s/it]"
     ]
    },
    {
     "name": "stdout",
     "output_type": "stream",
     "text": [
      "Epoch [9/100], Ave Loss: 38.8842, Recon Loss: 0.0002, Commit Loss: 32.4033, Latent Loss: 32.4033\n"
     ]
    },
    {
     "name": "stderr",
     "output_type": "stream",
     "text": [
      " 10%|█         | 10/100 [01:29<13:25,  8.95s/it]"
     ]
    },
    {
     "name": "stdout",
     "output_type": "stream",
     "text": [
      "Epoch [10/100], Ave Loss: 37.4478, Recon Loss: 0.0002, Commit Loss: 31.2063, Latent Loss: 31.2063\n"
     ]
    },
    {
     "name": "stderr",
     "output_type": "stream",
     "text": [
      " 11%|█         | 11/100 [01:38<13:14,  8.93s/it]"
     ]
    },
    {
     "name": "stdout",
     "output_type": "stream",
     "text": [
      "Epoch [11/100], Ave Loss: 35.9098, Recon Loss: 0.0002, Commit Loss: 29.9247, Latent Loss: 29.9247\n"
     ]
    },
    {
     "name": "stderr",
     "output_type": "stream",
     "text": [
      " 12%|█▏        | 12/100 [01:47<13:09,  8.97s/it]"
     ]
    },
    {
     "name": "stdout",
     "output_type": "stream",
     "text": [
      "Epoch [12/100], Ave Loss: 35.7444, Recon Loss: 0.0002, Commit Loss: 29.7868, Latent Loss: 29.7868\n"
     ]
    },
    {
     "name": "stderr",
     "output_type": "stream",
     "text": [
      " 13%|█▎        | 13/100 [01:56<12:58,  8.94s/it]"
     ]
    },
    {
     "name": "stdout",
     "output_type": "stream",
     "text": [
      "Epoch [13/100], Ave Loss: 34.4319, Recon Loss: 0.0002, Commit Loss: 28.6931, Latent Loss: 28.6931\n"
     ]
    },
    {
     "name": "stderr",
     "output_type": "stream",
     "text": [
      " 14%|█▍        | 14/100 [02:05<12:47,  8.92s/it]"
     ]
    },
    {
     "name": "stdout",
     "output_type": "stream",
     "text": [
      "Epoch [14/100], Ave Loss: 33.3686, Recon Loss: 0.0002, Commit Loss: 27.8071, Latent Loss: 27.8071\n"
     ]
    },
    {
     "name": "stderr",
     "output_type": "stream",
     "text": [
      " 15%|█▌        | 15/100 [02:14<12:38,  8.92s/it]"
     ]
    },
    {
     "name": "stdout",
     "output_type": "stream",
     "text": [
      "Epoch [15/100], Ave Loss: 32.5056, Recon Loss: 0.0002, Commit Loss: 27.0879, Latent Loss: 27.0879\n"
     ]
    },
    {
     "name": "stderr",
     "output_type": "stream",
     "text": [
      " 16%|█▌        | 16/100 [02:23<12:33,  8.97s/it]"
     ]
    },
    {
     "name": "stdout",
     "output_type": "stream",
     "text": [
      "Epoch [16/100], Ave Loss: 32.1679, Recon Loss: 0.0002, Commit Loss: 26.8065, Latent Loss: 26.8065\n"
     ]
    },
    {
     "name": "stderr",
     "output_type": "stream",
     "text": [
      " 17%|█▋        | 17/100 [02:32<12:22,  8.94s/it]"
     ]
    },
    {
     "name": "stdout",
     "output_type": "stream",
     "text": [
      "Epoch [17/100], Ave Loss: 32.3781, Recon Loss: 0.0001, Commit Loss: 26.9816, Latent Loss: 26.9816\n"
     ]
    },
    {
     "name": "stderr",
     "output_type": "stream",
     "text": [
      " 18%|█▊        | 18/100 [02:41<12:11,  8.92s/it]"
     ]
    },
    {
     "name": "stdout",
     "output_type": "stream",
     "text": [
      "Epoch [18/100], Ave Loss: 32.4250, Recon Loss: 0.0001, Commit Loss: 27.0207, Latent Loss: 27.0207\n"
     ]
    },
    {
     "name": "stderr",
     "output_type": "stream",
     "text": [
      " 19%|█▉        | 19/100 [02:50<12:01,  8.91s/it]"
     ]
    },
    {
     "name": "stdout",
     "output_type": "stream",
     "text": [
      "Epoch [19/100], Ave Loss: 32.1011, Recon Loss: 0.0001, Commit Loss: 26.7508, Latent Loss: 26.7508\n"
     ]
    },
    {
     "name": "stderr",
     "output_type": "stream",
     "text": [
      " 20%|██        | 20/100 [02:59<11:56,  8.95s/it]"
     ]
    },
    {
     "name": "stdout",
     "output_type": "stream",
     "text": [
      "Epoch [20/100], Ave Loss: 31.5795, Recon Loss: 0.0001, Commit Loss: 26.3161, Latent Loss: 26.3161\n"
     ]
    },
    {
     "name": "stderr",
     "output_type": "stream",
     "text": [
      " 21%|██        | 21/100 [03:08<11:45,  8.93s/it]"
     ]
    },
    {
     "name": "stdout",
     "output_type": "stream",
     "text": [
      "Epoch [21/100], Ave Loss: 31.0516, Recon Loss: 0.0001, Commit Loss: 25.8762, Latent Loss: 25.8762\n"
     ]
    },
    {
     "name": "stderr",
     "output_type": "stream",
     "text": [
      " 22%|██▏       | 22/100 [03:16<11:35,  8.91s/it]"
     ]
    },
    {
     "name": "stdout",
     "output_type": "stream",
     "text": [
      "Epoch [22/100], Ave Loss: 32.5846, Recon Loss: 0.0001, Commit Loss: 27.1537, Latent Loss: 27.1537\n"
     ]
    },
    {
     "name": "stderr",
     "output_type": "stream",
     "text": [
      " 23%|██▎       | 23/100 [03:25<11:29,  8.96s/it]"
     ]
    },
    {
     "name": "stdout",
     "output_type": "stream",
     "text": [
      "Epoch [23/100], Ave Loss: 30.8873, Recon Loss: 0.0001, Commit Loss: 25.7393, Latent Loss: 25.7393\n"
     ]
    },
    {
     "name": "stderr",
     "output_type": "stream",
     "text": [
      " 24%|██▍       | 24/100 [03:34<11:19,  8.93s/it]"
     ]
    },
    {
     "name": "stdout",
     "output_type": "stream",
     "text": [
      "Epoch [24/100], Ave Loss: 29.6087, Recon Loss: 0.0001, Commit Loss: 24.6738, Latent Loss: 24.6738\n"
     ]
    },
    {
     "name": "stderr",
     "output_type": "stream",
     "text": [
      " 25%|██▌       | 25/100 [03:43<11:09,  8.93s/it]"
     ]
    },
    {
     "name": "stdout",
     "output_type": "stream",
     "text": [
      "Epoch [25/100], Ave Loss: 28.3050, Recon Loss: 0.0001, Commit Loss: 23.5874, Latent Loss: 23.5874\n"
     ]
    },
    {
     "name": "stderr",
     "output_type": "stream",
     "text": [
      " 26%|██▌       | 26/100 [03:52<10:59,  8.92s/it]"
     ]
    },
    {
     "name": "stdout",
     "output_type": "stream",
     "text": [
      "Epoch [26/100], Ave Loss: 27.1107, Recon Loss: 0.0001, Commit Loss: 22.5921, Latent Loss: 22.5921\n"
     ]
    },
    {
     "name": "stderr",
     "output_type": "stream",
     "text": [
      " 27%|██▋       | 27/100 [04:01<10:54,  8.96s/it]"
     ]
    },
    {
     "name": "stdout",
     "output_type": "stream",
     "text": [
      "Epoch [27/100], Ave Loss: 26.2018, Recon Loss: 0.0001, Commit Loss: 21.8347, Latent Loss: 21.8347\n"
     ]
    },
    {
     "name": "stderr",
     "output_type": "stream",
     "text": [
      " 28%|██▊       | 28/100 [04:10<10:43,  8.94s/it]"
     ]
    },
    {
     "name": "stdout",
     "output_type": "stream",
     "text": [
      "Epoch [28/100], Ave Loss: 25.4718, Recon Loss: 0.0001, Commit Loss: 21.2264, Latent Loss: 21.2264\n"
     ]
    },
    {
     "name": "stderr",
     "output_type": "stream",
     "text": [
      " 29%|██▉       | 29/100 [04:19<10:33,  8.92s/it]"
     ]
    },
    {
     "name": "stdout",
     "output_type": "stream",
     "text": [
      "Epoch [29/100], Ave Loss: 24.8588, Recon Loss: 0.0001, Commit Loss: 20.7155, Latent Loss: 20.7155\n"
     ]
    },
    {
     "name": "stderr",
     "output_type": "stream",
     "text": [
      " 30%|███       | 30/100 [04:28<10:23,  8.91s/it]"
     ]
    },
    {
     "name": "stdout",
     "output_type": "stream",
     "text": [
      "Epoch [30/100], Ave Loss: 24.4441, Recon Loss: 0.0001, Commit Loss: 20.3700, Latent Loss: 20.3700\n"
     ]
    },
    {
     "name": "stderr",
     "output_type": "stream",
     "text": [
      " 31%|███       | 31/100 [04:37<10:18,  8.96s/it]"
     ]
    },
    {
     "name": "stdout",
     "output_type": "stream",
     "text": [
      "Epoch [31/100], Ave Loss: 23.8979, Recon Loss: 0.0001, Commit Loss: 19.9148, Latent Loss: 19.9148\n"
     ]
    },
    {
     "name": "stderr",
     "output_type": "stream",
     "text": [
      " 32%|███▏      | 32/100 [04:46<10:07,  8.94s/it]"
     ]
    },
    {
     "name": "stdout",
     "output_type": "stream",
     "text": [
      "Epoch [32/100], Ave Loss: 23.4201, Recon Loss: 0.0001, Commit Loss: 19.5167, Latent Loss: 19.5167\n"
     ]
    },
    {
     "name": "stderr",
     "output_type": "stream",
     "text": [
      " 33%|███▎      | 33/100 [04:55<09:57,  8.92s/it]"
     ]
    },
    {
     "name": "stdout",
     "output_type": "stream",
     "text": [
      "Epoch [33/100], Ave Loss: 22.9547, Recon Loss: 0.0001, Commit Loss: 19.1288, Latent Loss: 19.1288\n"
     ]
    },
    {
     "name": "stderr",
     "output_type": "stream",
     "text": [
      " 34%|███▍      | 34/100 [05:04<09:48,  8.91s/it]"
     ]
    },
    {
     "name": "stdout",
     "output_type": "stream",
     "text": [
      "Epoch [34/100], Ave Loss: 22.5432, Recon Loss: 0.0001, Commit Loss: 18.7859, Latent Loss: 18.7859\n"
     ]
    },
    {
     "name": "stderr",
     "output_type": "stream",
     "text": [
      " 35%|███▌      | 35/100 [05:13<09:42,  8.95s/it]"
     ]
    },
    {
     "name": "stdout",
     "output_type": "stream",
     "text": [
      "Epoch [35/100], Ave Loss: 22.2362, Recon Loss: 0.0001, Commit Loss: 18.5301, Latent Loss: 18.5301\n"
     ]
    },
    {
     "name": "stderr",
     "output_type": "stream",
     "text": [
      " 36%|███▌      | 36/100 [05:22<09:31,  8.93s/it]"
     ]
    },
    {
     "name": "stdout",
     "output_type": "stream",
     "text": [
      "Epoch [36/100], Ave Loss: 22.0086, Recon Loss: 0.0001, Commit Loss: 18.3404, Latent Loss: 18.3404\n"
     ]
    },
    {
     "name": "stderr",
     "output_type": "stream",
     "text": [
      " 37%|███▋      | 37/100 [05:30<09:21,  8.92s/it]"
     ]
    },
    {
     "name": "stdout",
     "output_type": "stream",
     "text": [
      "Epoch [37/100], Ave Loss: 21.8347, Recon Loss: 0.0001, Commit Loss: 18.1955, Latent Loss: 18.1955\n"
     ]
    },
    {
     "name": "stderr",
     "output_type": "stream",
     "text": [
      " 38%|███▊      | 38/100 [05:39<09:12,  8.92s/it]"
     ]
    },
    {
     "name": "stdout",
     "output_type": "stream",
     "text": [
      "Epoch [38/100], Ave Loss: 21.7209, Recon Loss: 0.0001, Commit Loss: 18.1007, Latent Loss: 18.1007\n"
     ]
    },
    {
     "name": "stderr",
     "output_type": "stream",
     "text": [
      " 39%|███▉      | 39/100 [05:48<09:06,  8.96s/it]"
     ]
    },
    {
     "name": "stdout",
     "output_type": "stream",
     "text": [
      "Epoch [39/100], Ave Loss: 21.7198, Recon Loss: 0.0001, Commit Loss: 18.0997, Latent Loss: 18.0997\n"
     ]
    },
    {
     "name": "stderr",
     "output_type": "stream",
     "text": [
      " 40%|████      | 40/100 [05:57<08:55,  8.93s/it]"
     ]
    },
    {
     "name": "stdout",
     "output_type": "stream",
     "text": [
      "Epoch [40/100], Ave Loss: 21.6729, Recon Loss: 0.0001, Commit Loss: 18.0607, Latent Loss: 18.0607\n"
     ]
    },
    {
     "name": "stderr",
     "output_type": "stream",
     "text": [
      " 41%|████      | 41/100 [06:06<08:45,  8.91s/it]"
     ]
    },
    {
     "name": "stdout",
     "output_type": "stream",
     "text": [
      "Epoch [41/100], Ave Loss: 21.6593, Recon Loss: 0.0001, Commit Loss: 18.0494, Latent Loss: 18.0494\n"
     ]
    },
    {
     "name": "stderr",
     "output_type": "stream",
     "text": [
      " 42%|████▏     | 42/100 [06:15<08:36,  8.90s/it]"
     ]
    },
    {
     "name": "stdout",
     "output_type": "stream",
     "text": [
      "Epoch [42/100], Ave Loss: 21.6168, Recon Loss: 0.0001, Commit Loss: 18.0139, Latent Loss: 18.0139\n"
     ]
    },
    {
     "name": "stderr",
     "output_type": "stream",
     "text": [
      " 43%|████▎     | 43/100 [06:24<08:29,  8.94s/it]"
     ]
    },
    {
     "name": "stdout",
     "output_type": "stream",
     "text": [
      "Epoch [43/100], Ave Loss: 21.6169, Recon Loss: 0.0001, Commit Loss: 18.0140, Latent Loss: 18.0140\n"
     ]
    },
    {
     "name": "stderr",
     "output_type": "stream",
     "text": [
      " 44%|████▍     | 44/100 [06:33<08:19,  8.92s/it]"
     ]
    },
    {
     "name": "stdout",
     "output_type": "stream",
     "text": [
      "Epoch [44/100], Ave Loss: 21.5328, Recon Loss: 0.0001, Commit Loss: 17.9439, Latent Loss: 17.9439\n"
     ]
    },
    {
     "name": "stderr",
     "output_type": "stream",
     "text": [
      " 45%|████▌     | 45/100 [06:42<08:09,  8.91s/it]"
     ]
    },
    {
     "name": "stdout",
     "output_type": "stream",
     "text": [
      "Epoch [45/100], Ave Loss: 21.3585, Recon Loss: 0.0001, Commit Loss: 17.7987, Latent Loss: 17.7987\n"
     ]
    },
    {
     "name": "stderr",
     "output_type": "stream",
     "text": [
      " 46%|████▌     | 46/100 [06:51<08:00,  8.91s/it]"
     ]
    },
    {
     "name": "stdout",
     "output_type": "stream",
     "text": [
      "Epoch [46/100], Ave Loss: 21.3787, Recon Loss: 0.0001, Commit Loss: 17.8155, Latent Loss: 17.8155\n"
     ]
    },
    {
     "name": "stderr",
     "output_type": "stream",
     "text": [
      " 47%|████▋     | 47/100 [07:00<07:53,  8.93s/it]"
     ]
    },
    {
     "name": "stdout",
     "output_type": "stream",
     "text": [
      "Epoch [47/100], Ave Loss: 21.3557, Recon Loss: 0.0001, Commit Loss: 17.7963, Latent Loss: 17.7963\n"
     ]
    },
    {
     "name": "stderr",
     "output_type": "stream",
     "text": [
      " 48%|████▊     | 48/100 [07:09<07:43,  8.92s/it]"
     ]
    },
    {
     "name": "stdout",
     "output_type": "stream",
     "text": [
      "Epoch [48/100], Ave Loss: 21.2386, Recon Loss: 0.0001, Commit Loss: 17.6988, Latent Loss: 17.6988\n"
     ]
    },
    {
     "name": "stderr",
     "output_type": "stream",
     "text": [
      " 49%|████▉     | 49/100 [07:17<07:34,  8.91s/it]"
     ]
    },
    {
     "name": "stdout",
     "output_type": "stream",
     "text": [
      "Epoch [49/100], Ave Loss: 21.0532, Recon Loss: 0.0001, Commit Loss: 17.5442, Latent Loss: 17.5442\n"
     ]
    },
    {
     "name": "stderr",
     "output_type": "stream",
     "text": [
      " 50%|█████     | 50/100 [07:27<07:28,  8.97s/it]"
     ]
    },
    {
     "name": "stdout",
     "output_type": "stream",
     "text": [
      "Epoch [50/100], Ave Loss: 20.9206, Recon Loss: 0.0001, Commit Loss: 17.4337, Latent Loss: 17.4337\n"
     ]
    },
    {
     "name": "stderr",
     "output_type": "stream",
     "text": [
      " 51%|█████     | 51/100 [07:35<07:18,  8.94s/it]"
     ]
    },
    {
     "name": "stdout",
     "output_type": "stream",
     "text": [
      "Epoch [51/100], Ave Loss: 20.7867, Recon Loss: 0.0001, Commit Loss: 17.3222, Latent Loss: 17.3222\n"
     ]
    },
    {
     "name": "stderr",
     "output_type": "stream",
     "text": [
      " 52%|█████▏    | 52/100 [07:44<07:08,  8.92s/it]"
     ]
    },
    {
     "name": "stdout",
     "output_type": "stream",
     "text": [
      "Epoch [52/100], Ave Loss: 20.6204, Recon Loss: 0.0001, Commit Loss: 17.1836, Latent Loss: 17.1836\n"
     ]
    },
    {
     "name": "stderr",
     "output_type": "stream",
     "text": [
      " 53%|█████▎    | 53/100 [07:53<06:58,  8.91s/it]"
     ]
    },
    {
     "name": "stdout",
     "output_type": "stream",
     "text": [
      "Epoch [53/100], Ave Loss: 20.5304, Recon Loss: 0.0001, Commit Loss: 17.1086, Latent Loss: 17.1086\n"
     ]
    },
    {
     "name": "stderr",
     "output_type": "stream",
     "text": [
      " 54%|█████▍    | 54/100 [08:02<06:51,  8.96s/it]"
     ]
    },
    {
     "name": "stdout",
     "output_type": "stream",
     "text": [
      "Epoch [54/100], Ave Loss: 20.4480, Recon Loss: 0.0001, Commit Loss: 17.0400, Latent Loss: 17.0400\n"
     ]
    },
    {
     "name": "stderr",
     "output_type": "stream",
     "text": [
      " 55%|█████▌    | 55/100 [08:11<06:42,  8.94s/it]"
     ]
    },
    {
     "name": "stdout",
     "output_type": "stream",
     "text": [
      "Epoch [55/100], Ave Loss: 20.2235, Recon Loss: 0.0001, Commit Loss: 16.8529, Latent Loss: 16.8529\n"
     ]
    },
    {
     "name": "stderr",
     "output_type": "stream",
     "text": [
      " 56%|█████▌    | 56/100 [08:20<06:32,  8.92s/it]"
     ]
    },
    {
     "name": "stdout",
     "output_type": "stream",
     "text": [
      "Epoch [56/100], Ave Loss: 20.1115, Recon Loss: 0.0001, Commit Loss: 16.7595, Latent Loss: 16.7595\n"
     ]
    },
    {
     "name": "stderr",
     "output_type": "stream",
     "text": [
      " 57%|█████▋    | 57/100 [08:29<06:23,  8.91s/it]"
     ]
    },
    {
     "name": "stdout",
     "output_type": "stream",
     "text": [
      "Epoch [57/100], Ave Loss: 19.9798, Recon Loss: 0.0001, Commit Loss: 16.6498, Latent Loss: 16.6498\n"
     ]
    },
    {
     "name": "stderr",
     "output_type": "stream",
     "text": [
      " 58%|█████▊    | 58/100 [08:38<06:15,  8.95s/it]"
     ]
    },
    {
     "name": "stdout",
     "output_type": "stream",
     "text": [
      "Epoch [58/100], Ave Loss: 19.9331, Recon Loss: 0.0001, Commit Loss: 16.6108, Latent Loss: 16.6108\n"
     ]
    },
    {
     "name": "stderr",
     "output_type": "stream",
     "text": [
      " 59%|█████▉    | 59/100 [08:47<06:06,  8.93s/it]"
     ]
    },
    {
     "name": "stdout",
     "output_type": "stream",
     "text": [
      "Epoch [59/100], Ave Loss: 19.8505, Recon Loss: 0.0001, Commit Loss: 16.5420, Latent Loss: 16.5420\n"
     ]
    },
    {
     "name": "stderr",
     "output_type": "stream",
     "text": [
      " 60%|██████    | 60/100 [08:56<05:56,  8.91s/it]"
     ]
    },
    {
     "name": "stdout",
     "output_type": "stream",
     "text": [
      "Epoch [60/100], Ave Loss: 19.7846, Recon Loss: 0.0001, Commit Loss: 16.4871, Latent Loss: 16.4871\n"
     ]
    },
    {
     "name": "stderr",
     "output_type": "stream",
     "text": [
      " 61%|██████    | 61/100 [09:05<05:46,  8.89s/it]"
     ]
    },
    {
     "name": "stdout",
     "output_type": "stream",
     "text": [
      "Epoch [61/100], Ave Loss: 19.7974, Recon Loss: 0.0001, Commit Loss: 16.4978, Latent Loss: 16.4978\n"
     ]
    },
    {
     "name": "stderr",
     "output_type": "stream",
     "text": [
      " 62%|██████▏   | 62/100 [09:14<05:39,  8.94s/it]"
     ]
    },
    {
     "name": "stdout",
     "output_type": "stream",
     "text": [
      "Epoch [62/100], Ave Loss: 19.7708, Recon Loss: 0.0001, Commit Loss: 16.4756, Latent Loss: 16.4756\n"
     ]
    },
    {
     "name": "stderr",
     "output_type": "stream",
     "text": [
      " 63%|██████▎   | 63/100 [09:22<05:30,  8.92s/it]"
     ]
    },
    {
     "name": "stdout",
     "output_type": "stream",
     "text": [
      "Epoch [63/100], Ave Loss: 19.8537, Recon Loss: 0.0001, Commit Loss: 16.5447, Latent Loss: 16.5447\n"
     ]
    },
    {
     "name": "stderr",
     "output_type": "stream",
     "text": [
      " 64%|██████▍   | 64/100 [09:31<05:20,  8.91s/it]"
     ]
    },
    {
     "name": "stdout",
     "output_type": "stream",
     "text": [
      "Epoch [64/100], Ave Loss: 19.8236, Recon Loss: 0.0001, Commit Loss: 16.5196, Latent Loss: 16.5196\n"
     ]
    },
    {
     "name": "stderr",
     "output_type": "stream",
     "text": [
      " 65%|██████▌   | 65/100 [09:40<05:11,  8.90s/it]"
     ]
    },
    {
     "name": "stdout",
     "output_type": "stream",
     "text": [
      "Epoch [65/100], Ave Loss: 19.8491, Recon Loss: 0.0001, Commit Loss: 16.5409, Latent Loss: 16.5409\n"
     ]
    },
    {
     "name": "stderr",
     "output_type": "stream",
     "text": [
      " 66%|██████▌   | 66/100 [09:49<05:04,  8.95s/it]"
     ]
    },
    {
     "name": "stdout",
     "output_type": "stream",
     "text": [
      "Epoch [66/100], Ave Loss: 19.8805, Recon Loss: 0.0001, Commit Loss: 16.5670, Latent Loss: 16.5670\n"
     ]
    },
    {
     "name": "stderr",
     "output_type": "stream",
     "text": [
      " 67%|██████▋   | 67/100 [09:58<04:54,  8.93s/it]"
     ]
    },
    {
     "name": "stdout",
     "output_type": "stream",
     "text": [
      "Epoch [67/100], Ave Loss: 19.9259, Recon Loss: 0.0001, Commit Loss: 16.6049, Latent Loss: 16.6049\n"
     ]
    },
    {
     "name": "stderr",
     "output_type": "stream",
     "text": [
      " 68%|██████▊   | 68/100 [10:07<04:45,  8.91s/it]"
     ]
    },
    {
     "name": "stdout",
     "output_type": "stream",
     "text": [
      "Epoch [68/100], Ave Loss: 19.9306, Recon Loss: 0.0001, Commit Loss: 16.6088, Latent Loss: 16.6088\n"
     ]
    },
    {
     "name": "stderr",
     "output_type": "stream",
     "text": [
      " 69%|██████▉   | 69/100 [10:16<04:36,  8.90s/it]"
     ]
    },
    {
     "name": "stdout",
     "output_type": "stream",
     "text": [
      "Epoch [69/100], Ave Loss: 19.9106, Recon Loss: 0.0001, Commit Loss: 16.5921, Latent Loss: 16.5921\n"
     ]
    },
    {
     "name": "stderr",
     "output_type": "stream",
     "text": [
      " 70%|███████   | 70/100 [10:25<04:28,  8.95s/it]"
     ]
    },
    {
     "name": "stdout",
     "output_type": "stream",
     "text": [
      "Epoch [70/100], Ave Loss: 19.9553, Recon Loss: 0.0001, Commit Loss: 16.6294, Latent Loss: 16.6294\n"
     ]
    },
    {
     "name": "stderr",
     "output_type": "stream",
     "text": [
      " 71%|███████   | 71/100 [10:34<04:18,  8.92s/it]"
     ]
    },
    {
     "name": "stdout",
     "output_type": "stream",
     "text": [
      "Epoch [71/100], Ave Loss: 20.0223, Recon Loss: 0.0001, Commit Loss: 16.6852, Latent Loss: 16.6852\n"
     ]
    },
    {
     "name": "stderr",
     "output_type": "stream",
     "text": [
      " 72%|███████▏  | 72/100 [10:43<04:09,  8.91s/it]"
     ]
    },
    {
     "name": "stdout",
     "output_type": "stream",
     "text": [
      "Epoch [72/100], Ave Loss: 19.9926, Recon Loss: 0.0001, Commit Loss: 16.6604, Latent Loss: 16.6604\n"
     ]
    },
    {
     "name": "stderr",
     "output_type": "stream",
     "text": [
      " 73%|███████▎  | 73/100 [10:52<04:00,  8.90s/it]"
     ]
    },
    {
     "name": "stdout",
     "output_type": "stream",
     "text": [
      "Epoch [73/100], Ave Loss: 20.1136, Recon Loss: 0.0001, Commit Loss: 16.7612, Latent Loss: 16.7612\n"
     ]
    },
    {
     "name": "stderr",
     "output_type": "stream",
     "text": [
      " 74%|███████▍  | 74/100 [11:01<03:52,  8.94s/it]"
     ]
    },
    {
     "name": "stdout",
     "output_type": "stream",
     "text": [
      "Epoch [74/100], Ave Loss: 20.1344, Recon Loss: 0.0001, Commit Loss: 16.7786, Latent Loss: 16.7786\n"
     ]
    },
    {
     "name": "stderr",
     "output_type": "stream",
     "text": [
      " 75%|███████▌  | 75/100 [11:09<03:42,  8.92s/it]"
     ]
    },
    {
     "name": "stdout",
     "output_type": "stream",
     "text": [
      "Epoch [75/100], Ave Loss: 20.1352, Recon Loss: 0.0001, Commit Loss: 16.7793, Latent Loss: 16.7793\n"
     ]
    },
    {
     "name": "stderr",
     "output_type": "stream",
     "text": [
      " 76%|███████▌  | 76/100 [11:18<03:33,  8.91s/it]"
     ]
    },
    {
     "name": "stdout",
     "output_type": "stream",
     "text": [
      "Epoch [76/100], Ave Loss: 20.3106, Recon Loss: 0.0001, Commit Loss: 16.9254, Latent Loss: 16.9254\n"
     ]
    },
    {
     "name": "stderr",
     "output_type": "stream",
     "text": [
      " 77%|███████▋  | 77/100 [11:27<03:24,  8.90s/it]"
     ]
    },
    {
     "name": "stdout",
     "output_type": "stream",
     "text": [
      "Epoch [77/100], Ave Loss: 20.3259, Recon Loss: 0.0001, Commit Loss: 16.9382, Latent Loss: 16.9382\n"
     ]
    },
    {
     "name": "stderr",
     "output_type": "stream",
     "text": [
      " 78%|███████▊  | 78/100 [11:36<03:16,  8.94s/it]"
     ]
    },
    {
     "name": "stdout",
     "output_type": "stream",
     "text": [
      "Epoch [78/100], Ave Loss: 20.4765, Recon Loss: 0.0001, Commit Loss: 17.0637, Latent Loss: 17.0637\n"
     ]
    },
    {
     "name": "stderr",
     "output_type": "stream",
     "text": [
      " 79%|███████▉  | 79/100 [11:45<03:07,  8.92s/it]"
     ]
    },
    {
     "name": "stdout",
     "output_type": "stream",
     "text": [
      "Epoch [79/100], Ave Loss: 20.5000, Recon Loss: 0.0001, Commit Loss: 17.0832, Latent Loss: 17.0832\n"
     ]
    },
    {
     "name": "stderr",
     "output_type": "stream",
     "text": [
      " 80%|████████  | 80/100 [11:54<02:58,  8.91s/it]"
     ]
    },
    {
     "name": "stdout",
     "output_type": "stream",
     "text": [
      "Epoch [80/100], Ave Loss: 20.6057, Recon Loss: 0.0001, Commit Loss: 17.1713, Latent Loss: 17.1713\n"
     ]
    },
    {
     "name": "stderr",
     "output_type": "stream",
     "text": [
      " 81%|████████  | 81/100 [12:03<02:48,  8.89s/it]"
     ]
    },
    {
     "name": "stdout",
     "output_type": "stream",
     "text": [
      "Epoch [81/100], Ave Loss: 20.6287, Recon Loss: 0.0001, Commit Loss: 17.1906, Latent Loss: 17.1906\n"
     ]
    },
    {
     "name": "stderr",
     "output_type": "stream",
     "text": [
      " 82%|████████▏ | 82/100 [12:12<02:40,  8.94s/it]"
     ]
    },
    {
     "name": "stdout",
     "output_type": "stream",
     "text": [
      "Epoch [82/100], Ave Loss: 20.7127, Recon Loss: 0.0001, Commit Loss: 17.2605, Latent Loss: 17.2605\n"
     ]
    },
    {
     "name": "stderr",
     "output_type": "stream",
     "text": [
      " 83%|████████▎ | 83/100 [12:21<02:31,  8.92s/it]"
     ]
    },
    {
     "name": "stdout",
     "output_type": "stream",
     "text": [
      "Epoch [83/100], Ave Loss: 20.7582, Recon Loss: 0.0001, Commit Loss: 17.2984, Latent Loss: 17.2984\n"
     ]
    },
    {
     "name": "stderr",
     "output_type": "stream",
     "text": [
      " 84%|████████▍ | 84/100 [12:30<02:22,  8.91s/it]"
     ]
    },
    {
     "name": "stdout",
     "output_type": "stream",
     "text": [
      "Epoch [84/100], Ave Loss: 20.9327, Recon Loss: 0.0001, Commit Loss: 17.4439, Latent Loss: 17.4439\n"
     ]
    },
    {
     "name": "stderr",
     "output_type": "stream",
     "text": [
      " 85%|████████▌ | 85/100 [12:39<02:13,  8.89s/it]"
     ]
    },
    {
     "name": "stdout",
     "output_type": "stream",
     "text": [
      "Epoch [85/100], Ave Loss: 20.9188, Recon Loss: 0.0001, Commit Loss: 17.4322, Latent Loss: 17.4322\n"
     ]
    },
    {
     "name": "stderr",
     "output_type": "stream",
     "text": [
      " 86%|████████▌ | 86/100 [12:48<02:05,  8.93s/it]"
     ]
    },
    {
     "name": "stdout",
     "output_type": "stream",
     "text": [
      "Epoch [86/100], Ave Loss: 20.9663, Recon Loss: 0.0001, Commit Loss: 17.4719, Latent Loss: 17.4719\n"
     ]
    },
    {
     "name": "stderr",
     "output_type": "stream",
     "text": [
      " 87%|████████▋ | 87/100 [12:56<01:55,  8.91s/it]"
     ]
    },
    {
     "name": "stdout",
     "output_type": "stream",
     "text": [
      "Epoch [87/100], Ave Loss: 20.9804, Recon Loss: 0.0001, Commit Loss: 17.4836, Latent Loss: 17.4836\n"
     ]
    },
    {
     "name": "stderr",
     "output_type": "stream",
     "text": [
      " 88%|████████▊ | 88/100 [13:05<01:46,  8.90s/it]"
     ]
    },
    {
     "name": "stdout",
     "output_type": "stream",
     "text": [
      "Epoch [88/100], Ave Loss: 21.0039, Recon Loss: 0.0001, Commit Loss: 17.5032, Latent Loss: 17.5032\n"
     ]
    },
    {
     "name": "stderr",
     "output_type": "stream",
     "text": [
      " 89%|████████▉ | 89/100 [13:14<01:37,  8.90s/it]"
     ]
    },
    {
     "name": "stdout",
     "output_type": "stream",
     "text": [
      "Epoch [89/100], Ave Loss: 21.0469, Recon Loss: 0.0001, Commit Loss: 17.5390, Latent Loss: 17.5390\n"
     ]
    },
    {
     "name": "stderr",
     "output_type": "stream",
     "text": [
      " 90%|█████████ | 90/100 [13:23<01:29,  8.94s/it]"
     ]
    },
    {
     "name": "stdout",
     "output_type": "stream",
     "text": [
      "Epoch [90/100], Ave Loss: 21.0735, Recon Loss: 0.0001, Commit Loss: 17.5612, Latent Loss: 17.5612\n"
     ]
    },
    {
     "name": "stderr",
     "output_type": "stream",
     "text": [
      " 91%|█████████ | 91/100 [13:32<01:20,  8.92s/it]"
     ]
    },
    {
     "name": "stdout",
     "output_type": "stream",
     "text": [
      "Epoch [91/100], Ave Loss: 21.0814, Recon Loss: 0.0001, Commit Loss: 17.5678, Latent Loss: 17.5678\n"
     ]
    },
    {
     "name": "stderr",
     "output_type": "stream",
     "text": [
      " 92%|█████████▏| 92/100 [13:41<01:11,  8.90s/it]"
     ]
    },
    {
     "name": "stdout",
     "output_type": "stream",
     "text": [
      "Epoch [92/100], Ave Loss: 21.1808, Recon Loss: 0.0001, Commit Loss: 17.6506, Latent Loss: 17.6506\n"
     ]
    },
    {
     "name": "stderr",
     "output_type": "stream",
     "text": [
      " 93%|█████████▎| 93/100 [13:50<01:02,  8.95s/it]"
     ]
    },
    {
     "name": "stdout",
     "output_type": "stream",
     "text": [
      "Epoch [93/100], Ave Loss: 21.2875, Recon Loss: 0.0001, Commit Loss: 17.7395, Latent Loss: 17.7395\n"
     ]
    },
    {
     "name": "stderr",
     "output_type": "stream",
     "text": [
      " 94%|█████████▍| 94/100 [13:59<00:53,  8.92s/it]"
     ]
    },
    {
     "name": "stdout",
     "output_type": "stream",
     "text": [
      "Epoch [94/100], Ave Loss: 21.2819, Recon Loss: 0.0001, Commit Loss: 17.7349, Latent Loss: 17.7349\n"
     ]
    },
    {
     "name": "stderr",
     "output_type": "stream",
     "text": [
      " 95%|█████████▌| 95/100 [14:08<00:44,  8.91s/it]"
     ]
    },
    {
     "name": "stdout",
     "output_type": "stream",
     "text": [
      "Epoch [95/100], Ave Loss: 21.2968, Recon Loss: 0.0001, Commit Loss: 17.7473, Latent Loss: 17.7473\n"
     ]
    },
    {
     "name": "stderr",
     "output_type": "stream",
     "text": [
      " 96%|█████████▌| 96/100 [14:17<00:35,  8.90s/it]"
     ]
    },
    {
     "name": "stdout",
     "output_type": "stream",
     "text": [
      "Epoch [96/100], Ave Loss: 21.3510, Recon Loss: 0.0001, Commit Loss: 17.7924, Latent Loss: 17.7924\n"
     ]
    },
    {
     "name": "stderr",
     "output_type": "stream",
     "text": [
      " 97%|█████████▋| 97/100 [14:26<00:26,  8.94s/it]"
     ]
    },
    {
     "name": "stdout",
     "output_type": "stream",
     "text": [
      "Epoch [97/100], Ave Loss: 21.4056, Recon Loss: 0.0001, Commit Loss: 17.8379, Latent Loss: 17.8379\n"
     ]
    },
    {
     "name": "stderr",
     "output_type": "stream",
     "text": [
      " 98%|█████████▊| 98/100 [14:35<00:17,  8.92s/it]"
     ]
    },
    {
     "name": "stdout",
     "output_type": "stream",
     "text": [
      "Epoch [98/100], Ave Loss: 21.4726, Recon Loss: 0.0001, Commit Loss: 17.8938, Latent Loss: 17.8938\n"
     ]
    },
    {
     "name": "stderr",
     "output_type": "stream",
     "text": [
      " 99%|█████████▉| 99/100 [14:43<00:08,  8.90s/it]"
     ]
    },
    {
     "name": "stdout",
     "output_type": "stream",
     "text": [
      "Epoch [99/100], Ave Loss: 21.4692, Recon Loss: 0.0001, Commit Loss: 17.8910, Latent Loss: 17.8910\n"
     ]
    },
    {
     "name": "stderr",
     "output_type": "stream",
     "text": [
      "100%|██████████| 100/100 [14:52<00:00,  8.93s/it]"
     ]
    },
    {
     "name": "stdout",
     "output_type": "stream",
     "text": [
      "Epoch [100/100], Ave Loss: 21.5671, Recon Loss: 0.0001, Commit Loss: 17.9725, Latent Loss: 17.9725\n"
     ]
    },
    {
     "name": "stderr",
     "output_type": "stream",
     "text": [
      "\n"
     ]
    }
   ],
   "source": [
    "# Set the number of epochs\n",
    "num_epochs = 100\n",
    "\n",
    "# Create an optimizer\n",
    "optimizer = optim.Adam(model.parameters())\n",
    "# Print the number of parameters\n",
    "print(f\"Number of parameters: {sum(p.numel() for p in model.parameters() if p.requires_grad)}\")\n",
    "\n",
    "# Train the model\n",
    "for epoch in tqdm(range(num_epochs)):\n",
    "    total_loss = 0\n",
    "    r_loss = 0\n",
    "    c_loss = 0\n",
    "    l_loss = 0  \n",
    "    total = 0 \n",
    "    for batch_idx, (data, _) in enumerate(train_loader):\n",
    "        # Move the data to the device\n",
    "        data = data.to(device)\n",
    "        total += data.size(0)\n",
    "        \n",
    "        # Forward pass\n",
    "        x_hat, z_e, z_q, indices = model(data)\n",
    "        recon_loss = nn.MSELoss()(x_hat, data)\n",
    "        commit_loss = nn.MSELoss()(z_e.detach(), z_q)\n",
    "        latent_loss = nn.MSELoss()(z_e, z_q.detach())\n",
    "        loss = recon_loss + 0.2 * commit_loss + latent_loss\n",
    "        \n",
    "        # Backward pass\n",
    "        optimizer.zero_grad()\n",
    "        loss.backward()\n",
    "        optimizer.step()\n",
    "        \n",
    "        total_loss += loss.item()\n",
    "        r_loss += recon_loss.item()\n",
    "        c_loss += commit_loss.item()\n",
    "        l_loss += latent_loss.item()\n",
    "    \n",
    "    tqdm.write(f\"Epoch [{epoch+1}/{num_epochs}], Ave Loss: {total_loss/total:.4f}, Recon Loss: {r_loss/total:.4f}, Commit Loss: {c_loss/total:.4f}, Latent Loss: {l_loss/total:.4f}\")"
   ]
  },
  {
   "cell_type": "code",
   "execution_count": 17,
   "metadata": {},
   "outputs": [
    {
     "data": {
      "image/png": "[encoded data removed]",
      "text/plain": [
       "<Figure size 1200x600 with 32 Axes>"
      ]
     },
     "metadata": {},
     "output_type": "display_data"
    },
    {
     "name": "stdout",
     "output_type": "stream",
     "text": [
      "torch.Size([16, 64, 7, 7])\n",
      "index: 0\n",
      "tensor([[[ 8.6975e-04, -1.6994e-03,  1.4048e-03,  ..., -7.2861e-04,\n",
      "          -1.6975e-03,  1.4038e-03],\n",
      "         [ 8.6975e-04,  7.3624e-04, -1.7014e-03,  ...,  8.9264e-04,\n",
      "           1.1978e-03, -8.6403e-04],\n",
      "         [ 8.6975e-04,  1.4048e-03,  1.7481e-03,  ...,  1.4038e-03,\n",
      "          -6.2561e-04, -7.2861e-04],\n",
      "         ...,\n",
      "         [ 8.6975e-04, -1.6994e-03,  5.6458e-04,  ...,  1.7471e-03,\n",
      "          -7.3051e-04, -7.3051e-04],\n",
      "         [ 8.6975e-04, -7.2861e-04,  1.4496e-04,  ...,  5.6839e-04,\n",
      "          -2.8992e-04, -8.6355e-04],\n",
      "         [ 1.4038e-03,  1.7395e-03,  1.7481e-03,  ..., -7.3051e-04,\n",
      "           1.7395e-03,  1.4038e-03]],\n",
      "\n",
      "        [[ 8.7738e-05,  8.1253e-04, -8.9645e-05,  ...,  1.8921e-03,\n",
      "           8.1253e-04, -8.9645e-05],\n",
      "         [ 8.5831e-05,  8.2785e-04,  8.1253e-04,  ...,  1.7242e-03,\n",
      "           0.0000e+00, -5.0616e-04],\n",
      "         [ 8.5831e-05, -8.9645e-05,  1.6479e-03,  ..., -9.1553e-05,\n",
      "          -1.8311e-04,  1.8911e-03],\n",
      "         ...,\n",
      "         [ 8.5831e-05,  8.0872e-04,  7.3242e-04,  ...,  1.6479e-03,\n",
      "           1.8921e-03,  1.8916e-03],\n",
      "         [ 8.5831e-05,  1.8921e-03,  1.1520e-03,  ...,  7.3242e-04,\n",
      "           5.7220e-04, -5.0604e-04],\n",
      "         [-8.9645e-05,  1.6270e-03,  1.6479e-03,  ...,  1.8921e-03,\n",
      "           1.6270e-03, -8.9645e-05]],\n",
      "\n",
      "        [[-7.4768e-04, -3.7766e-04,  9.1934e-04,  ...,  1.0147e-03,\n",
      "          -3.7766e-04,  9.1839e-04],\n",
      "         [-7.4768e-04,  4.1962e-04, -3.8147e-04,  ..., -7.4768e-04,\n",
      "          -4.9591e-04, -3.7956e-04],\n",
      "         [-7.4768e-04,  9.1934e-04,  1.2321e-03,  ...,  9.1553e-04,\n",
      "          -3.4332e-04,  1.0185e-03],\n",
      "         ...,\n",
      "         [-7.4768e-04, -3.8147e-04, -6.3705e-04,  ...,  1.2302e-03,\n",
      "           1.0147e-03,  1.0185e-03],\n",
      "         [-7.4768e-04,  1.0223e-03, -1.1292e-03,  ..., -6.3705e-04,\n",
      "          -7.1716e-04, -3.7956e-04],\n",
      "         [ 9.1743e-04, -1.3990e-03,  1.2321e-03,  ...,  1.0185e-03,\n",
      "          -1.3981e-03,  9.1743e-04]],\n",
      "\n",
      "        ...,\n",
      "\n",
      "        [[-4.8447e-04,  3.8147e-04,  2.0599e-04,  ...,  9.9182e-04,\n",
      "           3.8147e-04,  2.0599e-04],\n",
      "         [-4.8447e-04, -1.7624e-03,  3.8147e-04,  ...,  1.7166e-03,\n",
      "           1.7319e-03,  1.1292e-03],\n",
      "         [-4.8447e-04,  2.0599e-04, -1.5030e-03,  ...,  2.0576e-04,\n",
      "          -1.2674e-03,  9.9182e-04],\n",
      "         ...,\n",
      "         [-4.8447e-04,  3.8266e-04, -7.3624e-04,  ..., -1.5030e-03,\n",
      "           9.9182e-04,  9.9182e-04],\n",
      "         [-4.8447e-04,  9.9087e-04,  1.4648e-03,  ..., -7.3528e-04,\n",
      "          -1.8654e-03,  1.1292e-03],\n",
      "         [ 2.0599e-04, -9.3842e-04, -1.5001e-03,  ...,  9.9182e-04,\n",
      "          -9.3842e-04,  2.0599e-04]],\n",
      "\n",
      "        [[ 1.8005e-03,  2.7847e-04, -7.7438e-04,  ..., -1.8768e-03,\n",
      "           2.7847e-04, -7.7438e-04],\n",
      "         [ 1.8024e-03,  1.3466e-03,  2.7466e-04,  ..., -1.9073e-04,\n",
      "          -3.9101e-05,  1.2016e-03],\n",
      "         [ 1.8024e-03, -7.7438e-04,  3.4714e-04,  ..., -7.7438e-04,\n",
      "          -1.9379e-03, -1.8768e-03],\n",
      "         ...,\n",
      "         [ 1.8024e-03,  2.7847e-04,  9.1171e-04,  ...,  3.4714e-04,\n",
      "          -1.8768e-03, -1.8768e-03],\n",
      "         [ 1.8024e-03, -1.8768e-03,  1.3847e-03,  ...,  9.1171e-04,\n",
      "           7.4959e-04,  1.2016e-03],\n",
      "         [-7.7438e-04,  1.2398e-03,  3.4761e-04,  ..., -1.8768e-03,\n",
      "           1.2398e-03, -7.7438e-04]],\n",
      "\n",
      "        [[ 7.1418e-04, -3.0231e-04, -1.5459e-03,  ..., -5.0545e-05,\n",
      "          -3.0231e-04, -1.5459e-03],\n",
      "         [ 7.1430e-04, -5.6458e-04, -3.0136e-04,  ...,  5.1117e-04,\n",
      "           1.5335e-03,  5.0354e-04],\n",
      "         [ 7.1430e-04, -1.5450e-03,  2.1362e-04,  ..., -1.5450e-03,\n",
      "           1.6022e-03, -4.9591e-05],\n",
      "         ...,\n",
      "         [ 7.1430e-04, -3.0231e-04,  6.0272e-04,  ...,  2.1362e-04,\n",
      "          -5.3406e-05, -5.0068e-05],\n",
      "         [ 7.1430e-04, -4.9591e-05,  1.2131e-03,  ...,  6.1035e-04,\n",
      "          -7.2670e-04,  5.0354e-04],\n",
      "         [-1.5450e-03, -7.6294e-06,  2.2125e-04,  ..., -4.9591e-05,\n",
      "          -7.6294e-06, -1.5450e-03]]], device='cuda:0',\n",
      "       grad_fn=<SelectBackward0>)\n",
      "index: 1\n",
      "tensor([[[ 8.6975e-04, -1.6994e-03, -1.6994e-03,  ..., -1.6985e-03,\n",
      "          -1.6985e-03,  1.4038e-03],\n",
      "         [ 8.6975e-04,  7.3624e-04,  1.4038e-03,  ...,  2.7084e-04,\n",
      "           7.4387e-04, -7.3051e-04],\n",
      "         [ 8.6975e-04,  1.4038e-03,  1.7471e-03,  ..., -7.3051e-04,\n",
      "           8.8501e-04,  1.9836e-04],\n",
      "         ...,\n",
      "         [ 7.3624e-04,  1.4496e-04, -7.3242e-04,  ...,  1.8997e-03,\n",
      "          -7.2861e-04, -2.8992e-04],\n",
      "         [-7.2861e-04, -8.6403e-04, -5.1880e-04,  ..., -1.6060e-03,\n",
      "          -7.3051e-04, -8.6379e-04],\n",
      "         [ 1.4038e-03,  1.7395e-03, -1.6060e-03,  ...,  1.7395e-03,\n",
      "           1.7395e-03,  1.4038e-03]],\n",
      "\n",
      "        [[ 8.7738e-05,  8.1253e-04,  8.1253e-04,  ...,  8.1229e-04,\n",
      "           8.1229e-04, -8.9645e-05],\n",
      "         [ 8.5831e-05,  8.2779e-04, -9.1553e-05,  ..., -4.8828e-04,\n",
      "           1.6785e-03,  1.8916e-03],\n",
      "         [ 8.5831e-05, -9.1553e-05,  1.6479e-03,  ...,  1.8921e-03,\n",
      "           1.7242e-03,  1.2207e-04],\n",
      "         ...,\n",
      "         [ 8.2779e-04,  1.1597e-03,  1.8921e-03,  ...,  4.2725e-04,\n",
      "           1.8921e-03,  5.7220e-04],\n",
      "         [ 1.8911e-03, -5.0354e-04,  1.9379e-03,  ...,  8.2397e-04,\n",
      "           1.8916e-03, -5.0640e-04],\n",
      "         [-8.9645e-05,  1.6270e-03,  8.2970e-04,  ...,  1.6270e-03,\n",
      "           1.6265e-03, -8.9645e-05]],\n",
      "\n",
      "        [[-7.4768e-04, -3.7766e-04, -3.7766e-04,  ..., -3.7766e-04,\n",
      "          -3.7766e-04,  9.1839e-04],\n",
      "         [-7.4768e-04,  4.1962e-04,  9.1553e-04,  ...,  0.0000e+00,\n",
      "           1.3638e-04,  1.0185e-03],\n",
      "         [-7.4768e-04,  9.1553e-04,  1.2302e-03,  ...,  1.0223e-03,\n",
      "          -7.5150e-04, -1.5011e-03],\n",
      "         ...,\n",
      "         [ 4.1962e-04, -1.1292e-03,  1.0223e-03,  ..., -1.5488e-03,\n",
      "           1.0147e-03, -7.1716e-04],\n",
      "         [ 1.0185e-03, -3.8147e-04,  1.1444e-03,  ..., -1.3733e-03,\n",
      "           1.0147e-03, -3.7956e-04],\n",
      "         [ 9.1743e-04, -1.3981e-03, -1.3771e-03,  ..., -1.3981e-03,\n",
      "          -1.3990e-03,  9.1743e-04]],\n",
      "\n",
      "        ...,\n",
      "\n",
      "        [[-4.8447e-04,  3.8147e-04,  3.8147e-04,  ...,  3.8147e-04,\n",
      "           3.8147e-04,  2.0599e-04],\n",
      "         [-4.8447e-04, -1.7624e-03,  2.0599e-04,  ...,  1.4801e-03,\n",
      "           1.9455e-03,  9.9182e-04],\n",
      "         [-4.8447e-04,  2.0576e-04, -1.4992e-03,  ...,  9.9087e-04,\n",
      "           1.7166e-03,  2.2888e-04],\n",
      "         ...,\n",
      "         [-1.7624e-03,  1.4610e-03,  9.9182e-04,  ..., -5.7459e-04,\n",
      "           9.9182e-04, -1.8654e-03],\n",
      "         [ 9.9128e-04,  1.1292e-03,  1.0729e-06,  ..., -5.0354e-04,\n",
      "           9.9182e-04,  1.1292e-03],\n",
      "         [ 2.0599e-04, -9.3842e-04, -5.0354e-04,  ..., -9.3842e-04,\n",
      "          -9.3842e-04,  2.0599e-04]],\n",
      "\n",
      "        [[ 1.8005e-03,  2.7847e-04,  2.7847e-04,  ...,  2.8229e-04,\n",
      "           2.7847e-04, -7.7438e-04],\n",
      "         [ 1.8024e-03,  1.3466e-03, -7.7438e-04,  ...,  2.4414e-04,\n",
      "          -5.6672e-04, -1.8768e-03],\n",
      "         [ 1.8024e-03, -7.7438e-04,  3.5095e-04,  ..., -1.8768e-03,\n",
      "          -1.9073e-04, -3.4714e-04],\n",
      "         ...,\n",
      "         [ 1.3428e-03,  1.3885e-03, -1.8768e-03,  ...,  1.4534e-03,\n",
      "          -1.8768e-03,  7.4959e-04],\n",
      "         [-1.8768e-03,  1.1978e-03, -1.9026e-03,  ..., -2.2888e-04,\n",
      "          -1.8768e-03,  1.2016e-03],\n",
      "         [-7.7438e-04,  1.2398e-03, -2.2888e-04,  ...,  1.2398e-03,\n",
      "           1.2398e-03, -7.7438e-04]],\n",
      "\n",
      "        [[ 7.1418e-04, -3.0231e-04, -3.0231e-04,  ..., -3.0231e-04,\n",
      "          -3.0220e-04, -1.5459e-03],\n",
      "         [ 7.1430e-04, -5.6458e-04, -1.5459e-03,  ..., -7.9346e-04,\n",
      "          -1.5259e-04, -5.0545e-05],\n",
      "         [ 7.1430e-04, -1.5450e-03,  2.1362e-04,  ..., -4.5776e-05,\n",
      "           5.0735e-04, -1.5640e-04],\n",
      "         ...,\n",
      "         [-5.6458e-04,  1.2131e-03, -4.9591e-05,  ..., -1.8768e-03,\n",
      "          -4.5776e-05, -7.2718e-04],\n",
      "         [-4.9591e-05,  5.0354e-04, -1.0376e-03,  ..., -1.1635e-04,\n",
      "          -5.0545e-05,  5.0330e-04],\n",
      "         [-1.5450e-03, -7.6294e-06, -1.1826e-04,  ..., -7.6294e-06,\n",
      "          -7.6294e-06, -1.5450e-03]]], device='cuda:0',\n",
      "       grad_fn=<SelectBackward0>)\n",
      "index: 2\n",
      "tensor([[[ 8.6975e-04, -1.6994e-03,  1.4048e-03,  ..., -7.3624e-04,\n",
      "          -1.6975e-03,  1.4038e-03],\n",
      "         [ 8.6975e-04, -1.6985e-03,  1.7395e-03,  ...,  1.9226e-03,\n",
      "          -1.6060e-03, -8.6403e-04],\n",
      "         [ 8.6975e-04, -7.3242e-04,  1.4496e-04,  ..., -7.2861e-04,\n",
      "          -7.3051e-04, -7.3051e-04],\n",
      "         ...,\n",
      "         [ 8.6975e-04,  7.3624e-04,  1.4038e-03,  ...,  8.9264e-04,\n",
      "          -1.6050e-03, -8.6379e-04],\n",
      "         [ 8.6975e-04,  7.3624e-04,  1.4038e-03,  ..., -7.3051e-04,\n",
      "          -7.3028e-04, -8.6403e-04],\n",
      "         [ 1.4038e-03,  1.7395e-03,  1.5380e-03,  ..., -1.6060e-03,\n",
      "           1.7395e-03,  1.4038e-03]],\n",
      "\n",
      "        [[ 8.7738e-05,  8.1253e-04, -8.9645e-05,  ...,  6.2943e-05,\n",
      "           8.1253e-04, -8.9645e-05],\n",
      "         [ 8.5831e-05,  8.0872e-04,  1.6327e-03,  ...,  1.6937e-03,\n",
      "           8.2970e-04, -5.0616e-04],\n",
      "         [ 8.5831e-05,  1.8921e-03,  1.1597e-03,  ...,  1.8921e-03,\n",
      "           1.8921e-03,  1.8921e-03],\n",
      "         ...,\n",
      "         [ 8.5831e-05,  8.2779e-04, -9.1553e-05,  ...,  1.7395e-03,\n",
      "           8.3160e-04, -5.0640e-04],\n",
      "         [ 8.5831e-05,  8.2779e-04, -9.1553e-05,  ...,  1.8921e-03,\n",
      "           1.8921e-03, -5.0616e-04],\n",
      "         [-8.9645e-05,  1.6265e-03,  1.7700e-03,  ...,  8.2397e-04,\n",
      "           1.6270e-03, -8.9645e-05]],\n",
      "\n",
      "        [[-7.4768e-04, -3.7766e-04,  9.1934e-04,  ..., -1.4038e-03,\n",
      "          -3.7766e-04,  9.1839e-04],\n",
      "         [-7.4768e-04, -3.7384e-04, -1.3962e-03,  ..., -1.3809e-03,\n",
      "          -1.3771e-03, -3.7956e-04],\n",
      "         [-7.4768e-04,  1.0223e-03, -1.1292e-03,  ...,  1.0147e-03,\n",
      "           1.0185e-03,  1.0185e-03],\n",
      "         ...,\n",
      "         [-7.4768e-04,  4.1962e-04,  9.1553e-04,  ..., -7.5054e-04,\n",
      "          -1.3771e-03, -3.7956e-04],\n",
      "         [-7.4768e-04,  4.1962e-04,  9.1553e-04,  ...,  1.0147e-03,\n",
      "           1.0185e-03, -3.7956e-04],\n",
      "         [ 9.1743e-04, -1.3990e-03, -1.0071e-03,  ..., -1.3771e-03,\n",
      "          -1.3981e-03,  9.1743e-04]],\n",
      "\n",
      "        ...,\n",
      "\n",
      "        [[-4.8447e-04,  3.8147e-04,  2.0599e-04,  ..., -9.5558e-04,\n",
      "           3.8147e-04,  2.0599e-04],\n",
      "         [-4.8447e-04,  3.8147e-04, -9.3842e-04,  ...,  1.1463e-03,\n",
      "          -5.0354e-04,  1.1292e-03],\n",
      "         [-4.8447e-04,  9.9182e-04,  1.4572e-03,  ...,  9.9182e-04,\n",
      "           9.9182e-04,  9.9182e-04],\n",
      "         ...,\n",
      "         [-4.8447e-04, -1.7624e-03,  2.0599e-04,  ...,  1.7166e-03,\n",
      "          -5.0354e-04,  1.1292e-03],\n",
      "         [-4.8447e-04, -1.7624e-03,  2.0599e-04,  ...,  9.9134e-04,\n",
      "           9.9087e-04,  1.1292e-03],\n",
      "         [ 2.0599e-04, -9.3842e-04, -1.4839e-03,  ..., -5.0354e-04,\n",
      "          -9.3842e-04,  2.0599e-04]],\n",
      "\n",
      "        [[ 1.8005e-03,  2.7847e-04, -7.7438e-04,  ..., -5.0354e-04,\n",
      "           2.7847e-04, -7.7438e-04],\n",
      "         [ 1.8024e-03,  2.8229e-04,  1.2360e-03,  ...,  4.3297e-04,\n",
      "          -2.2697e-04,  1.2016e-03],\n",
      "         [ 1.8024e-03, -1.8768e-03,  1.3809e-03,  ..., -1.8768e-03,\n",
      "          -1.8768e-03, -1.8768e-03],\n",
      "         ...,\n",
      "         [ 1.8024e-03,  1.3466e-03, -7.7820e-04,  ..., -1.9455e-04,\n",
      "          -2.2697e-04,  1.2016e-03],\n",
      "         [ 1.8024e-03,  1.3466e-03, -7.7438e-04,  ..., -1.8768e-03,\n",
      "          -1.8764e-03,  1.2016e-03],\n",
      "         [-7.7438e-04,  1.2398e-03,  1.6060e-03,  ..., -2.2888e-04,\n",
      "           1.2398e-03, -7.7438e-04]],\n",
      "\n",
      "        [[ 7.1418e-04, -3.0231e-04, -1.5450e-03,  ...,  4.3368e-04,\n",
      "          -3.0231e-04, -1.5459e-03],\n",
      "         [ 7.1430e-04, -3.0136e-04,  0.0000e+00,  ..., -8.5449e-04,\n",
      "          -1.1730e-04,  5.0354e-04],\n",
      "         [ 7.1430e-04, -5.3406e-05,  1.2131e-03,  ..., -4.5776e-05,\n",
      "          -5.3406e-05, -5.0545e-05],\n",
      "         ...,\n",
      "         [ 7.1430e-04, -5.6458e-04, -1.5488e-03,  ...,  5.0831e-04,\n",
      "          -1.1730e-04,  5.0354e-04],\n",
      "         [ 7.1430e-04, -5.6458e-04, -1.5488e-03,  ..., -4.5776e-05,\n",
      "          -5.0068e-05,  5.0354e-04],\n",
      "         [-1.5450e-03, -7.6294e-06,  1.8616e-03,  ..., -1.1826e-04,\n",
      "          -7.6294e-06, -1.5450e-03]]], device='cuda:0',\n",
      "       grad_fn=<SelectBackward0>)\n",
      "index: 3\n",
      "tensor([[[ 8.6975e-04, -1.6994e-03, -1.6994e-03,  ..., -7.3624e-04,\n",
      "          -1.6975e-03,  1.4038e-03],\n",
      "         [ 8.6975e-04, -7.3624e-04,  1.4048e-03,  ...,  7.7820e-04,\n",
      "          -7.3051e-04, -7.2861e-04],\n",
      "         [ 7.3624e-04,  1.4038e-03, -8.8501e-04,  ..., -7.3242e-04,\n",
      "           1.8997e-03,  1.9264e-03],\n",
      "         ...,\n",
      "         [-7.2861e-04, -8.6403e-04, -8.8501e-04,  ..., -7.3051e-04,\n",
      "          -1.6060e-03, -8.6379e-04],\n",
      "         [ 8.6975e-04, -7.3028e-04,  6.7139e-04,  ..., -1.6050e-03,\n",
      "          -7.3624e-04, -8.6403e-04],\n",
      "         [ 1.4038e-03,  1.7395e-03, -8.6403e-04,  ...,  1.7395e-03,\n",
      "           1.7395e-03,  1.4038e-03]],\n",
      "\n",
      "        [[ 8.7738e-05,  8.1253e-04,  8.1253e-04,  ...,  6.2943e-05,\n",
      "           8.1253e-04, -8.9645e-05],\n",
      "         [ 8.5831e-05,  6.2943e-05, -8.9765e-05,  ..., -9.9945e-04,\n",
      "           1.8921e-03,  1.8921e-03],\n",
      "         [ 8.2779e-04, -9.1553e-05,  1.1749e-03,  ...,  1.8921e-03,\n",
      "           4.4250e-04,  1.6937e-03],\n",
      "         ...,\n",
      "         [ 1.8921e-03, -5.0354e-04,  1.1749e-03,  ...,  1.8921e-03,\n",
      "           8.3160e-04, -5.0640e-04],\n",
      "         [ 8.5831e-05,  1.8921e-03, -7.4005e-04,  ...,  8.2970e-04,\n",
      "           6.2943e-05, -5.0616e-04],\n",
      "         [-8.9645e-05,  1.6265e-03, -5.0735e-04,  ...,  1.6265e-03,\n",
      "           1.6265e-03, -8.9645e-05]],\n",
      "\n",
      "        [[-7.4768e-04, -3.7766e-04, -3.7766e-04,  ..., -1.4038e-03,\n",
      "          -3.7766e-04,  9.1839e-04],\n",
      "         [-7.4768e-04, -1.4038e-03,  9.1934e-04,  ..., -6.2561e-04,\n",
      "           1.0147e-03,  1.0185e-03],\n",
      "         [ 4.1962e-04,  9.1553e-04, -1.5259e-05,  ...,  1.0223e-03,\n",
      "          -1.5564e-03, -1.3819e-03],\n",
      "         ...,\n",
      "         [ 1.0185e-03, -3.8147e-04, -1.5259e-05,  ...,  1.0147e-03,\n",
      "          -1.3771e-03, -3.7956e-04],\n",
      "         [-7.4768e-04,  1.0147e-03, -2.8992e-04,  ..., -1.3771e-03,\n",
      "          -1.4038e-03, -3.7956e-04],\n",
      "         [ 9.1743e-04, -1.3986e-03, -3.7956e-04,  ..., -1.3990e-03,\n",
      "          -1.3990e-03,  9.1743e-04]],\n",
      "\n",
      "        ...,\n",
      "\n",
      "        [[-4.8447e-04,  3.8147e-04,  3.8147e-04,  ..., -9.5654e-04,\n",
      "           3.8147e-04,  2.0599e-04],\n",
      "         [-4.8447e-04, -9.5749e-04,  2.0599e-04,  ...,  1.2093e-03,\n",
      "           9.9182e-04,  9.9182e-04],\n",
      "         [-1.7624e-03,  2.0576e-04, -1.2665e-03,  ...,  9.9182e-04,\n",
      "          -5.7602e-04,  1.1444e-03],\n",
      "         ...,\n",
      "         [ 9.9134e-04,  1.1292e-03, -1.2627e-03,  ...,  9.9134e-04,\n",
      "          -5.0354e-04,  1.1292e-03],\n",
      "         [-4.8447e-04,  9.9182e-04, -1.3428e-03,  ..., -5.0354e-04,\n",
      "          -9.5749e-04,  1.1292e-03],\n",
      "         [ 2.0599e-04, -9.3842e-04,  1.1292e-03,  ..., -9.3842e-04,\n",
      "          -9.3842e-04,  2.0599e-04]],\n",
      "\n",
      "        [[ 1.8005e-03,  2.7847e-04,  2.7847e-04,  ..., -5.0354e-04,\n",
      "           2.7847e-04, -7.7438e-04],\n",
      "         [ 1.8024e-03, -5.0354e-04, -7.7438e-04,  ..., -9.8419e-04,\n",
      "          -1.8768e-03, -1.8768e-03],\n",
      "         [ 1.3466e-03, -7.7438e-04, -7.7820e-04,  ..., -1.8768e-03,\n",
      "           1.4496e-03,  4.3297e-04],\n",
      "         ...,\n",
      "         [-1.8764e-03,  1.2016e-03, -7.7820e-04,  ..., -1.8768e-03,\n",
      "          -2.2697e-04,  1.2016e-03],\n",
      "         [ 1.8024e-03, -1.8768e-03,  1.6956e-03,  ..., -2.2697e-04,\n",
      "          -5.0354e-04,  1.2016e-03],\n",
      "         [-7.7438e-04,  1.2398e-03,  1.2016e-03,  ...,  1.2398e-03,\n",
      "           1.2398e-03, -7.7438e-04]],\n",
      "\n",
      "        [[ 7.1418e-04, -3.0231e-04, -3.0231e-04,  ...,  4.3392e-04,\n",
      "          -3.0231e-04, -1.5459e-03],\n",
      "         [ 7.1430e-04,  4.3297e-04, -1.5450e-03,  ...,  1.1826e-03,\n",
      "          -5.0545e-05, -4.9591e-05],\n",
      "         [-5.6458e-04, -1.5450e-03, -1.8616e-03,  ..., -5.3406e-05,\n",
      "          -1.8768e-03, -8.5449e-04],\n",
      "         ...,\n",
      "         [-5.0545e-05,  5.0354e-04, -1.8616e-03,  ..., -4.5776e-05,\n",
      "          -1.1730e-04,  5.0354e-04],\n",
      "         [ 7.1430e-04, -4.9591e-05,  5.9891e-04,  ..., -1.1730e-04,\n",
      "           4.3392e-04,  5.0354e-04],\n",
      "         [-1.5450e-03, -7.6294e-06,  5.0354e-04,  ..., -7.6294e-06,\n",
      "          -7.6294e-06, -1.5450e-03]]], device='cuda:0',\n",
      "       grad_fn=<SelectBackward0>)\n",
      "index: 4\n",
      "tensor([[[ 1.4038e-03, -1.6987e-03, -7.3051e-04,  ..., -7.3624e-04,\n",
      "          -1.6994e-03,  1.4038e-03],\n",
      "         [-7.3051e-04,  8.8501e-04, -5.1880e-04,  ...,  1.9226e-03,\n",
      "          -7.3051e-04, -8.6403e-04],\n",
      "         [-7.2861e-04, -8.6403e-04,  1.4048e-03,  ..., -8.6975e-04,\n",
      "          -1.6050e-03, -8.6403e-04],\n",
      "         ...,\n",
      "         [ 8.6975e-04, -1.6994e-03, -7.3051e-04,  ..., -1.9455e-03,\n",
      "           1.9264e-03, -8.6403e-04],\n",
      "         [ 8.6975e-04, -7.3051e-04,  1.4496e-04,  ...,  8.9264e-04,\n",
      "          -1.7357e-04, -1.6050e-03],\n",
      "         [ 1.4038e-03,  1.7395e-03,  1.7481e-03,  ..., -1.6050e-03,\n",
      "           1.7395e-03,  1.4038e-03]],\n",
      "\n",
      "        [[-8.9645e-05,  8.1253e-04,  1.8921e-03,  ...,  6.2943e-05,\n",
      "           8.1253e-04, -8.9645e-05],\n",
      "         [ 1.8911e-03,  1.7242e-03,  1.9455e-03,  ...,  1.6937e-03,\n",
      "           1.8921e-03, -5.0616e-04],\n",
      "         [ 1.8921e-03, -5.0354e-04, -9.1553e-05,  ..., -5.0354e-04,\n",
      "           8.3160e-04, -5.0616e-04],\n",
      "         ...,\n",
      "         [ 8.5831e-05,  8.1253e-04,  1.8921e-03,  ...,  1.6785e-03,\n",
      "           1.7090e-03, -5.0592e-04],\n",
      "         [ 8.5831e-05,  1.8921e-03,  1.1520e-03,  ...,  1.7395e-03,\n",
      "           9.4604e-04,  8.3065e-04],\n",
      "         [-8.9645e-05,  1.6265e-03,  1.6479e-03,  ...,  8.3160e-04,\n",
      "           1.6270e-03, -8.9645e-05]],\n",
      "\n",
      "        [[ 9.1934e-04, -3.7384e-04,  1.0147e-03,  ..., -1.4038e-03,\n",
      "          -3.7766e-04,  9.1839e-04],\n",
      "         [ 1.0147e-03, -7.4768e-04,  1.1520e-03,  ..., -1.3809e-03,\n",
      "           1.0185e-03, -3.7956e-04],\n",
      "         [ 1.0147e-03, -3.8147e-04,  9.1553e-04,  ..., -3.7956e-04,\n",
      "          -1.3771e-03, -3.7956e-04],\n",
      "         ...,\n",
      "         [-7.4768e-04, -3.7384e-04,  1.0223e-03,  ..., -3.4523e-04,\n",
      "          -1.3819e-03, -3.7956e-04],\n",
      "         [-7.4768e-04,  1.0223e-03, -1.1292e-03,  ..., -7.5150e-04,\n",
      "           1.3275e-03, -1.3762e-03],\n",
      "         [ 9.1743e-04, -1.3986e-03,  1.2321e-03,  ..., -1.3771e-03,\n",
      "          -1.3981e-03,  9.1743e-04]],\n",
      "\n",
      "        ...,\n",
      "\n",
      "        [[ 2.0599e-04,  3.8147e-04,  9.9182e-04,  ..., -9.5558e-04,\n",
      "           3.8147e-04,  2.0599e-04],\n",
      "         [ 9.9182e-04,  1.7166e-03,  9.5367e-07,  ...,  1.1444e-03,\n",
      "           9.9182e-04,  1.1292e-03],\n",
      "         [ 9.9182e-04,  1.1292e-03,  2.0599e-04,  ...,  1.1292e-03,\n",
      "          -5.0354e-04,  1.1292e-03],\n",
      "         ...,\n",
      "         [-4.8447e-04,  3.8338e-04,  9.9182e-04,  ...,  6.1035e-05,\n",
      "           1.1444e-03,  1.1292e-03],\n",
      "         [-4.8447e-04,  9.9128e-04,  1.4610e-03,  ...,  1.7166e-03,\n",
      "          -1.3733e-03, -5.0354e-04],\n",
      "         [ 2.0599e-04, -9.3842e-04, -1.4992e-03,  ..., -5.0354e-04,\n",
      "          -9.3842e-04,  2.0599e-04]],\n",
      "\n",
      "        [[-7.7438e-04,  2.8229e-04, -1.8768e-03,  ..., -5.0354e-04,\n",
      "           2.7847e-04, -7.7438e-04],\n",
      "         [-1.8768e-03, -1.9455e-04, -1.9026e-03,  ...,  4.3488e-04,\n",
      "          -1.8768e-03,  1.2016e-03],\n",
      "         [-1.8768e-03,  1.2016e-03, -7.7438e-04,  ...,  1.1978e-03,\n",
      "          -2.2888e-04,  1.2016e-03],\n",
      "         ...,\n",
      "         [ 1.8024e-03,  2.7847e-04, -1.8768e-03,  ...,  1.6327e-03,\n",
      "           4.3297e-04,  1.2016e-03],\n",
      "         [ 1.8024e-03, -1.8768e-03,  1.3809e-03,  ..., -1.9455e-04,\n",
      "           1.6613e-03, -2.2888e-04],\n",
      "         [-7.7438e-04,  1.2398e-03,  3.4714e-04,  ..., -2.2697e-04,\n",
      "           1.2398e-03, -7.7438e-04]],\n",
      "\n",
      "        [[-1.5459e-03, -3.0136e-04, -5.0068e-05,  ...,  4.3392e-04,\n",
      "          -3.0231e-04, -1.5459e-03],\n",
      "         [-5.0545e-05,  5.0735e-04, -1.0376e-03,  ..., -8.5449e-04,\n",
      "          -4.9591e-05,  5.0354e-04],\n",
      "         [-4.9591e-05,  5.0354e-04, -1.5459e-03,  ...,  5.0354e-04,\n",
      "          -1.1635e-04,  5.0354e-04],\n",
      "         ...,\n",
      "         [ 7.1430e-04, -3.0231e-04, -5.3406e-05,  ..., -2.2888e-04,\n",
      "          -8.5449e-04,  5.0354e-04],\n",
      "         [ 7.1430e-04, -4.9591e-05,  1.2131e-03,  ...,  5.0354e-04,\n",
      "           1.9379e-03, -1.1730e-04],\n",
      "         [-1.5450e-03, -7.6294e-06,  2.2125e-04,  ..., -1.1826e-04,\n",
      "          -7.6294e-06, -1.5450e-03]]], device='cuda:0',\n",
      "       grad_fn=<SelectBackward0>)\n",
      "index: 5\n",
      "tensor([[[ 8.6975e-04, -1.6994e-03, -1.6994e-03,  ..., -1.6975e-03,\n",
      "          -7.3051e-04,  1.4038e-03],\n",
      "         [ 8.6975e-04,  1.4046e-03,  7.3624e-04,  ..., -1.2426e-03,\n",
      "          -7.3051e-04,  7.3624e-04],\n",
      "         [ 8.6975e-04, -1.6994e-03,  1.8921e-03,  ..., -8.6975e-04,\n",
      "          -1.6060e-03, -8.6403e-04],\n",
      "         ...,\n",
      "         [ 8.6975e-04,  9.1648e-04, -8.6212e-04,  ..., -7.2861e-04,\n",
      "          -7.3051e-04, -8.6403e-04],\n",
      "         [ 8.6975e-04, -7.3624e-04, -7.3051e-04,  ...,  1.5383e-03,\n",
      "          -7.3624e-04, -8.6403e-04],\n",
      "         [ 1.4038e-03,  1.7395e-03, -7.3051e-04,  ..., -7.3051e-04,\n",
      "           1.7395e-03,  1.4038e-03]],\n",
      "\n",
      "        [[ 8.7738e-05,  8.1253e-04,  8.1253e-04,  ...,  8.1253e-04,\n",
      "           1.8921e-03, -8.9645e-05],\n",
      "         [ 8.5831e-05, -8.9735e-05,  8.2779e-04,  ..., -6.5613e-04,\n",
      "           1.8921e-03,  8.2779e-04],\n",
      "         [ 8.5831e-05,  8.0872e-04,  4.4250e-04,  ..., -5.0545e-04,\n",
      "           8.2397e-04, -5.0616e-04],\n",
      "         ...,\n",
      "         [ 8.5831e-05, -8.3160e-04, -5.0354e-04,  ...,  1.8921e-03,\n",
      "           1.8921e-03, -5.0616e-04],\n",
      "         [ 8.5831e-05,  6.2943e-05,  1.8916e-03,  ...,  1.7700e-03,\n",
      "           6.3181e-05, -5.0616e-04],\n",
      "         [-8.9645e-05,  1.6265e-03,  1.8921e-03,  ...,  1.8921e-03,\n",
      "           1.6265e-03, -8.9645e-05]],\n",
      "\n",
      "        [[-7.4768e-04, -3.7766e-04, -3.7766e-04,  ..., -3.7384e-04,\n",
      "           1.0147e-03,  9.1839e-04],\n",
      "         [-7.4768e-04,  9.1934e-04,  4.1962e-04,  ...,  6.4850e-04,\n",
      "           1.0147e-03,  4.1866e-04],\n",
      "         [-7.4768e-04, -3.7384e-04, -1.5488e-03,  ..., -3.8147e-04,\n",
      "          -1.3771e-03, -3.7956e-04],\n",
      "         ...,\n",
      "         [-7.4768e-04,  5.6458e-04, -3.8147e-04,  ...,  1.0147e-03,\n",
      "           1.0185e-03, -3.7956e-04],\n",
      "         [-7.4768e-04, -1.4038e-03,  1.0147e-03,  ..., -1.0071e-03,\n",
      "          -1.4038e-03, -3.7956e-04],\n",
      "         [ 9.1743e-04, -1.3990e-03,  1.0185e-03,  ...,  1.0185e-03,\n",
      "          -1.3990e-03,  9.1743e-04]],\n",
      "\n",
      "        ...,\n",
      "\n",
      "        [[-4.8447e-04,  3.8147e-04,  3.8147e-04,  ...,  3.8147e-04,\n",
      "           9.9182e-04,  2.0599e-04],\n",
      "         [-4.8447e-04,  2.0599e-04, -1.7624e-03,  ...,  1.2722e-03,\n",
      "           9.9087e-04, -1.7624e-03],\n",
      "         [-4.8447e-04,  3.8147e-04, -5.7220e-04,  ...,  1.1292e-03,\n",
      "          -5.0354e-04,  1.1292e-03],\n",
      "         ...,\n",
      "         [-4.8447e-04,  1.8607e-03,  1.1292e-03,  ...,  9.9182e-04,\n",
      "           9.9182e-04,  1.1292e-03],\n",
      "         [-4.8447e-04, -9.5749e-04,  9.9182e-04,  ..., -1.4839e-03,\n",
      "          -9.5749e-04,  1.1292e-03],\n",
      "         [ 2.0599e-04, -9.3842e-04,  9.9087e-04,  ...,  9.9182e-04,\n",
      "          -9.3842e-04,  2.0599e-04]],\n",
      "\n",
      "        [[ 1.8005e-03,  2.7847e-04,  2.7847e-04,  ...,  2.8229e-04,\n",
      "          -1.8768e-03, -7.7438e-04],\n",
      "         [ 1.8024e-03, -7.7438e-04,  1.3428e-03,  ...,  6.7139e-04,\n",
      "          -1.8768e-03,  1.3466e-03],\n",
      "         [ 1.8024e-03,  2.8229e-04,  1.4496e-03,  ...,  1.2054e-03,\n",
      "          -2.2697e-04,  1.2016e-03],\n",
      "         ...,\n",
      "         [ 1.8005e-03, -1.0796e-03,  1.2016e-03,  ..., -1.8768e-03,\n",
      "          -1.8764e-03,  1.2016e-03],\n",
      "         [ 1.8024e-03, -5.0354e-04, -1.8768e-03,  ...,  1.6069e-03,\n",
      "          -5.0354e-04,  1.2016e-03],\n",
      "         [-7.7438e-04,  1.2398e-03, -1.8768e-03,  ..., -1.8768e-03,\n",
      "           1.2398e-03, -7.7438e-04]],\n",
      "\n",
      "        [[ 7.1418e-04, -3.0231e-04, -3.0231e-04,  ..., -3.0136e-04,\n",
      "          -5.0187e-05, -1.5458e-03],\n",
      "         [ 7.1430e-04, -1.5450e-03, -5.6458e-04,  ..., -1.3733e-03,\n",
      "          -4.9591e-05, -5.6458e-04],\n",
      "         [ 7.1430e-04, -3.0136e-04, -1.8845e-03,  ...,  5.0354e-04,\n",
      "          -1.1635e-04,  5.0354e-04],\n",
      "         ...,\n",
      "         [ 7.1430e-04, -3.2806e-04,  5.0354e-04,  ..., -4.9591e-05,\n",
      "          -5.0068e-05,  5.0354e-04],\n",
      "         [ 7.1430e-04,  4.3392e-04, -4.9591e-05,  ...,  1.8616e-03,\n",
      "           4.3392e-04,  5.0354e-04],\n",
      "         [-1.5450e-03, -7.6294e-06, -4.9591e-05,  ..., -4.9591e-05,\n",
      "          -7.6294e-06, -1.5450e-03]]], device='cuda:0',\n",
      "       grad_fn=<SelectBackward0>)\n",
      "index: 6\n",
      "tensor([[[ 8.6975e-04, -1.6994e-03, -1.6985e-03,  ..., -1.6985e-03,\n",
      "          -7.3051e-04,  1.4048e-03],\n",
      "         [ 8.6975e-04,  7.3647e-04,  1.4038e-03,  ...,  8.9264e-04,\n",
      "           8.8501e-04,  1.9264e-03],\n",
      "         [ 8.6975e-04, -1.6987e-03,  5.4932e-04,  ...,  4.7684e-04,\n",
      "          -7.7820e-04, -1.6050e-03],\n",
      "         ...,\n",
      "         [ 1.4048e-03,  1.5869e-03,  1.4038e-03,  ...,  2.4414e-04,\n",
      "          -7.2861e-04,  7.3624e-04],\n",
      "         [ 1.8120e-04,  1.4496e-04,  8.9264e-04,  ...,  1.3285e-03,\n",
      "          -7.3051e-04, -8.6403e-04],\n",
      "         [ 1.4038e-03,  1.7481e-03, -7.7820e-04,  ..., -7.3051e-04,\n",
      "           1.7395e-03,  1.4038e-03]],\n",
      "\n",
      "        [[ 8.7738e-05,  8.1253e-04,  8.1253e-04,  ...,  8.1253e-04,\n",
      "           1.8916e-03, -8.9645e-05],\n",
      "         [ 8.5831e-05,  8.2779e-04, -9.1553e-05,  ...,  1.7395e-03,\n",
      "           1.7242e-03,  1.6975e-03],\n",
      "         [ 8.5831e-05,  8.0872e-04,  1.7090e-03,  ...,  1.8005e-03,\n",
      "           5.1880e-04,  8.3041e-04],\n",
      "         ...,\n",
      "         [-9.1553e-05, -8.1635e-04, -9.1553e-05,  ...,  5.6458e-04,\n",
      "           1.8921e-03,  8.2779e-04],\n",
      "         [ 7.6294e-04,  1.1520e-03,  1.7395e-03,  ...,  1.1444e-04,\n",
      "           1.8921e-03, -5.0616e-04],\n",
      "         [-8.9645e-05,  1.6479e-03,  5.1880e-04,  ...,  1.8921e-03,\n",
      "           1.6270e-03, -8.9645e-05]],\n",
      "\n",
      "        [[-7.4768e-04, -3.7766e-04, -3.7766e-04,  ..., -3.7384e-04,\n",
      "           1.0185e-03,  9.1743e-04],\n",
      "         [-7.4768e-04,  4.1962e-04,  9.1934e-04,  ..., -7.4768e-04,\n",
      "          -7.4768e-04, -1.3814e-03],\n",
      "         [-7.4768e-04, -3.7384e-04, -4.9400e-04,  ..., -5.9891e-04,\n",
      "           1.0376e-03, -1.3771e-03],\n",
      "         ...,\n",
      "         [ 9.1553e-04,  1.9379e-03,  9.1553e-04,  ..., -3.7384e-04,\n",
      "           1.0147e-03,  4.1866e-04],\n",
      "         [ 1.5106e-03, -1.1292e-03, -7.4768e-04,  ...,  1.7471e-03,\n",
      "           1.0147e-03, -3.7956e-04],\n",
      "         [ 9.1839e-04,  1.2283e-03,  1.0376e-03,  ...,  1.0185e-03,\n",
      "          -1.3990e-03,  9.1743e-04]],\n",
      "\n",
      "        ...,\n",
      "\n",
      "        [[-4.8447e-04,  3.8147e-04,  3.8147e-04,  ...,  3.8338e-04,\n",
      "           9.9182e-04,  2.0599e-04],\n",
      "         [-4.8447e-04, -1.7624e-03,  2.0599e-04,  ...,  1.7166e-03,\n",
      "           1.7166e-03,  1.1444e-03],\n",
      "         [-4.8447e-04,  3.8147e-04, -4.2725e-04,  ...,  9.6130e-04,\n",
      "          -1.4191e-03, -5.0354e-04],\n",
      "         ...,\n",
      "         [ 2.0599e-04, -6.2943e-04,  2.0599e-04,  ..., -1.5341e-03,\n",
      "           9.9087e-04, -1.7624e-03],\n",
      "         [-4.5776e-05,  1.4572e-03,  1.7166e-03,  ...,  6.2370e-04,\n",
      "           9.9182e-04,  1.1292e-03],\n",
      "         [ 2.0599e-04, -1.4992e-03, -1.4162e-03,  ...,  9.9182e-04,\n",
      "          -9.3842e-04,  2.0599e-04]],\n",
      "\n",
      "        [[ 1.8005e-03,  2.7847e-04,  2.8229e-04,  ...,  2.7847e-04,\n",
      "          -1.8768e-03, -7.7438e-04],\n",
      "         [ 1.8024e-03,  1.3466e-03, -7.7820e-04,  ..., -1.9073e-04,\n",
      "          -1.9455e-04,  4.3297e-04],\n",
      "         [ 1.8024e-03,  2.8229e-04,  1.3123e-03,  ..., -4.2725e-04,\n",
      "          -9.4604e-04, -2.2888e-04],\n",
      "         ...,\n",
      "         [-7.7438e-04, -1.5259e-04, -7.7438e-04,  ...,  1.5106e-03,\n",
      "          -1.8768e-03,  1.3466e-03],\n",
      "         [-2.0599e-04,  1.3809e-03, -1.9073e-04,  ...,  3.7193e-04,\n",
      "          -1.8768e-03,  1.2016e-03],\n",
      "         [-7.7438e-04,  3.4714e-04, -9.4604e-04,  ..., -1.8768e-03,\n",
      "           1.2398e-03, -7.7438e-04]],\n",
      "\n",
      "        [[ 7.1418e-04, -3.0231e-04, -3.0231e-04,  ..., -3.0231e-04,\n",
      "          -5.0545e-05, -1.5459e-03],\n",
      "         [ 7.1430e-04, -5.6458e-04, -1.5488e-03,  ...,  5.0354e-04,\n",
      "           5.0735e-04, -8.5354e-04],\n",
      "         [ 7.1430e-04, -3.0136e-04, -1.5259e-05,  ..., -1.6479e-03,\n",
      "           1.8978e-03, -1.1706e-04],\n",
      "         ...,\n",
      "         [-1.5459e-03,  5.8746e-04, -1.5450e-03,  ...,  2.5940e-04,\n",
      "          -5.0068e-05, -5.6458e-04],\n",
      "         [ 1.2093e-03,  1.2131e-03,  5.0354e-04,  ...,  1.9531e-03,\n",
      "          -5.0068e-05,  5.0354e-04],\n",
      "         [-1.5450e-03,  2.2125e-04,  1.8988e-03,  ..., -4.9591e-05,\n",
      "          -7.6294e-06, -1.5450e-03]]], device='cuda:0',\n",
      "       grad_fn=<SelectBackward0>)\n",
      "index: 7\n",
      "tensor([[[ 8.6975e-04, -1.6985e-03, -1.6994e-03,  ..., -7.3624e-04,\n",
      "          -1.6994e-03,  1.4038e-03],\n",
      "         [ 8.7357e-04,  1.4038e-03,  8.9264e-04,  ...,  1.9226e-03,\n",
      "          -7.3624e-04, -8.6403e-04],\n",
      "         [ 8.6975e-04, -7.3028e-04, -1.6060e-03,  ..., -7.3242e-04,\n",
      "          -1.6050e-03, -8.6403e-04],\n",
      "         ...,\n",
      "         [ 8.6975e-04, -7.3624e-04,  1.4038e-03,  ..., -2.8992e-04,\n",
      "           7.3624e-04, -8.6403e-04],\n",
      "         [ 8.6975e-04, -7.3624e-04,  1.4038e-03,  ...,  8.9264e-04,\n",
      "          -2.8992e-04, -8.6403e-04],\n",
      "         [ 1.4038e-03,  1.7395e-03,  1.5383e-03,  ..., -8.6212e-04,\n",
      "          -1.6060e-03,  1.4038e-03]],\n",
      "\n",
      "        [[ 8.7738e-05,  8.1253e-04,  8.1253e-04,  ...,  6.3121e-05,\n",
      "           8.1253e-04, -8.9645e-05],\n",
      "         [ 8.5831e-05, -9.1553e-05,  1.7242e-03,  ...,  1.6937e-03,\n",
      "           6.2943e-05, -5.0616e-04],\n",
      "         [ 8.5831e-05,  1.8921e-03,  8.2397e-04,  ...,  1.8921e-03,\n",
      "           8.3160e-04, -5.0616e-04],\n",
      "         ...,\n",
      "         [ 8.5831e-05,  6.2943e-05, -9.1553e-05,  ...,  5.7220e-04,\n",
      "           8.2782e-04, -5.0616e-04],\n",
      "         [ 8.5831e-05,  6.2943e-05, -9.1553e-05,  ...,  1.7242e-03,\n",
      "           5.6458e-04, -5.0604e-04],\n",
      "         [-8.9645e-05,  1.6265e-03,  1.7700e-03,  ..., -5.0354e-04,\n",
      "           8.2397e-04, -8.9645e-05]],\n",
      "\n",
      "        [[-7.4768e-04, -3.7766e-04, -3.7384e-04,  ..., -1.4038e-03,\n",
      "          -3.7766e-04,  9.1839e-04],\n",
      "         [-7.4768e-04,  9.1934e-04, -7.4768e-04,  ..., -1.3809e-03,\n",
      "          -1.4038e-03, -3.7956e-04],\n",
      "         [-7.4768e-04,  1.0223e-03, -1.3733e-03,  ...,  1.0147e-03,\n",
      "          -1.3771e-03, -3.7956e-04],\n",
      "         ...,\n",
      "         [-7.4768e-04, -1.4038e-03,  9.1553e-04,  ..., -7.1716e-04,\n",
      "           4.1962e-04, -3.7956e-04],\n",
      "         [-7.4768e-04, -1.4038e-03,  9.1553e-04,  ..., -7.4768e-04,\n",
      "          -7.1526e-04, -3.7956e-04],\n",
      "         [ 9.1743e-04, -1.3990e-03, -1.0071e-03,  ..., -3.8147e-04,\n",
      "          -1.3771e-03,  9.1743e-04]],\n",
      "\n",
      "        ...,\n",
      "\n",
      "        [[-4.8447e-04,  3.8147e-04,  3.8242e-04,  ..., -9.5558e-04,\n",
      "           3.8147e-04,  2.0599e-04],\n",
      "         [-4.8447e-04,  2.0599e-04,  1.7166e-03,  ...,  1.1454e-03,\n",
      "          -9.5749e-04,  1.1292e-03],\n",
      "         [-4.8447e-04,  9.9182e-04, -5.0354e-04,  ...,  9.9182e-04,\n",
      "          -5.0354e-04,  1.1292e-03],\n",
      "         ...,\n",
      "         [-4.8447e-04, -9.5749e-04,  2.0599e-04,  ..., -1.8647e-03,\n",
      "          -1.7624e-03,  1.1292e-03],\n",
      "         [-4.8447e-04, -9.5749e-04,  2.0599e-04,  ...,  1.7166e-03,\n",
      "          -1.8616e-03,  1.1292e-03],\n",
      "         [ 2.0599e-04, -9.3842e-04, -1.4839e-03,  ...,  1.1292e-03,\n",
      "          -5.0354e-04,  2.0599e-04]],\n",
      "\n",
      "        [[ 1.8005e-03,  2.8229e-04,  2.7847e-04,  ..., -5.0354e-04,\n",
      "           2.7847e-04, -7.7438e-04],\n",
      "         [ 1.8024e-03, -7.7820e-04, -1.9455e-04,  ...,  4.3488e-04,\n",
      "          -5.0354e-04,  1.2016e-03],\n",
      "         [ 1.8005e-03, -1.8764e-03, -2.2888e-04,  ..., -1.8768e-03,\n",
      "          -2.2888e-04,  1.2016e-03],\n",
      "         ...,\n",
      "         [ 1.8024e-03, -5.0354e-04, -7.7820e-04,  ...,  7.4959e-04,\n",
      "           1.3466e-03,  1.2016e-03],\n",
      "         [ 1.8024e-03, -5.0354e-04, -7.7486e-04,  ..., -1.9073e-04,\n",
      "           7.4959e-04,  1.2016e-03],\n",
      "         [-7.7438e-04,  1.2398e-03,  1.6060e-03,  ...,  1.2016e-03,\n",
      "          -2.2888e-04, -7.7438e-04]],\n",
      "\n",
      "        [[ 7.1418e-04, -3.0231e-04, -3.0231e-04,  ...,  4.3368e-04,\n",
      "          -3.0231e-04, -1.5459e-03],\n",
      "         [ 7.1335e-04, -1.5488e-03,  5.0354e-04,  ..., -8.5449e-04,\n",
      "           4.3392e-04,  5.0354e-04],\n",
      "         [ 7.1430e-04, -5.0187e-05, -1.1730e-04,  ..., -4.5776e-05,\n",
      "          -1.1730e-04,  5.0354e-04],\n",
      "         ...,\n",
      "         [ 7.1430e-04,  4.3297e-04, -1.5488e-03,  ..., -7.2861e-04,\n",
      "          -5.6458e-04,  5.0354e-04],\n",
      "         [ 7.1430e-04,  4.3297e-04, -1.5488e-03,  ...,  5.0354e-04,\n",
      "          -7.2479e-04,  5.0354e-04],\n",
      "         [-1.5450e-03, -7.6294e-06,  1.8616e-03,  ...,  5.0354e-04,\n",
      "          -1.1826e-04, -1.5450e-03]]], device='cuda:0',\n",
      "       grad_fn=<SelectBackward0>)\n",
      "index: 8\n",
      "tensor([[[ 8.6975e-04, -1.6994e-03, -1.6985e-03,  ..., -1.6994e-03,\n",
      "          -1.6994e-03,  1.4038e-03],\n",
      "         [ 8.6975e-04,  1.4048e-03,  1.7395e-03,  ..., -7.3051e-04,\n",
      "           7.3624e-04, -8.6403e-04],\n",
      "         [ 8.6975e-04, -1.6985e-03, -2.8992e-04,  ...,  1.9264e-03,\n",
      "           1.7395e-03, -8.6403e-04],\n",
      "         ...,\n",
      "         [ 8.6975e-04, -7.3051e-04, -8.6403e-04,  ...,  9.8896e-04,\n",
      "          -2.7466e-04,  7.3624e-04],\n",
      "         [ 8.6975e-04, -7.3624e-04, -7.3624e-04,  ..., -5.1117e-04,\n",
      "           1.5411e-03, -7.3028e-04],\n",
      "         [ 1.4038e-03,  1.7395e-03,  1.7395e-03,  ..., -7.3051e-04,\n",
      "          -8.6212e-04, -1.6060e-03]],\n",
      "\n",
      "        [[ 8.7738e-05,  8.1253e-04,  8.1253e-04,  ...,  8.1253e-04,\n",
      "           8.1253e-04, -8.9645e-05],\n",
      "         [ 8.5831e-05, -8.9645e-05,  1.6251e-03,  ...,  1.8921e-03,\n",
      "           8.2779e-04, -5.0616e-04],\n",
      "         [ 8.5831e-05,  8.1253e-04,  5.6458e-04,  ...,  1.7090e-03,\n",
      "           1.6265e-03, -5.0616e-04],\n",
      "         ...,\n",
      "         [ 8.5831e-05,  1.8921e-03, -5.0354e-04,  ...,  1.5945e-03,\n",
      "           7.9346e-04,  8.2779e-04],\n",
      "         [ 8.5831e-05,  6.2943e-05,  6.3121e-05,  ...,  1.9455e-03,\n",
      "           1.7700e-03,  1.8921e-03],\n",
      "         [-8.9645e-05,  1.6265e-03,  1.6265e-03,  ...,  1.8921e-03,\n",
      "          -5.0545e-04,  8.3160e-04]],\n",
      "\n",
      "        [[-7.4768e-04, -3.7766e-04, -3.7766e-04,  ..., -3.7766e-04,\n",
      "          -3.7766e-04,  9.1839e-04],\n",
      "         [-7.4768e-04,  9.1934e-04, -1.4000e-03,  ...,  1.0185e-03,\n",
      "           4.1962e-04, -3.7956e-04],\n",
      "         [-7.4768e-04, -3.7384e-04, -7.1716e-04,  ..., -1.3819e-03,\n",
      "          -1.4000e-03, -3.7956e-04],\n",
      "         ...,\n",
      "         [-7.4768e-04,  1.0185e-03, -3.8147e-04,  ..., -2.4796e-04,\n",
      "          -1.6913e-03,  4.1866e-04],\n",
      "         [-7.4768e-04, -1.4038e-03, -1.4038e-03,  ...,  1.1444e-03,\n",
      "          -1.0071e-03,  1.0185e-03],\n",
      "         [ 9.1743e-04, -1.3990e-03, -1.3990e-03,  ...,  1.0185e-03,\n",
      "          -3.7956e-04, -1.3771e-03]],\n",
      "\n",
      "        ...,\n",
      "\n",
      "        [[-4.8447e-04,  3.8147e-04,  3.8147e-04,  ...,  3.8147e-04,\n",
      "           3.8147e-04,  2.0599e-04],\n",
      "         [-4.8447e-04,  2.0599e-04, -9.3842e-04,  ...,  9.9182e-04,\n",
      "          -1.7624e-03,  1.1292e-03],\n",
      "         [-4.8447e-04,  3.8147e-04, -1.8654e-03,  ...,  1.1444e-03,\n",
      "          -9.3842e-04,  1.1292e-03],\n",
      "         ...,\n",
      "         [-4.8447e-04,  9.9087e-04,  1.1292e-03,  ..., -1.0185e-03,\n",
      "          -3.0518e-04, -1.7624e-03],\n",
      "         [-4.8447e-04, -9.5749e-04, -9.5749e-04,  ...,  0.0000e+00,\n",
      "          -1.4839e-03,  9.9182e-04],\n",
      "         [ 2.0599e-04, -9.3842e-04, -9.3842e-04,  ...,  9.9134e-04,\n",
      "           1.1292e-03, -5.0354e-04]],\n",
      "\n",
      "        [[ 1.8005e-03,  2.7847e-04,  2.7847e-04,  ...,  2.7847e-04,\n",
      "           2.7847e-04, -7.7438e-04],\n",
      "         [ 1.8024e-03, -7.7438e-04,  1.2360e-03,  ..., -1.8768e-03,\n",
      "           1.3466e-03,  1.2016e-03],\n",
      "         [ 1.8024e-03,  2.7847e-04,  7.4768e-04,  ...,  4.3488e-04,\n",
      "           1.2379e-03,  1.2016e-03],\n",
      "         ...,\n",
      "         [ 1.8024e-03, -1.8765e-03,  1.2016e-03,  ...,  2.4414e-04,\n",
      "           7.2908e-04,  1.3466e-03],\n",
      "         [ 1.8024e-03, -5.0354e-04, -5.0354e-04,  ..., -1.9035e-03,\n",
      "           1.6069e-03, -1.8768e-03],\n",
      "         [-7.7438e-04,  1.2398e-03,  1.2398e-03,  ..., -1.8765e-03,\n",
      "           1.2054e-03, -2.2888e-04]],\n",
      "\n",
      "        [[ 7.1418e-04, -3.0231e-04, -3.0231e-04,  ..., -3.0231e-04,\n",
      "          -3.0231e-04, -1.5459e-03],\n",
      "         [ 7.1430e-04, -1.5450e-03, -7.6294e-06,  ..., -4.9591e-05,\n",
      "          -5.6458e-04,  5.0354e-04],\n",
      "         [ 7.1430e-04, -3.0136e-04, -7.2479e-04,  ..., -8.5449e-04,\n",
      "          -7.6294e-06,  5.0354e-04],\n",
      "         ...,\n",
      "         [ 7.1430e-04, -4.9591e-05,  5.0354e-04,  ...,  1.6785e-03,\n",
      "          -1.2093e-03, -5.6458e-04],\n",
      "         [ 7.1430e-04,  4.3392e-04,  4.3392e-04,  ..., -1.0443e-03,\n",
      "           1.8635e-03, -5.0068e-05],\n",
      "         [-1.5450e-03, -7.6294e-06, -7.6294e-06,  ..., -4.9591e-05,\n",
      "           5.0354e-04, -1.1635e-04]]], device='cuda:0',\n",
      "       grad_fn=<SelectBackward0>)\n",
      "index: 9\n",
      "tensor([[[ 8.6975e-04, -1.6994e-03, -1.6994e-03,  ..., -7.3051e-04,\n",
      "          -1.6994e-03,  1.4038e-03],\n",
      "         [ 8.6975e-04,  7.3624e-04, -1.6985e-03,  ...,  5.6458e-04,\n",
      "          -2.8992e-04, -8.6403e-04],\n",
      "         [ 8.6975e-04, -1.6994e-03,  1.7481e-03,  ..., -7.3242e-04,\n",
      "          -7.3051e-04, -8.6403e-04],\n",
      "         ...,\n",
      "         [ 8.6975e-04, -5.1212e-04,  1.4496e-04,  ..., -5.1117e-04,\n",
      "          -7.3028e-04, -1.6060e-03],\n",
      "         [ 8.6975e-04, -7.3624e-04, -2.8992e-04,  ...,  1.1978e-03,\n",
      "          -7.3624e-04, -8.6379e-04],\n",
      "         [ 1.4038e-03,  1.7395e-03,  1.7395e-03,  ..., -7.3051e-04,\n",
      "           1.7395e-03,  1.4038e-03]],\n",
      "\n",
      "        [[ 8.7738e-05,  8.1253e-04,  8.1253e-04,  ...,  1.8911e-03,\n",
      "           8.1253e-04, -8.9645e-05],\n",
      "         [ 8.5831e-05,  8.2785e-04,  8.0872e-04,  ...,  7.3242e-04,\n",
      "           5.7220e-04, -5.0616e-04],\n",
      "         [ 8.5831e-05,  8.0872e-04,  1.6479e-03,  ...,  1.8921e-03,\n",
      "           1.8921e-03, -5.0607e-04],\n",
      "         ...,\n",
      "         [ 8.5831e-05,  1.9379e-03,  1.1597e-03,  ...,  1.9531e-03,\n",
      "           1.8921e-03,  8.2397e-04],\n",
      "         [ 8.5831e-05,  6.2943e-05,  5.7220e-04,  ...,  0.0000e+00,\n",
      "           6.2943e-05, -5.0592e-04],\n",
      "         [-8.9645e-05,  1.6265e-03,  1.6270e-03,  ...,  1.8921e-03,\n",
      "           1.6265e-03, -8.9645e-05]],\n",
      "\n",
      "        [[-7.4768e-04, -3.7766e-04, -3.7766e-04,  ...,  1.0185e-03,\n",
      "          -3.7766e-04,  9.1839e-04],\n",
      "         [-7.4768e-04,  4.1962e-04, -3.7384e-04,  ..., -6.3705e-04,\n",
      "          -7.1716e-04, -3.7956e-04],\n",
      "         [-7.4768e-04, -3.7384e-04,  1.2321e-03,  ...,  1.0147e-03,\n",
      "           1.0185e-03, -3.7956e-04],\n",
      "         ...,\n",
      "         [-7.4768e-04,  1.1444e-03, -1.1292e-03,  ...,  1.1520e-03,\n",
      "           1.0223e-03, -1.3771e-03],\n",
      "         [-7.4768e-04, -1.4038e-03, -7.1716e-04,  ..., -4.9591e-04,\n",
      "          -1.4038e-03, -3.7956e-04],\n",
      "         [ 9.1743e-04, -1.3990e-03, -1.3986e-03,  ...,  1.0185e-03,\n",
      "          -1.3990e-03,  9.1743e-04]],\n",
      "\n",
      "        ...,\n",
      "\n",
      "        [[-4.8447e-04,  3.8147e-04,  3.8147e-04,  ...,  9.9182e-04,\n",
      "           3.8147e-04,  2.0599e-04],\n",
      "         [-4.8447e-04, -1.7624e-03,  3.8147e-04,  ..., -7.3528e-04,\n",
      "          -1.8654e-03,  1.1292e-03],\n",
      "         [-4.8447e-04,  3.8147e-04, -1.4999e-03,  ...,  9.9134e-04,\n",
      "           9.9182e-04,  1.1292e-03],\n",
      "         ...,\n",
      "         [-4.8447e-04,  0.0000e+00,  1.4610e-03,  ...,  0.0000e+00,\n",
      "           9.9182e-04, -5.0354e-04],\n",
      "         [-4.8447e-04, -9.5558e-04, -1.8644e-03,  ...,  1.7319e-03,\n",
      "          -9.5749e-04,  1.1292e-03],\n",
      "         [ 2.0599e-04, -9.3842e-04, -9.3842e-04,  ...,  9.9182e-04,\n",
      "          -9.3842e-04,  2.0599e-04]],\n",
      "\n",
      "        [[ 1.8005e-03,  2.7847e-04,  2.7847e-04,  ..., -1.8768e-03,\n",
      "           2.7847e-04, -7.7438e-04],\n",
      "         [ 1.8024e-03,  1.3466e-03,  2.8229e-04,  ...,  9.1171e-04,\n",
      "           7.4959e-04,  1.2016e-03],\n",
      "         [ 1.8024e-03,  2.8229e-04,  3.5095e-04,  ..., -1.8768e-03,\n",
      "          -1.8768e-03,  1.2016e-03],\n",
      "         ...,\n",
      "         [ 1.8005e-03, -1.9023e-03,  1.3809e-03,  ..., -1.9035e-03,\n",
      "          -1.8768e-03, -2.2888e-04],\n",
      "         [ 1.8024e-03, -5.0354e-04,  7.4959e-04,  ..., -3.8147e-05,\n",
      "          -5.0354e-04,  1.2016e-03],\n",
      "         [-7.7438e-04,  1.2398e-03,  1.2398e-03,  ..., -1.8768e-03,\n",
      "           1.2398e-03, -7.7438e-04]],\n",
      "\n",
      "        [[ 7.1418e-04, -3.0231e-04, -3.0231e-04,  ..., -5.0068e-05,\n",
      "          -3.0231e-04, -1.5459e-03],\n",
      "         [ 7.1430e-04, -5.6458e-04, -3.0136e-04,  ...,  6.0272e-04,\n",
      "          -7.2670e-04,  5.0354e-04],\n",
      "         [ 7.1430e-04, -3.0136e-04,  2.1362e-04,  ..., -5.3406e-05,\n",
      "          -4.9591e-05,  5.0354e-04],\n",
      "         ...,\n",
      "         [ 7.1430e-04, -1.0443e-03,  1.2131e-03,  ..., -1.0376e-03,\n",
      "          -4.5776e-05, -1.1730e-04],\n",
      "         [ 7.1430e-04,  4.3297e-04, -7.2861e-04,  ...,  1.5335e-03,\n",
      "           4.3374e-04,  5.0354e-04],\n",
      "         [-1.5450e-03, -7.6294e-06, -7.6294e-06,  ..., -4.9591e-05,\n",
      "          -7.6294e-06, -1.5450e-03]]], device='cuda:0',\n",
      "       grad_fn=<SelectBackward0>)\n",
      "index: 10\n",
      "tensor([[[ 8.6975e-04, -1.6994e-03, -1.6994e-03,  ...,  1.4048e-03,\n",
      "          -1.6050e-03,  1.4038e-03],\n",
      "         [ 8.6975e-04, -7.3624e-04, -7.3624e-04,  ...,  1.4038e-03,\n",
      "           8.9264e-04, -2.8992e-04],\n",
      "         [ 8.6975e-04, -7.3624e-04,  1.4048e-03,  ...,  2.4414e-04,\n",
      "          -7.3051e-04, -8.6403e-04],\n",
      "         ...,\n",
      "         [ 7.3624e-04, -7.3242e-04, -6.3324e-04,  ..., -1.6060e-03,\n",
      "          -1.6050e-03, -8.6403e-04],\n",
      "         [ 1.7395e-03,  4.7302e-04,  5.6458e-04,  ..., -1.6050e-03,\n",
      "          -7.3624e-04, -8.6403e-04],\n",
      "         [ 1.5373e-03, -8.6403e-04, -1.6060e-03,  ...,  1.7395e-03,\n",
      "           1.7395e-03,  1.4038e-03]],\n",
      "\n",
      "        [[ 8.7738e-05,  8.1253e-04,  8.1253e-04,  ..., -8.9645e-05,\n",
      "           8.3065e-04, -8.9645e-05],\n",
      "         [ 8.5831e-05,  6.2943e-05,  6.2943e-05,  ..., -9.1553e-05,\n",
      "           1.7242e-03,  5.7220e-04],\n",
      "         [ 8.5831e-05,  6.2943e-05, -8.9645e-05,  ...,  5.6458e-04,\n",
      "           1.8921e-03, -5.0354e-04],\n",
      "         ...,\n",
      "         [ 8.2779e-04,  1.8921e-03, -1.7853e-03,  ...,  8.2397e-04,\n",
      "           8.3017e-04, -5.0616e-04],\n",
      "         [ 1.6265e-03,  1.8005e-03,  7.3242e-04,  ...,  8.3017e-04,\n",
      "           6.2943e-05, -5.0616e-04],\n",
      "         [ 1.7624e-03, -5.0354e-04,  8.3160e-04,  ...,  1.6265e-03,\n",
      "           1.6265e-03, -8.9645e-05]],\n",
      "\n",
      "        [[-7.4768e-04, -3.7766e-04, -3.7766e-04,  ...,  9.1934e-04,\n",
      "          -1.3771e-03,  9.1743e-04],\n",
      "         [-7.4768e-04, -1.4038e-03, -1.4038e-03,  ...,  9.1553e-04,\n",
      "          -7.4768e-04, -7.1716e-04],\n",
      "         [-7.4768e-04, -1.4038e-03,  9.1934e-04,  ..., -3.7003e-04,\n",
      "           1.0147e-03, -3.7766e-04],\n",
      "         ...,\n",
      "         [ 4.1962e-04,  1.0147e-03,  3.0518e-04,  ..., -1.3771e-03,\n",
      "          -1.3771e-03, -3.7956e-04],\n",
      "         [-1.4000e-03, -5.9509e-04, -6.3705e-04,  ..., -1.3771e-03,\n",
      "          -1.4038e-03, -3.7956e-04],\n",
      "         [-1.0071e-03, -3.8147e-04, -1.3771e-03,  ..., -1.3990e-03,\n",
      "          -1.3990e-03,  9.1743e-04]],\n",
      "\n",
      "        ...,\n",
      "\n",
      "        [[-4.8447e-04,  3.8147e-04,  3.8147e-04,  ...,  2.0599e-04,\n",
      "          -5.0354e-04,  2.0599e-04],\n",
      "         [-4.8447e-04, -9.5749e-04, -9.5749e-04,  ...,  2.0599e-04,\n",
      "           1.7166e-03, -1.8616e-03],\n",
      "         [-4.8447e-04, -9.5749e-04,  2.0599e-04,  ..., -1.5335e-03,\n",
      "           9.9182e-04,  1.1292e-03],\n",
      "         ...,\n",
      "         [-1.7643e-03,  9.9182e-04, -1.7939e-03,  ..., -5.0354e-04,\n",
      "          -5.0354e-04,  1.1292e-03],\n",
      "         [-9.3842e-04,  9.6130e-04, -7.3433e-04,  ..., -5.0354e-04,\n",
      "          -9.5749e-04,  1.1292e-03],\n",
      "         [-1.4839e-03,  1.1292e-03, -5.0354e-04,  ..., -9.3842e-04,\n",
      "          -9.3842e-04,  2.0599e-04]],\n",
      "\n",
      "        [[ 1.8005e-03,  2.7847e-04,  2.7847e-04,  ..., -7.7438e-04,\n",
      "          -2.2888e-04, -7.7438e-04],\n",
      "         [ 1.8024e-03, -5.0354e-04, -5.0354e-04,  ..., -7.7820e-04,\n",
      "          -1.9073e-04,  7.4768e-04],\n",
      "         [ 1.8024e-03, -5.0354e-04, -7.7438e-04,  ...,  1.5106e-03,\n",
      "          -1.8768e-03,  1.2016e-03],\n",
      "         ...,\n",
      "         [ 1.3466e-03, -1.8768e-03,  1.0986e-03,  ..., -2.2888e-04,\n",
      "          -2.2888e-04,  1.2016e-03],\n",
      "         [ 1.2360e-03, -4.3488e-04,  9.1362e-04,  ..., -2.2888e-04,\n",
      "          -5.0354e-04,  1.2016e-03],\n",
      "         [ 1.6060e-03,  1.2016e-03, -2.2697e-04,  ...,  1.2398e-03,\n",
      "           1.2398e-03, -7.7438e-04]],\n",
      "\n",
      "        [[ 7.1418e-04, -3.0231e-04, -3.0231e-04,  ..., -1.5459e-03,\n",
      "          -1.1730e-04, -1.5459e-03],\n",
      "         [ 7.1430e-04,  4.3297e-04,  4.3297e-04,  ..., -1.5488e-03,\n",
      "           5.0354e-04, -7.2861e-04],\n",
      "         [ 7.1430e-04,  4.3297e-04, -1.5450e-03,  ...,  2.5940e-04,\n",
      "          -4.5776e-05,  5.0354e-04],\n",
      "         ...,\n",
      "         [-5.6458e-04, -4.9591e-05, -1.1444e-03,  ..., -1.1730e-04,\n",
      "          -1.1730e-04,  5.0354e-04],\n",
      "         [-7.6294e-06, -1.6479e-03,  6.1035e-04,  ..., -1.1730e-04,\n",
      "           4.3297e-04,  5.0354e-04],\n",
      "         [ 1.8616e-03,  5.0336e-04, -1.1826e-04,  ..., -7.6294e-06,\n",
      "          -7.6294e-06, -1.5450e-03]]], device='cuda:0',\n",
      "       grad_fn=<SelectBackward0>)\n",
      "index: 11\n",
      "tensor([[[ 8.6975e-04, -1.6994e-03, -1.6975e-03,  ..., -1.6975e-03,\n",
      "          -1.6994e-03,  1.4038e-03],\n",
      "         [ 8.6975e-04, -7.3624e-04,  1.4038e-03,  ..., -7.3242e-04,\n",
      "          -7.3624e-04, -8.6403e-04],\n",
      "         [ 8.6975e-04, -7.3624e-04, -1.7166e-04,  ...,  1.1978e-03,\n",
      "           7.3624e-04, -8.6403e-04],\n",
      "         ...,\n",
      "         [ 8.6975e-04, -7.3624e-04, -7.3051e-04,  ...,  5.6458e-04,\n",
      "          -7.2861e-04, -8.6403e-04],\n",
      "         [ 8.6975e-04, -7.3624e-04, -7.3051e-04,  ...,  8.9264e-04,\n",
      "          -7.3051e-04, -8.6403e-04],\n",
      "         [ 1.4038e-03,  1.7395e-03,  1.7395e-03,  ..., -1.6060e-03,\n",
      "           1.7395e-03,  1.4038e-03]],\n",
      "\n",
      "        [[ 8.7738e-05,  8.1253e-04,  8.0872e-04,  ...,  8.1253e-04,\n",
      "           8.1253e-04, -8.9645e-05],\n",
      "         [ 8.5831e-05,  6.2943e-05, -9.1553e-05,  ...,  1.8921e-03,\n",
      "           6.2943e-05, -5.0616e-04],\n",
      "         [ 8.5831e-05,  6.2943e-05,  9.4604e-04,  ...,  0.0000e+00,\n",
      "           8.2779e-04, -5.0616e-04],\n",
      "         ...,\n",
      "         [ 8.5831e-05,  6.2943e-05,  1.8921e-03,  ...,  7.3242e-04,\n",
      "           1.8911e-03, -5.0616e-04],\n",
      "         [ 8.5831e-05,  6.2943e-05,  1.8921e-03,  ...,  1.7242e-03,\n",
      "           1.8921e-03, -5.0616e-04],\n",
      "         [-8.9645e-05,  1.6265e-03,  1.6270e-03,  ...,  8.2397e-04,\n",
      "           1.6270e-03, -8.9645e-05]],\n",
      "\n",
      "        [[-7.4768e-04, -3.7766e-04, -3.7384e-04,  ..., -3.7766e-04,\n",
      "          -3.7766e-04,  9.1839e-04],\n",
      "         [-7.4768e-04, -1.4038e-03,  9.1553e-04,  ...,  1.0185e-03,\n",
      "          -1.4038e-03, -3.7956e-04],\n",
      "         [-7.4768e-04, -1.4038e-03,  1.3275e-03,  ..., -4.9591e-04,\n",
      "           4.1962e-04, -3.7956e-04],\n",
      "         ...,\n",
      "         [-7.4768e-04, -1.4038e-03,  1.0223e-03,  ..., -6.3705e-04,\n",
      "           1.0185e-03, -3.7956e-04],\n",
      "         [-7.4768e-04, -1.4038e-03,  1.0147e-03,  ..., -7.5054e-04,\n",
      "           1.0185e-03, -3.7956e-04],\n",
      "         [ 9.1743e-04, -1.3990e-03, -1.3987e-03,  ..., -1.3771e-03,\n",
      "          -1.3981e-03,  9.1743e-04]],\n",
      "\n",
      "        ...,\n",
      "\n",
      "        [[-4.8447e-04,  3.8147e-04,  3.8147e-04,  ...,  3.8147e-04,\n",
      "           3.8147e-04,  2.0599e-04],\n",
      "         [-4.8447e-04, -9.5749e-04,  2.0599e-04,  ...,  9.9182e-04,\n",
      "          -9.5749e-04,  1.1292e-03],\n",
      "         [-4.8447e-04, -9.5749e-04, -1.3733e-03,  ...,  1.7319e-03,\n",
      "          -1.7624e-03,  1.1292e-03],\n",
      "         ...,\n",
      "         [-4.8447e-04, -9.5749e-04,  9.9182e-04,  ..., -7.3433e-04,\n",
      "           9.9182e-04,  1.1292e-03],\n",
      "         [-4.8447e-04, -9.5749e-04,  9.9087e-04,  ...,  1.7166e-03,\n",
      "           9.9087e-04,  1.1292e-03],\n",
      "         [ 2.0599e-04, -9.3842e-04, -9.3842e-04,  ..., -5.0259e-04,\n",
      "          -9.3842e-04,  2.0599e-04]],\n",
      "\n",
      "        [[ 1.8005e-03,  2.7847e-04,  2.8229e-04,  ...,  2.7847e-04,\n",
      "           2.7847e-04, -7.7438e-04],\n",
      "         [ 1.8024e-03, -5.0354e-04, -7.7820e-04,  ..., -1.8768e-03,\n",
      "          -5.0354e-04,  1.2016e-03],\n",
      "         [ 1.8024e-03, -5.0354e-04,  1.6613e-03,  ..., -3.8147e-05,\n",
      "           1.3466e-03,  1.2016e-03],\n",
      "         ...,\n",
      "         [ 1.8024e-03, -5.0354e-04, -1.8768e-03,  ...,  9.1171e-04,\n",
      "          -1.8764e-03,  1.2016e-03],\n",
      "         [ 1.8024e-03, -5.0354e-04, -1.8768e-03,  ..., -1.9431e-04,\n",
      "          -1.8764e-03,  1.2016e-03],\n",
      "         [-7.7438e-04,  1.2398e-03,  1.2398e-03,  ..., -2.2697e-04,\n",
      "           1.2398e-03, -7.7438e-04]],\n",
      "\n",
      "        [[ 7.1418e-04, -3.0231e-04, -3.0136e-04,  ..., -3.0231e-04,\n",
      "          -3.0231e-04, -1.5459e-03],\n",
      "         [ 7.1430e-04,  4.3297e-04, -1.5488e-03,  ..., -4.9591e-05,\n",
      "           4.3297e-04,  5.0354e-04],\n",
      "         [ 7.1430e-04,  4.3297e-04,  1.9379e-03,  ...,  1.5335e-03,\n",
      "          -5.6458e-04,  5.0354e-04],\n",
      "         ...,\n",
      "         [ 7.1430e-04,  4.3297e-04, -5.0545e-05,  ...,  6.0272e-04,\n",
      "          -4.9591e-05,  5.0354e-04],\n",
      "         [ 7.1430e-04,  4.3297e-04, -5.0545e-05,  ...,  5.1117e-04,\n",
      "          -5.0187e-05,  5.0354e-04],\n",
      "         [-1.5450e-03, -7.6294e-06, -7.6294e-06,  ..., -1.1826e-04,\n",
      "          -7.6294e-06, -1.5450e-03]]], device='cuda:0',\n",
      "       grad_fn=<SelectBackward0>)\n",
      "index: 12\n",
      "tensor([[[ 8.6975e-04, -1.6994e-03, -1.6994e-03,  ...,  5.6648e-04,\n",
      "          -1.6994e-03,  1.4038e-03],\n",
      "         [ 8.6975e-04,  1.4046e-03,  1.4038e-03,  ..., -7.3051e-04,\n",
      "          -7.3624e-04, -8.6403e-04],\n",
      "         [ 8.6975e-04,  1.4048e-03, -1.9455e-03,  ..., -7.3051e-04,\n",
      "          -1.6994e-03, -8.6403e-04],\n",
      "         ...,\n",
      "         [ 8.6975e-04, -7.3034e-04,  9.8801e-04,  ...,  2.4414e-04,\n",
      "           7.2098e-04, -8.6403e-04],\n",
      "         [ 8.6975e-04, -7.3624e-04, -5.1117e-04,  ...,  1.3280e-03,\n",
      "          -7.3051e-04, -8.6403e-04],\n",
      "         [ 1.4038e-03,  1.7395e-03,  1.7395e-03,  ...,  1.7395e-03,\n",
      "           1.7395e-03,  1.4038e-03]],\n",
      "\n",
      "        [[ 8.7738e-05,  8.1253e-04,  8.1253e-04,  ...,  7.3242e-04,\n",
      "           8.1253e-04, -8.9645e-05],\n",
      "         [ 8.5831e-05, -8.9645e-05, -9.1553e-05,  ...,  1.8921e-03,\n",
      "           6.2943e-05, -5.0616e-04],\n",
      "         [ 8.5831e-05, -8.9645e-05,  1.6785e-03,  ...,  1.8911e-03,\n",
      "           8.1229e-04, -5.0616e-04],\n",
      "         ...,\n",
      "         [ 8.5831e-05,  1.8921e-03,  1.5869e-03,  ...,  5.7983e-04,\n",
      "           1.3123e-03, -5.0616e-04],\n",
      "         [ 8.5831e-05,  6.2943e-05,  1.9379e-03,  ...,  1.2207e-04,\n",
      "           1.8921e-03, -5.0616e-04],\n",
      "         [-8.9645e-05,  1.6265e-03,  1.6265e-03,  ...,  1.6270e-03,\n",
      "           1.6265e-03, -8.9645e-05]],\n",
      "\n",
      "        [[-7.4768e-04, -3.7766e-04, -3.7384e-04,  ..., -6.3753e-04,\n",
      "          -3.7766e-04,  9.1839e-04],\n",
      "         [-7.4768e-04,  9.1934e-04,  9.1553e-04,  ...,  1.0147e-03,\n",
      "          -1.4038e-03, -3.7956e-04],\n",
      "         [-7.4768e-04,  9.1934e-04, -3.4332e-04,  ...,  1.0185e-03,\n",
      "          -3.7766e-04, -3.7956e-04],\n",
      "         ...,\n",
      "         [-7.4768e-04,  1.0147e-03, -2.4652e-04,  ..., -3.7384e-04,\n",
      "           1.3885e-03, -3.7956e-04],\n",
      "         [-7.4768e-04, -1.4038e-03,  1.1444e-03,  ...,  1.7548e-03,\n",
      "           1.0147e-03, -3.7956e-04],\n",
      "         [ 9.1743e-04, -1.3990e-03, -1.3990e-03,  ..., -1.3981e-03,\n",
      "          -1.3990e-03,  9.1743e-04]],\n",
      "\n",
      "        ...,\n",
      "\n",
      "        [[-4.8447e-04,  3.8147e-04,  3.8147e-04,  ..., -7.3624e-04,\n",
      "           3.8147e-04,  2.0599e-04],\n",
      "         [-4.8447e-04,  2.0599e-04,  2.0576e-04,  ...,  9.9182e-04,\n",
      "          -9.5749e-04,  1.1292e-03],\n",
      "         [-4.8447e-04,  2.0599e-04,  6.2943e-05,  ...,  9.9182e-04,\n",
      "           3.8147e-04,  1.1292e-03],\n",
      "         ...,\n",
      "         [-4.8447e-04,  9.9134e-04, -1.0185e-03,  ..., -1.5335e-03,\n",
      "          -1.6489e-03,  1.1292e-03],\n",
      "         [-4.8447e-04, -9.5749e-04,  9.5367e-07,  ...,  6.2466e-04,\n",
      "           9.9182e-04,  1.1292e-03],\n",
      "         [ 2.0599e-04, -9.3842e-04, -9.3842e-04,  ..., -9.3842e-04,\n",
      "          -9.3842e-04,  2.0599e-04]],\n",
      "\n",
      "        [[ 1.8005e-03,  2.7847e-04,  2.8229e-04,  ...,  9.1362e-04,\n",
      "           2.7847e-04, -7.7438e-04],\n",
      "         [ 1.8024e-03, -7.7438e-04, -7.7820e-04,  ..., -1.8768e-03,\n",
      "          -5.0354e-04,  1.2016e-03],\n",
      "         [ 1.8024e-03, -7.7438e-04,  1.6327e-03,  ..., -1.8768e-03,\n",
      "           2.7847e-04,  1.2016e-03],\n",
      "         ...,\n",
      "         [ 1.8024e-03, -1.8768e-03,  2.4414e-04,  ...,  1.5106e-03,\n",
      "          -9.8419e-04,  1.2016e-03],\n",
      "         [ 1.8024e-03, -5.0354e-04, -1.9016e-03,  ...,  3.7384e-04,\n",
      "          -1.8768e-03,  1.2016e-03],\n",
      "         [-7.7438e-04,  1.2398e-03,  1.2398e-03,  ...,  1.2398e-03,\n",
      "           1.2398e-03, -7.7438e-04]],\n",
      "\n",
      "        [[ 7.1418e-04, -3.0231e-04, -3.0231e-04,  ...,  6.0463e-04,\n",
      "          -3.0231e-04, -1.5459e-03],\n",
      "         [ 7.1430e-04, -1.5450e-03, -1.5488e-03,  ..., -5.0545e-05,\n",
      "           4.3297e-04,  5.0354e-04],\n",
      "         [ 7.1430e-04, -1.5450e-03, -2.2888e-04,  ..., -5.0068e-05,\n",
      "          -3.0231e-04,  5.0354e-04],\n",
      "         ...,\n",
      "         [ 7.1430e-04, -4.9591e-05,  1.6785e-03,  ...,  2.5940e-04,\n",
      "          -1.1063e-04,  5.0354e-04],\n",
      "         [ 7.1430e-04,  4.3297e-04, -1.0443e-03,  ...,  1.9455e-03,\n",
      "          -5.0068e-05,  5.0354e-04],\n",
      "         [-1.5450e-03, -7.6294e-06, -7.6294e-06,  ..., -7.6294e-06,\n",
      "          -7.6294e-06, -1.5450e-03]]], device='cuda:0',\n",
      "       grad_fn=<SelectBackward0>)\n",
      "index: 13\n",
      "tensor([[[ 8.6975e-04, -1.6994e-03, -1.6987e-03,  ..., -7.3242e-04,\n",
      "          -1.6975e-03,  1.4038e-03],\n",
      "         [ 8.6975e-04,  7.3647e-04, -1.6975e-03,  ...,  8.8501e-04,\n",
      "          -2.7084e-04,  7.3624e-04],\n",
      "         [ 8.6975e-04, -1.6994e-03, -1.2436e-03,  ..., -7.7820e-04,\n",
      "           1.1597e-03, -7.3242e-04],\n",
      "         ...,\n",
      "         [ 1.4038e-03,  9.8801e-04,  1.1940e-03,  ..., -1.2436e-03,\n",
      "          -7.3051e-04, -2.8992e-04],\n",
      "         [ 8.6975e-04, -5.1117e-04,  1.4496e-04,  ..., -4.1962e-04,\n",
      "          -7.3051e-04, -8.6355e-04],\n",
      "         [ 1.4038e-03,  1.7395e-03,  1.7481e-03,  ..., -7.3040e-04,\n",
      "           1.7395e-03,  1.4038e-03]],\n",
      "\n",
      "        [[ 8.7738e-05,  8.1253e-04,  8.1253e-04,  ...,  1.8921e-03,\n",
      "           8.1253e-04, -8.9645e-05],\n",
      "         [ 8.5831e-05,  8.2779e-04,  8.0872e-04,  ...,  1.7242e-03,\n",
      "           7.9346e-04,  8.2779e-04],\n",
      "         [ 8.5831e-05,  8.0872e-04, -6.5613e-04,  ...,  5.1880e-04,\n",
      "          -1.2054e-03,  1.8921e-03],\n",
      "         ...,\n",
      "         [-8.9645e-05,  1.5869e-03,  0.0000e+00,  ..., -6.5613e-04,\n",
      "           1.8921e-03,  5.7220e-04],\n",
      "         [ 8.7738e-05,  1.9379e-03,  1.1597e-03,  ...,  1.9836e-04,\n",
      "           1.8921e-03, -5.0616e-04],\n",
      "         [-8.9645e-05,  1.6270e-03,  1.6479e-03,  ...,  1.8921e-03,\n",
      "           1.6270e-03, -8.9645e-05]],\n",
      "\n",
      "        [[-7.4768e-04, -3.7766e-04, -3.7766e-04,  ...,  1.0147e-03,\n",
      "          -3.7766e-04,  9.1839e-04],\n",
      "         [-7.4768e-04,  4.1962e-04, -3.7384e-04,  ..., -7.4768e-04,\n",
      "          -1.6918e-03,  4.1962e-04],\n",
      "         [-7.4768e-04, -3.7384e-04,  6.4850e-04,  ...,  1.0376e-03,\n",
      "          -1.9836e-04,  1.0185e-03],\n",
      "         ...,\n",
      "         [ 9.1934e-04, -2.4796e-04, -4.9591e-04,  ...,  6.4850e-04,\n",
      "           1.0147e-03, -7.1526e-04],\n",
      "         [-7.4768e-04,  1.1444e-03, -1.1292e-03,  ...,  1.4191e-03,\n",
      "           1.0147e-03, -3.7956e-04],\n",
      "         [ 9.1743e-04, -1.3990e-03,  1.2283e-03,  ...,  1.0185e-03,\n",
      "          -1.3981e-03,  9.1743e-04]],\n",
      "\n",
      "        ...,\n",
      "\n",
      "        [[-4.8447e-04,  3.8147e-04,  3.8147e-04,  ...,  9.9182e-04,\n",
      "           3.8147e-04,  2.0599e-04],\n",
      "         [-4.8447e-04, -1.7624e-03,  3.8147e-04,  ...,  1.7166e-03,\n",
      "          -3.0518e-04, -1.7624e-03],\n",
      "         [-4.8447e-04,  3.8147e-04,  1.2722e-03,  ..., -1.4153e-03,\n",
      "          -3.4332e-04,  9.9182e-04],\n",
      "         ...,\n",
      "         [ 2.0599e-04, -1.0176e-03,  1.7319e-03,  ...,  1.2741e-03,\n",
      "           9.9087e-04, -1.8654e-03],\n",
      "         [-4.8447e-04,  0.0000e+00,  1.4648e-03,  ...,  1.5965e-03,\n",
      "           9.9182e-04,  1.1292e-03],\n",
      "         [ 2.0599e-04, -9.4032e-04, -1.4992e-03,  ...,  9.9182e-04,\n",
      "          -9.3842e-04,  2.0599e-04]],\n",
      "\n",
      "        [[ 1.8005e-03,  2.7847e-04,  2.7847e-04,  ..., -1.8768e-03,\n",
      "           2.7847e-04, -7.7438e-04],\n",
      "         [ 1.8024e-03,  1.3466e-03,  2.7466e-04,  ..., -1.9836e-04,\n",
      "           7.2861e-04,  1.3466e-03],\n",
      "         [ 1.8024e-03,  2.7466e-04,  6.7139e-04,  ..., -9.4604e-04,\n",
      "           1.7624e-03, -1.8768e-03],\n",
      "         ...,\n",
      "         [-7.7438e-04,  2.4414e-04, -3.8147e-05,  ...,  6.7139e-04,\n",
      "          -1.8768e-03,  7.4768e-04],\n",
      "         [ 1.8005e-03, -1.9016e-03,  1.3847e-03,  ..., -3.7003e-04,\n",
      "          -1.8768e-03,  1.2016e-03],\n",
      "         [-7.7438e-04,  1.2379e-03,  3.4809e-04,  ..., -1.8768e-03,\n",
      "           1.2398e-03, -7.7438e-04]],\n",
      "\n",
      "        [[ 7.1418e-04, -3.0231e-04, -3.0231e-04,  ..., -5.0187e-05,\n",
      "          -3.0231e-04, -1.5459e-03],\n",
      "         [ 7.1430e-04, -5.6458e-04, -3.0136e-04,  ...,  5.1117e-04,\n",
      "          -1.2131e-03, -5.6458e-04],\n",
      "         [ 7.1430e-04, -3.0136e-04, -1.3733e-03,  ...,  1.8997e-03,\n",
      "          -1.6785e-03, -5.0545e-05],\n",
      "         ...,\n",
      "         [-1.5450e-03,  1.6785e-03,  1.5335e-03,  ..., -1.3733e-03,\n",
      "          -4.5776e-05, -7.2715e-04],\n",
      "         [ 7.1430e-04, -1.0448e-03,  1.2131e-03,  ...,  9.0027e-04,\n",
      "          -5.0157e-05,  5.0354e-04],\n",
      "         [-1.5450e-03, -7.6294e-06,  2.2125e-04,  ..., -4.9591e-05,\n",
      "          -7.6294e-06, -1.5450e-03]]], device='cuda:0',\n",
      "       grad_fn=<SelectBackward0>)\n",
      "index: 14\n",
      "tensor([[[ 8.6975e-04, -1.6994e-03,  1.4038e-03,  ..., -7.3051e-04,\n",
      "          -1.6975e-03,  1.4038e-03],\n",
      "         [ 8.7357e-04, -1.6987e-03,  1.4496e-04,  ...,  8.9264e-04,\n",
      "          -2.8992e-04,  7.3624e-04],\n",
      "         [ 1.4038e-03,  1.1597e-03,  1.8387e-03,  ...,  8.3733e-04,\n",
      "           1.1597e-03, -7.3242e-04],\n",
      "         ...,\n",
      "         [-7.3051e-04,  1.4496e-04, -1.5793e-03,  ...,  2.7180e-04,\n",
      "           8.8501e-04, -9.8801e-04],\n",
      "         [ 8.6975e-04,  9.0456e-04, -8.6212e-04,  ..., -4.1962e-04,\n",
      "          -1.6060e-03, -1.6050e-03],\n",
      "         [ 1.4038e-03,  1.7395e-03,  1.7395e-03,  ..., -1.6051e-03,\n",
      "           1.7395e-03,  1.4038e-03]],\n",
      "\n",
      "        [[ 8.7738e-05,  8.1253e-04, -8.9645e-05,  ...,  1.8921e-03,\n",
      "           8.1253e-04, -8.9645e-05],\n",
      "         [ 8.5831e-05,  8.0872e-04,  1.1597e-03,  ...,  1.7395e-03,\n",
      "           5.6458e-04,  8.2779e-04],\n",
      "         [-8.9645e-05, -1.2054e-03,  1.1597e-03,  ..., -4.5776e-04,\n",
      "          -1.1902e-03,  1.8921e-03],\n",
      "         ...,\n",
      "         [ 1.8921e-03,  1.1520e-03, -1.7700e-03,  ..., -4.8828e-04,\n",
      "           1.7242e-03,  1.0376e-03],\n",
      "         [ 8.5831e-05,  1.7700e-03, -5.0354e-04,  ...,  1.8311e-04,\n",
      "           8.2397e-04,  8.2970e-04],\n",
      "         [-8.9645e-05,  1.6265e-03,  1.6270e-03,  ...,  8.3160e-04,\n",
      "           1.6270e-03, -8.9645e-05]],\n",
      "\n",
      "        [[-7.4768e-04, -3.7766e-04,  9.1553e-04,  ...,  1.0185e-03,\n",
      "          -3.7766e-04,  9.1839e-04],\n",
      "         [-7.4768e-04, -3.7384e-04, -1.1292e-03,  ..., -7.4768e-04,\n",
      "          -7.1526e-04,  4.1866e-04],\n",
      "         [ 9.1553e-04, -1.9836e-04,  9.5940e-04,  ..., -6.8665e-05,\n",
      "          -1.9836e-04,  1.0185e-03],\n",
      "         ...,\n",
      "         [ 1.0223e-03, -1.1292e-03, -2.5940e-04,  ...,  3.8147e-06,\n",
      "          -7.4768e-04, -9.8419e-04],\n",
      "         [-7.4768e-04, -9.7656e-04, -3.8147e-04,  ...,  1.4191e-03,\n",
      "          -1.3733e-03, -1.3771e-03],\n",
      "         [ 9.1743e-04, -1.3990e-03, -1.3981e-03,  ..., -1.3771e-03,\n",
      "          -1.3981e-03,  9.1743e-04]],\n",
      "\n",
      "        ...,\n",
      "\n",
      "        [[-4.8447e-04,  3.8147e-04,  2.0578e-04,  ...,  9.9182e-04,\n",
      "           3.8147e-04,  2.0599e-04],\n",
      "         [-4.8447e-04,  3.8147e-04,  1.4591e-03,  ...,  1.7166e-03,\n",
      "          -1.8616e-03, -1.7624e-03],\n",
      "         [ 2.0599e-04, -3.4142e-04, -1.2518e-03,  ...,  8.0490e-04,\n",
      "          -3.4142e-04,  9.9182e-04],\n",
      "         ...,\n",
      "         [ 9.9182e-04,  1.4610e-03, -1.7624e-03,  ...,  1.4801e-03,\n",
      "           1.7166e-03,  1.4877e-03],\n",
      "         [-4.8447e-04, -5.4026e-04,  1.1292e-03,  ...,  1.5960e-03,\n",
      "          -5.0354e-04, -5.0354e-04],\n",
      "         [ 2.0599e-04, -9.3842e-04, -9.4032e-04,  ..., -5.0354e-04,\n",
      "          -9.3842e-04,  2.0599e-04]],\n",
      "\n",
      "        [[ 1.8005e-03,  2.7847e-04, -7.7438e-04,  ..., -1.8768e-03,\n",
      "           2.7847e-04, -7.7438e-04],\n",
      "         [ 1.8005e-03,  2.8229e-04,  1.3885e-03,  ..., -1.9073e-04,\n",
      "           7.4959e-04,  1.3466e-03],\n",
      "         [-7.7438e-04,  1.7700e-03, -4.9019e-04,  ..., -1.5411e-03,\n",
      "           1.7624e-03, -1.8768e-03],\n",
      "         ...,\n",
      "         [-1.8768e-03,  1.3885e-03,  1.3733e-03,  ...,  2.4414e-04,\n",
      "          -1.9073e-04,  1.1902e-03],\n",
      "         [ 1.8024e-03, -8.6784e-04,  1.1978e-03,  ..., -3.7003e-04,\n",
      "          -2.2888e-04, -2.2888e-04],\n",
      "         [-7.7438e-04,  1.2398e-03,  1.2379e-03,  ..., -2.2697e-04,\n",
      "           1.2398e-03, -7.7438e-04]],\n",
      "\n",
      "        [[ 7.1418e-04, -3.0231e-04, -1.5458e-03,  ..., -5.0068e-05,\n",
      "          -3.0231e-04, -1.5459e-03],\n",
      "         [ 7.1430e-04, -3.0136e-04,  1.2207e-03,  ...,  5.0354e-04,\n",
      "          -7.2861e-04, -5.6458e-04],\n",
      "         [-1.5450e-03, -1.6785e-03, -1.1520e-03,  ...,  5.3406e-04,\n",
      "          -1.6785e-03, -5.0068e-05],\n",
      "         ...,\n",
      "         [-4.9591e-05,  1.2131e-03, -1.3275e-03,  ..., -7.9346e-04,\n",
      "           5.0735e-04,  1.7452e-04],\n",
      "         [ 7.1430e-04,  1.1253e-03,  5.0354e-04,  ...,  9.0027e-04,\n",
      "          -1.1730e-04, -1.1706e-04],\n",
      "         [-1.5450e-03, -7.6294e-06, -7.6294e-06,  ..., -1.1826e-04,\n",
      "          -7.6294e-06, -1.5450e-03]]], device='cuda:0',\n",
      "       grad_fn=<SelectBackward0>)\n",
      "index: 15\n",
      "tensor([[[ 8.6975e-04, -1.6994e-03, -1.6987e-03,  ...,  7.3624e-04,\n",
      "          -1.6994e-03,  1.4038e-03],\n",
      "         [ 8.6975e-04,  1.4038e-03,  1.7395e-03,  ...,  8.8501e-04,\n",
      "           1.1940e-03, -8.6403e-04],\n",
      "         [ 8.6975e-04, -7.2861e-04,  1.5259e-04,  ...,  1.8921e-03,\n",
      "          -7.3051e-04,  7.3624e-04],\n",
      "         ...,\n",
      "         [ 8.6975e-04,  1.4046e-03,  1.7471e-03,  ...,  1.1940e-03,\n",
      "          -7.2861e-04, -8.6403e-04],\n",
      "         [ 8.6975e-04, -7.3051e-04, -1.9417e-03,  ..., -7.3051e-04,\n",
      "          -7.3624e-04, -8.6403e-04],\n",
      "         [ 1.4038e-03,  1.7395e-03, -8.6379e-04,  ..., -7.3051e-04,\n",
      "           1.7395e-03,  1.4038e-03]],\n",
      "\n",
      "        [[ 8.7738e-05,  8.1253e-04,  8.1253e-04,  ...,  8.2779e-04,\n",
      "           8.1253e-04, -8.9645e-05],\n",
      "         [ 8.5831e-05, -9.1553e-05,  1.6270e-03,  ...,  1.7242e-03,\n",
      "           0.0000e+00, -5.0604e-04],\n",
      "         [ 8.5831e-05,  1.8921e-03,  1.1520e-03,  ...,  4.2725e-04,\n",
      "           1.8921e-03,  8.2779e-04],\n",
      "         ...,\n",
      "         [ 8.5831e-05, -8.9645e-05,  1.6479e-03,  ...,  0.0000e+00,\n",
      "           1.8916e-03, -5.0616e-04],\n",
      "         [ 8.5831e-05,  1.8921e-03,  1.6708e-03,  ...,  1.8921e-03,\n",
      "           6.2943e-05, -5.0616e-04],\n",
      "         [-8.9645e-05,  1.6265e-03, -5.0354e-04,  ...,  1.8921e-03,\n",
      "           1.6265e-03, -8.9645e-05]],\n",
      "\n",
      "        [[-7.4768e-04, -3.7766e-04, -3.7766e-04,  ...,  4.1962e-04,\n",
      "          -3.7766e-04,  9.1839e-04],\n",
      "         [-7.4768e-04,  9.1553e-04, -1.3981e-03,  ..., -7.4768e-04,\n",
      "          -4.9520e-04, -3.7956e-04],\n",
      "         [-7.4768e-04,  1.0223e-03, -1.1292e-03,  ..., -1.5488e-03,\n",
      "           1.0147e-03,  4.1866e-04],\n",
      "         ...,\n",
      "         [-7.4768e-04,  9.1934e-04,  1.2283e-03,  ..., -4.9591e-04,\n",
      "           1.0185e-03, -3.7956e-04],\n",
      "         [-7.4768e-04,  1.0147e-03, -3.4332e-04,  ...,  1.0147e-03,\n",
      "          -1.4038e-03, -3.7956e-04],\n",
      "         [ 9.1743e-04, -1.3986e-03, -3.8147e-04,  ...,  1.0185e-03,\n",
      "          -1.3990e-03,  9.1743e-04]],\n",
      "\n",
      "        ...,\n",
      "\n",
      "        [[-4.8447e-04,  3.8147e-04,  3.8147e-04,  ..., -1.7624e-03,\n",
      "           3.8147e-04,  2.0599e-04],\n",
      "         [-4.8447e-04,  2.0599e-04, -9.3842e-04,  ...,  1.7166e-03,\n",
      "           1.7319e-03,  1.1292e-03],\n",
      "         [-4.8447e-04,  9.9182e-04,  1.4610e-03,  ..., -5.7602e-04,\n",
      "           9.9182e-04, -1.7624e-03],\n",
      "         ...,\n",
      "         [-4.8447e-04,  2.0599e-04, -1.5030e-03,  ...,  1.7281e-03,\n",
      "           9.9182e-04,  1.1292e-03],\n",
      "         [-4.8447e-04,  9.9182e-04,  6.1035e-05,  ...,  9.9182e-04,\n",
      "          -9.5558e-04,  1.1292e-03],\n",
      "         [ 2.0599e-04, -9.3842e-04,  1.1292e-03,  ...,  9.9182e-04,\n",
      "          -9.3842e-04,  2.0599e-04]],\n",
      "\n",
      "        [[ 1.8005e-03,  2.7847e-04,  2.8229e-04,  ...,  1.3428e-03,\n",
      "           2.7847e-04, -7.7438e-04],\n",
      "         [ 1.8024e-03, -7.7438e-04,  1.2360e-03,  ..., -1.9073e-04,\n",
      "          -3.9101e-05,  1.2016e-03],\n",
      "         [ 1.8024e-03, -1.8768e-03,  1.3885e-03,  ...,  1.4534e-03,\n",
      "          -1.8768e-03,  1.3466e-03],\n",
      "         ...,\n",
      "         [ 1.8024e-03, -7.7438e-04,  3.4714e-04,  ..., -3.8147e-05,\n",
      "          -1.8768e-03,  1.2016e-03],\n",
      "         [ 1.8024e-03, -1.8768e-03,  1.6174e-03,  ..., -1.8768e-03,\n",
      "          -5.0354e-04,  1.2016e-03],\n",
      "         [-7.7438e-04,  1.2398e-03,  1.2016e-03,  ..., -1.8768e-03,\n",
      "           1.2398e-03, -7.7438e-04]],\n",
      "\n",
      "        [[ 7.1418e-04, -3.0231e-04, -3.0136e-04,  ..., -5.6446e-04,\n",
      "          -3.0231e-04, -1.5459e-03],\n",
      "         [ 7.1430e-04, -1.5450e-03,  0.0000e+00,  ...,  5.0926e-04,\n",
      "           1.5335e-03,  5.0354e-04],\n",
      "         [ 7.1430e-04, -4.9591e-05,  1.2131e-03,  ..., -1.8768e-03,\n",
      "          -4.9591e-05, -5.6458e-04],\n",
      "         ...,\n",
      "         [ 7.1430e-04, -1.5450e-03,  2.1362e-04,  ...,  1.5335e-03,\n",
      "          -4.9591e-05,  5.0354e-04],\n",
      "         [ 7.1430e-04, -4.9591e-05, -2.2888e-04,  ..., -5.3406e-05,\n",
      "           4.3392e-04,  5.0354e-04],\n",
      "         [-1.5450e-03, -7.6294e-06,  5.0354e-04,  ..., -4.9591e-05,\n",
      "          -7.6294e-06, -1.5450e-03]]], device='cuda:0',\n",
      "       grad_fn=<SelectBackward0>)\n"
     ]
    }
   ],
   "source": [
    "import matplotlib.pyplot as plt\n",
    "\n",
    "model.eval()\n",
    "\n",
    "# Get 16 random samples from the test split\n",
    "random_indices = torch.randint(0, len(test_dataset), (16,))\n",
    "samples = [test_dataset[i][0] for i in random_indices]\n",
    "\n",
    "# Move the samples to the device\n",
    "samples = torch.stack(samples).to(device)\n",
    "\n",
    "reconstructed_samples, _, _, _ = model(samples)\n",
    "\n",
    "# Denormalize the samples\n",
    "samples = (samples * 0.5) + 0.5\n",
    "reconstructed_samples = (reconstructed_samples * 0.5) + 0.5\n",
    "\n",
    "# Visualize the original and reconstructed images\n",
    "fig, axes = plt.subplots(4, 8, figsize=(12, 6))\n",
    "axes = axes.flatten()\n",
    "\n",
    "for i in range(16):\n",
    "    axes[i].imshow(samples[i].squeeze().cpu(), cmap='gray')\n",
    "    axes[i].axis('off')\n",
    "    axes[i+16].imshow(reconstructed_samples[i].squeeze().detach().cpu(), cmap='gray')\n",
    "    axes[i+16].axis('off')\n",
    "\n",
    "plt.tight_layout()\n",
    "plt.show()\n",
    "x_hat, z_e, z_q, indices = model(samples)\n",
    "print(z_q.shape)\n",
    "for i in range(16):\n",
    "    print(f\"index: {i}\")\n",
    "    print(z_q[i])\n"
   ]
  }
 ],
 "metadata": {
  "kernelspec": {
   "display_name": "fuyu",
   "language": "python",
   "name": "python3"
  },
  "language_info": {
   "codemirror_mode": {
    "name": "ipython",
    "version": 3
   },
   "file_extension": ".py",
   "mimetype": "text/x-python",
   "name": "python",
   "nbconvert_exporter": "python",
   "pygments_lexer": "ipython3",
   "version": "3.10.13"
  }
 },
 "nbformat": 4,
 "nbformat_minor": 2
}
